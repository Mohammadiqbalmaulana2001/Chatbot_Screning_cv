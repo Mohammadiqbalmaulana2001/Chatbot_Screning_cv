{
  "cells": [
    {
      "cell_type": "markdown",
      "id": "d18e160a",
      "metadata": {
        "id": "d18e160a"
      },
      "source": [
        "# **AI Chatbot Using Long Short Term Memory Algorithm**\n",
        "\n",
        "<b>Chatbot</b> merupakan bagian dari Natural Language Processing yang digunakan untuk percakapan dengan pengguna melalui teks dan ucapan. Pada praktik hari ini kita akan membuat sebuah chat otomatis atau chatbot tentang Screning CV dari mahasiswa dan mahasiswi dari program Kampus Merdeka.\n",
        "Dalam tahapan Chatbot ini ada tahapan yang harus kita perhatikan yaitu,\n",
        "\n",
        "1. Import Library\n",
        "2. Load Dataset\n",
        "3. Preprocessing Data\n",
        "4. Input Length, Output Length and Vocabulary\n",
        "5. Long Short Term Memory Model\n",
        "6. Evaluation Model Analysis\n",
        "7. Testing Chatbot\n",
        "8. Save The Model\n",
        "\n",
        "Dalam proyek ini, kita akan membuat chatbot tentang Screning CV\n",
        "\n",
        "Sumber code: [Medium - Going Merry With Tensorflow 2.0](https://medium.com/analytics-vidhya/chatbot-with-tensorflow-2-0-going-merry-2f79284a6104)"
      ]
    },
    {
      "cell_type": "markdown",
      "id": "9ZsdBYNrTfgg",
      "metadata": {
        "id": "9ZsdBYNrTfgg"
      },
      "source": [
        "## **Instalasi Library Pengenal Suara**\n",
        "\n",
        "Instalasi package sangat diperlukan ketika kita membutuhkan suatu fitur atau library yang akan kita gunakan. Pada proyek AI Chatbot membutuhkan package library yaitu **Speech Recognition** dan **Google Text To Speech** yang harus di install."
      ]
    },
    {
      "cell_type": "code",
      "execution_count": 1,
      "id": "Q2lOz2OmFhsz",
      "metadata": {
        "colab": {
          "base_uri": "https://localhost:8080/"
        },
        "id": "Q2lOz2OmFhsz",
        "outputId": "e14147fa-297f-4340-b3d0-a450f2b9c43f"
      },
      "outputs": [
        {
          "name": "stderr",
          "output_type": "stream",
          "text": [
            "WARNING: There was an error checking the latest version of pip.\n"
          ]
        }
      ],
      "source": [
        "!pip -q install speechrecognition"
      ]
    },
    {
      "cell_type": "code",
      "execution_count": 2,
      "id": "OcZ28yqJFcR8",
      "metadata": {
        "id": "OcZ28yqJFcR8"
      },
      "outputs": [
        {
          "name": "stderr",
          "output_type": "stream",
          "text": [
            "WARNING: There was an error checking the latest version of pip.\n"
          ]
        }
      ],
      "source": [
        "!pip -q install gtts"
      ]
    },
    {
      "cell_type": "markdown",
      "id": "mDpV6eE0DX_f",
      "metadata": {
        "id": "mDpV6eE0DX_f"
      },
      "source": [
        "**Notes : Penginstalan dengan tanda -q maksudnya adalah mode quiet atau diam sehingga tidak mengeluarkan output saat eksekusi**"
      ]
    },
    {
      "cell_type": "markdown",
      "id": "MZMVLNyqYTCK",
      "metadata": {
        "id": "MZMVLNyqYTCK"
      },
      "source": [
        "# **Import Library**\n",
        "\n",
        "Tahapan pertama sebelum melakukan eksplorasi dan praproses pada data adalah memasukan library yang akan digunakan untuk menganalisa dataset dengan menggunakan metode Deep Learning seperti Neural Network dalam pengolahan teks, Chatbot dll. Library yang saya gunakan yaitu NumPy untuk komputasi matematika, Matplotlib untuk visualisasi model data, Natural Language Toolkit atau NLTK untuk pengolahan teks, Pandas untuk membaca data, serta Tensorflow untuk model pada data menggunakan algoritma LSTM (Long Short Term Memory)."
      ]
    },
    {
      "cell_type": "code",
      "execution_count": 3,
      "id": "df6e6af3",
      "metadata": {
        "id": "df6e6af3"
      },
      "outputs": [],
      "source": [
        "# Import Libraries\n",
        "import json\n",
        "import nltk\n",
        "import time\n",
        "import random\n",
        "import string\n",
        "import pickle\n",
        "import numpy as np\n",
        "import pandas as pd\n",
        "from gtts import gTTS\n",
        "from io import BytesIO\n",
        "import tensorflow as tf\n",
        "import IPython.display as ipd\n",
        "import speech_recognition as sr\n",
        "import matplotlib.pyplot as plt\n",
        "from nltk.stem import WordNetLemmatizer\n",
        "from tensorflow.keras.models import Model\n",
        "from tensorflow.keras.utils import plot_model\n",
        "from sklearn.preprocessing import LabelEncoder\n",
        "from tensorflow.keras.preprocessing.text import Tokenizer\n",
        "from tensorflow.keras.layers import Input, Embedding, LSTM\n",
        "from tensorflow.keras.preprocessing.sequence import pad_sequences\n",
        "from tensorflow.keras.layers import Flatten, Dense, GlobalMaxPool1D"
      ]
    },
    {
      "cell_type": "markdown",
      "id": "XFqXivzfTGhq",
      "metadata": {
        "id": "XFqXivzfTGhq"
      },
      "source": [
        "## **Download NLTK Package**"
      ]
    },
    {
      "cell_type": "code",
      "execution_count": 4,
      "id": "ZFHfBZ3mO1QE",
      "metadata": {
        "colab": {
          "base_uri": "https://localhost:8080/"
        },
        "id": "ZFHfBZ3mO1QE",
        "outputId": "5cfea5dc-b1c7-4388-a80e-e6741085dfb5"
      },
      "outputs": [
        {
          "name": "stderr",
          "output_type": "stream",
          "text": [
            "[nltk_data] Downloading package punkt to\n",
            "[nltk_data]     C:\\Users\\PC\\AppData\\Roaming\\nltk_data...\n",
            "[nltk_data]   Package punkt is already up-to-date!\n",
            "[nltk_data] Downloading package wordnet to\n",
            "[nltk_data]     C:\\Users\\PC\\AppData\\Roaming\\nltk_data...\n",
            "[nltk_data]   Package wordnet is already up-to-date!\n",
            "[nltk_data] Downloading package omw-1.4 to\n",
            "[nltk_data]     C:\\Users\\PC\\AppData\\Roaming\\nltk_data...\n",
            "[nltk_data]   Package omw-1.4 is already up-to-date!\n"
          ]
        },
        {
          "data": {
            "text/plain": [
              "True"
            ]
          },
          "execution_count": 4,
          "metadata": {},
          "output_type": "execute_result"
        }
      ],
      "source": [
        "# Package sentence tokenizer\n",
        "nltk.download('punkt')\n",
        "# Package lemmatization\n",
        "nltk.download('wordnet')\n",
        "# Package multilingual wordnet data\n",
        "nltk.download('omw-1.4')"
      ]
    },
    {
      "cell_type": "markdown",
      "id": "gLGpuyY9aMwW",
      "metadata": {
        "id": "gLGpuyY9aMwW"
      },
      "source": [
        "# **Load Dataset Json**\n",
        "\n",
        "Setelah import library, tahapan selanjutnya adalah me-load dataset yang telah disediakan. Dataset yang digunakan berupa format **.json** yang sangat cocok untuk membuat model Chatbot.\n",
        "\n",
        "Data Json merupakan data yang termasuk dalam *semi structured* yang dimana data ini menampung beberapa bagian data seperti **tag**, **pattern**, **context**, dan **response**."
      ]
    },
    {
      "cell_type": "code",
      "execution_count": 5,
      "id": "JD4ILKqFZ_hf",
      "metadata": {
        "id": "JD4ILKqFZ_hf"
      },
      "outputs": [],
      "source": [
        "# Importing the dataset\n",
        "with open('Screning_CV.json') as content:\n",
        "  data1 = json.load(content)\n",
        "\n",
        "# Mendapatkan semua data ke dalam list\n",
        "tags = [] # data tag\n",
        "inputs = [] # data input atau pattern\n",
        "responses = {} # data respon\n",
        "words = [] # Data kata\n",
        "classes = [] # Data Kelas atau Tag\n",
        "documents = [] # Data Kalimat Dokumen\n",
        "ignore_words = ['?', '!'] # Mengabaikan tanda spesial karakter\n",
        "# Tambahkan data intents dalam json\n",
        "for intent in data1['intents']:\n",
        "  responses[intent['tag']]=intent['responses']\n",
        "  for lines in intent['patterns']:\n",
        "    inputs.append(lines)\n",
        "    tags.append(intent['tag'])\n",
        "    # digunakan untuk pattern atau teks pertanyaan dalam json\n",
        "    for pattern in intent['patterns']:\n",
        "      w = nltk.word_tokenize(pattern)\n",
        "      words.extend(w)\n",
        "      documents.append((w, intent['tag']))\n",
        "      # tambahkan ke dalam list kelas dalam data\n",
        "      if intent['tag'] not in classes:\n",
        "        classes.append(intent['tag'])\n",
        "\n",
        "# Konversi data json ke dalam dataframe\n",
        "data = pd.DataFrame({\"patterns\":inputs, \"tags\":tags})"
      ]
    },
    {
      "cell_type": "code",
      "execution_count": 6,
      "id": "5N0s7BObcv5-",
      "metadata": {
        "colab": {
          "base_uri": "https://localhost:8080/",
          "height": 423
        },
        "id": "5N0s7BObcv5-",
        "outputId": "58a44006-1146-4ef6-aa06-1e4901f00355"
      },
      "outputs": [
        {
          "data": {
            "text/html": [
              "<div>\n",
              "<style scoped>\n",
              "    .dataframe tbody tr th:only-of-type {\n",
              "        vertical-align: middle;\n",
              "    }\n",
              "\n",
              "    .dataframe tbody tr th {\n",
              "        vertical-align: top;\n",
              "    }\n",
              "\n",
              "    .dataframe thead th {\n",
              "        text-align: right;\n",
              "    }\n",
              "</style>\n",
              "<table border=\"1\" class=\"dataframe\">\n",
              "  <thead>\n",
              "    <tr style=\"text-align: right;\">\n",
              "      <th></th>\n",
              "      <th>patterns</th>\n",
              "      <th>tags</th>\n",
              "    </tr>\n",
              "  </thead>\n",
              "  <tbody>\n",
              "    <tr>\n",
              "      <th>0</th>\n",
              "      <td>hallo</td>\n",
              "      <td>greeting</td>\n",
              "    </tr>\n",
              "    <tr>\n",
              "      <th>1</th>\n",
              "      <td>hai</td>\n",
              "      <td>greeting</td>\n",
              "    </tr>\n",
              "    <tr>\n",
              "      <th>2</th>\n",
              "      <td>halo</td>\n",
              "      <td>greeting</td>\n",
              "    </tr>\n",
              "    <tr>\n",
              "      <th>3</th>\n",
              "      <td>hei</td>\n",
              "      <td>greeting</td>\n",
              "    </tr>\n",
              "    <tr>\n",
              "      <th>4</th>\n",
              "      <td>hi</td>\n",
              "      <td>greeting</td>\n",
              "    </tr>\n",
              "    <tr>\n",
              "      <th>...</th>\n",
              "      <td>...</td>\n",
              "      <td>...</td>\n",
              "    </tr>\n",
              "    <tr>\n",
              "      <th>74</th>\n",
              "      <td>Apa manfaat yang diperoleh kandidat dengan men...</td>\n",
              "      <td>minQ_benefit_candidates</td>\n",
              "    </tr>\n",
              "    <tr>\n",
              "      <th>75</th>\n",
              "      <td>Apakah minQ dapat diintegrasikan dengan API?</td>\n",
              "      <td>minQ_integration_api</td>\n",
              "    </tr>\n",
              "    <tr>\n",
              "      <th>76</th>\n",
              "      <td>Apakah minQ dapat diakses oleh pengguna dengan...</td>\n",
              "      <td>minQ_accessibility</td>\n",
              "    </tr>\n",
              "    <tr>\n",
              "      <th>77</th>\n",
              "      <td>Dalam bahasa apa minQ tersedia?</td>\n",
              "      <td>minQ_language_support</td>\n",
              "    </tr>\n",
              "    <tr>\n",
              "      <th>78</th>\n",
              "      <td>Dapatkah minQ disesuaikan dengan kebutuhan khu...</td>\n",
              "      <td>minQ_customization</td>\n",
              "    </tr>\n",
              "  </tbody>\n",
              "</table>\n",
              "<p>79 rows × 2 columns</p>\n",
              "</div>"
            ],
            "text/plain": [
              "                                             patterns                     tags\n",
              "0                                               hallo                 greeting\n",
              "1                                                 hai                 greeting\n",
              "2                                                halo                 greeting\n",
              "3                                                 hei                 greeting\n",
              "4                                                  hi                 greeting\n",
              "..                                                ...                      ...\n",
              "74  Apa manfaat yang diperoleh kandidat dengan men...  minQ_benefit_candidates\n",
              "75       Apakah minQ dapat diintegrasikan dengan API?     minQ_integration_api\n",
              "76  Apakah minQ dapat diakses oleh pengguna dengan...       minQ_accessibility\n",
              "77                    Dalam bahasa apa minQ tersedia?    minQ_language_support\n",
              "78  Dapatkah minQ disesuaikan dengan kebutuhan khu...       minQ_customization\n",
              "\n",
              "[79 rows x 2 columns]"
            ]
          },
          "execution_count": 6,
          "metadata": {},
          "output_type": "execute_result"
        }
      ],
      "source": [
        "# Cetak data keseluruhan\n",
        "data"
      ]
    },
    {
      "cell_type": "code",
      "execution_count": 7,
      "id": "5DFoJwcVdP52",
      "metadata": {
        "colab": {
          "base_uri": "https://localhost:8080/",
          "height": 206
        },
        "id": "5DFoJwcVdP52",
        "outputId": "b0dd88e0-8ace-4450-80d0-1036eef85df8"
      },
      "outputs": [
        {
          "data": {
            "text/html": [
              "<div>\n",
              "<style scoped>\n",
              "    .dataframe tbody tr th:only-of-type {\n",
              "        vertical-align: middle;\n",
              "    }\n",
              "\n",
              "    .dataframe tbody tr th {\n",
              "        vertical-align: top;\n",
              "    }\n",
              "\n",
              "    .dataframe thead th {\n",
              "        text-align: right;\n",
              "    }\n",
              "</style>\n",
              "<table border=\"1\" class=\"dataframe\">\n",
              "  <thead>\n",
              "    <tr style=\"text-align: right;\">\n",
              "      <th></th>\n",
              "      <th>patterns</th>\n",
              "      <th>tags</th>\n",
              "    </tr>\n",
              "  </thead>\n",
              "  <tbody>\n",
              "    <tr>\n",
              "      <th>0</th>\n",
              "      <td>hallo</td>\n",
              "      <td>greeting</td>\n",
              "    </tr>\n",
              "    <tr>\n",
              "      <th>1</th>\n",
              "      <td>hai</td>\n",
              "      <td>greeting</td>\n",
              "    </tr>\n",
              "    <tr>\n",
              "      <th>2</th>\n",
              "      <td>halo</td>\n",
              "      <td>greeting</td>\n",
              "    </tr>\n",
              "    <tr>\n",
              "      <th>3</th>\n",
              "      <td>hei</td>\n",
              "      <td>greeting</td>\n",
              "    </tr>\n",
              "    <tr>\n",
              "      <th>4</th>\n",
              "      <td>hi</td>\n",
              "      <td>greeting</td>\n",
              "    </tr>\n",
              "  </tbody>\n",
              "</table>\n",
              "</div>"
            ],
            "text/plain": [
              "  patterns      tags\n",
              "0    hallo  greeting\n",
              "1      hai  greeting\n",
              "2     halo  greeting\n",
              "3      hei  greeting\n",
              "4       hi  greeting"
            ]
          },
          "execution_count": 7,
          "metadata": {},
          "output_type": "execute_result"
        }
      ],
      "source": [
        "# Cetak data baris pertama sampai baris kelima\n",
        "data.head()"
      ]
    },
    {
      "cell_type": "code",
      "execution_count": 8,
      "id": "HksM_GGVdenI",
      "metadata": {
        "colab": {
          "base_uri": "https://localhost:8080/",
          "height": 206
        },
        "id": "HksM_GGVdenI",
        "outputId": "22c5c2b3-5344-4ea7-c5c6-f5665e69062b"
      },
      "outputs": [
        {
          "data": {
            "text/html": [
              "<div>\n",
              "<style scoped>\n",
              "    .dataframe tbody tr th:only-of-type {\n",
              "        vertical-align: middle;\n",
              "    }\n",
              "\n",
              "    .dataframe tbody tr th {\n",
              "        vertical-align: top;\n",
              "    }\n",
              "\n",
              "    .dataframe thead th {\n",
              "        text-align: right;\n",
              "    }\n",
              "</style>\n",
              "<table border=\"1\" class=\"dataframe\">\n",
              "  <thead>\n",
              "    <tr style=\"text-align: right;\">\n",
              "      <th></th>\n",
              "      <th>patterns</th>\n",
              "      <th>tags</th>\n",
              "    </tr>\n",
              "  </thead>\n",
              "  <tbody>\n",
              "    <tr>\n",
              "      <th>74</th>\n",
              "      <td>Apa manfaat yang diperoleh kandidat dengan men...</td>\n",
              "      <td>minQ_benefit_candidates</td>\n",
              "    </tr>\n",
              "    <tr>\n",
              "      <th>75</th>\n",
              "      <td>Apakah minQ dapat diintegrasikan dengan API?</td>\n",
              "      <td>minQ_integration_api</td>\n",
              "    </tr>\n",
              "    <tr>\n",
              "      <th>76</th>\n",
              "      <td>Apakah minQ dapat diakses oleh pengguna dengan...</td>\n",
              "      <td>minQ_accessibility</td>\n",
              "    </tr>\n",
              "    <tr>\n",
              "      <th>77</th>\n",
              "      <td>Dalam bahasa apa minQ tersedia?</td>\n",
              "      <td>minQ_language_support</td>\n",
              "    </tr>\n",
              "    <tr>\n",
              "      <th>78</th>\n",
              "      <td>Dapatkah minQ disesuaikan dengan kebutuhan khu...</td>\n",
              "      <td>minQ_customization</td>\n",
              "    </tr>\n",
              "  </tbody>\n",
              "</table>\n",
              "</div>"
            ],
            "text/plain": [
              "                                             patterns                     tags\n",
              "74  Apa manfaat yang diperoleh kandidat dengan men...  minQ_benefit_candidates\n",
              "75       Apakah minQ dapat diintegrasikan dengan API?     minQ_integration_api\n",
              "76  Apakah minQ dapat diakses oleh pengguna dengan...       minQ_accessibility\n",
              "77                    Dalam bahasa apa minQ tersedia?    minQ_language_support\n",
              "78  Dapatkah minQ disesuaikan dengan kebutuhan khu...       minQ_customization"
            ]
          },
          "execution_count": 8,
          "metadata": {},
          "output_type": "execute_result"
        }
      ],
      "source": [
        "# Cetak data baris ke-70 sampai baris akhir\n",
        "data.tail()"
      ]
    },
    {
      "cell_type": "markdown",
      "id": "8p_YOwTKdr53",
      "metadata": {
        "id": "8p_YOwTKdr53"
      },
      "source": [
        "Data yang telah kita miliki dalam format JSON yang dapat digunakan melalui pandas dengan cara konversi. "
      ]
    },
    {
      "cell_type": "markdown",
      "id": "vHnr2WFvebeJ",
      "metadata": {
        "id": "vHnr2WFvebeJ"
      },
      "source": [
        "# **Preprocessing The Data**\n",
        "\n",
        "Setelah kita meload data dan mengonversi data json menjadi dataframe. Tahapan selanjutnya adalah praproses pada dataset yang kita gunakan saat ini yaitu dengan cara:\n",
        "\n",
        "![Praproses.png](data:image/png;base64,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)\n",
        "\n",
        "1.   Remove Punctuations (Menghapus Punktuasi)\n",
        "2.   Lematization (Lematisasi)\n",
        "3.   Tokenization (Tokenisasi)\n",
        "4.   Apply Padding (Padding)\n",
        "5.   Encoding the Outputs (Konversi Keluaran Enkoding)\n",
        "\n",
        "Kelima tahapan pemrosesan teks ini dijelaskan pada bagian langkah selanjutnya."
      ]
    },
    {
      "cell_type": "markdown",
      "id": "u_04NeXTIImg",
      "metadata": {
        "id": "u_04NeXTIImg"
      },
      "source": [
        "## **Remove Punctuations**\n",
        "\n",
        "Tahapan praproses pada data teks yang pertama adalah menghapus punktuasi atau tanda baca seperti *special character* yaitu **'!'** (**tanda seru**) **','** (**tanda koma**) **'.'** (**tanda titik sebagai berhenti**) '**?**' (**tanda tanya**) dan tanda baca yang lain. Tahapan ini gunanya untuk mempermudah pemrosesan data teks yang akan kita olah."
      ]
    },
    {
      "cell_type": "code",
      "execution_count": 9,
      "id": "Gh-7EtrfhQgY",
      "metadata": {
        "id": "Gh-7EtrfhQgY"
      },
      "outputs": [],
      "source": [
        "# Removing Punctuations (Menghilangkan Punktuasi)\n",
        "data['patterns'] = data['patterns'].apply(lambda wrd:[ltrs.lower() for ltrs in wrd if ltrs not in string.punctuation])\n",
        "data['patterns'] = data['patterns'].apply(lambda wrd: ''.join(wrd))"
      ]
    },
    {
      "cell_type": "markdown",
      "id": "5brR-qBLJDa_",
      "metadata": {
        "id": "5brR-qBLJDa_"
      },
      "source": [
        "## **Lemmatization (Lematisasi)**\n",
        "\n",
        "Setelah menghapus punktuasi atau tanda baca, tahapan selanjutnya yaitu Lematisasi atau Lemmatization.\n",
        "\n",
        "**Apa itu Lematisasi?**\n",
        "\n",
        "Lematisasi atau *Lemmatization* adalah proses dimana merujuk pada melakukan sesuatu menggunakan vocabulary atau kosakata dan analisis morfologi kata-kata untuk menghilangkan *inflectional endings only* dan untuk mengembalikan bentuk *dictionary* (kata dalam kamus) dari sebuah kata yang dikenal sebagai ***lemma***.\n",
        "\n",
        "Contoh Lematisasi : **Menggunakan** (Kata Imbuhan) -> **Guna** (Kata Dasar)\n",
        "\n",
        "Dalam contoh berikut proses lematisasi awalnya data teks menggunakan kata imbuhan yaitu **Menggunakan** dimana **meng-** + **guna** (kata dasar yang berawalan vokal g) + **kan** (sebagai akhiran) diubah menjadi kata dasar yaitu '**Guna**'.\n",
        "\n",
        "Proses ini dimana menghilangkan Prefiks pada imbuhan (**Meng-**) dan Suffiks pada (**-kan**)."
      ]
    },
    {
      "cell_type": "code",
      "execution_count": 10,
      "id": "22MVRGBsO9gX",
      "metadata": {
        "colab": {
          "base_uri": "https://localhost:8080/"
        },
        "id": "22MVRGBsO9gX",
        "outputId": "349af2ad-ebd5-4b2c-eee8-ea2d62ed1a4a"
      },
      "outputs": [
        {
          "name": "stdout",
          "output_type": "stream",
          "text": [
            "165 unique lemmatized words ['(', ')', ',', 'ada', 'afternoon', 'apa', 'apakah', 'api', 'aplikasi', 'atau', 'bagaimana', 'bahasa', 'bai', 'balik', 'bantuan', 'banyak', 'bekerja/bagaimana', 'berbagai', 'berbeda', 'bias', 'biaya', 'bisakah', 'bro', 'browser', 'buat', 'bye', 'byee', 'cara', 'cv', 'dadah', 'dah', 'dalam', 'dan', 'dapat', 'dapatkah', 'dari', 'data', 'dengan', 'departemen', 'di', 'diakses', 'digunakan', 'diinginkan', 'diintegrasikan', 'dikenakan', 'diperoleh', 'disabilitas', 'disesuaikan', 'ditawarkan', 'diterima', 'dukungan', 'ekstensi', 'file', 'fitur', 'format', 'good', 'hai', 'hallo', 'halo', 'hanya', 'hei', 'hi', 'hr', 'hr/sdm', 'hy', 'industri', 'ini', 'itu', 'jika', 'jumpa', 'kamu', 'kandidat', 'karyawan', 'kasih', 'kawan', 'keamanan', 'kebijakan', 'kebutuhan', 'kegunaan', 'kepada', 'kerja', 'kesalahan', 'keterampilan', 'khusus', 'kompatibel', 'kompetitor', 'lain', 'langkah-langkah', 'makasih', 'malam', 'manajemen', 'manfaat', 'manusia', 'masalah', 'memastikan', 'membantu', 'memberikan', 'memiliki', 'memperbaiki', 'memulai', 'mendapatkan', 'menerima', 'mengalami', 'mengetahui', 'menggunakan', 'menghemat', 'menghindari', 'mengurangi', 'meningkatkan', 'menjaga', 'menulis', 'mereka', 'minq', 'morning', 'ninq', 'oleh', 'pada', 'pagi', 'panduan', 'peluang', 'pembaruan', 'pembuat', 'pembuatmu', 'penciptamu', 'pengguna', 'penggunaan', 'penilaian', 'penyeleksian', 'perusahaan', 'platform', 'privasi', 'prose', 'saja', 'sampai', 'saran', 'saya', 'screening', 'screning', 'sdm', 'see', 'sejenis', 'selamat', 'seleksi', 'si', 'siang', 'siapa', 'sih', 'sistem', 'sore', 'sudah', 'terbaru', 'terima', 'tersedia', 'tertentu', 'thank', 'thanks', 'tinggal', 'tujuan', 'umpan', 'umum', 'untuk', 'utama', 'waktu', 'yang', 'you']\n"
          ]
        }
      ],
      "source": [
        "lemmatizer = WordNetLemmatizer()\n",
        "words = [lemmatizer.lemmatize(w.lower()) for w in words if w not in ignore_words]\n",
        "words = sorted(list(set(words)))\n",
        "\n",
        "print (len(words), \"unique lemmatized words\", words)"
      ]
    },
    {
      "cell_type": "markdown",
      "id": "zmZpqovQE1Zb",
      "metadata": {
        "id": "zmZpqovQE1Zb"
      },
      "source": [
        "### **Menyortir Data Kelas Tags**"
      ]
    },
    {
      "cell_type": "code",
      "execution_count": 11,
      "id": "TK_v4Zw5P8rn",
      "metadata": {
        "colab": {
          "base_uri": "https://localhost:8080/"
        },
        "id": "TK_v4Zw5P8rn",
        "outputId": "60fa1e29-892d-46a8-f3dc-881f3743b287"
      },
      "outputs": [
        {
          "name": "stdout",
          "output_type": "stream",
          "text": [
            "41 classes ['Aplikasi_Screning_CV', 'Bias di aplikasi ini', 'aplikasi ini digunakan dalam berbagai industri', 'biaya_aplikasi_Screning_CV', 'cara_aplikasi_Screning_CV', 'cara_kerja_Screning_CV', 'cara_kerja_cv', 'dukungan_pengguna', 'fitur_utama_minQ', 'format_file_Screning_CV', 'goodbye', 'greeting', 'integrasi_platform', 'integrasi_platform_minQ', 'keamanan_data', 'keamanan_data_minQ', 'manfaat_aplikasi_Screning_CV', 'minQ', 'minQ_accessibility', 'minQ_benefit_candidates', 'minQ_benefit_hr', 'minQ_customization', 'minQ_ekstensi_browser', 'minQ_feedback', 'minQ_integration_api', 'minQ_kebijakan_privasi', 'minQ_language_support', 'minQ_panduan_pengguna', 'minQ_vs_kompetitor', 'pembaruan_fitur_minQ', 'pencipta_minQ', 'penggunaan_Screning_CV_perusahaan', 'penggunaan_Screning_CV_umum', 'penggunaan_minQ', 'penjelasan_Screning_CV', 'screening CV dapat membantu departemen HR/SDM', 'screening CV dapat membantu karyawan', 'screening CV dapat membantu perusahaan', 'tarif_penggunaan_minQ', 'terimakasih', 'tujuan_Screning_CV']\n"
          ]
        }
      ],
      "source": [
        "# sorting pada data class\n",
        "classes = sorted(list(set(classes)))\n",
        "print (len(classes), \"classes\", classes)"
      ]
    },
    {
      "cell_type": "markdown",
      "id": "u8s3ZKI9FCwo",
      "metadata": {
        "id": "u8s3ZKI9FCwo"
      },
      "source": [
        "### **Mencari Jumlah Keseluruhan Data Teks**"
      ]
    },
    {
      "cell_type": "code",
      "execution_count": 12,
      "id": "Tv5lLFn1QCDP",
      "metadata": {
        "colab": {
          "base_uri": "https://localhost:8080/"
        },
        "id": "Tv5lLFn1QCDP",
        "outputId": "ce6fce3b-3ce3-4cd1-ba24-80ddff419e46"
      },
      "outputs": [
        {
          "name": "stdout",
          "output_type": "stream",
          "text": [
            "409 documents\n"
          ]
        }
      ],
      "source": [
        "# documents = kombinasi antara data pattern dengan data tag dalam intents json\n",
        "print (len(documents), \"documents\")"
      ]
    },
    {
      "cell_type": "markdown",
      "id": "sVdv1gW5N7a6",
      "metadata": {
        "id": "sVdv1gW5N7a6"
      },
      "source": [
        "## **Tokenization (Tokenisasi)**\n",
        "\n",
        "Setelah proses lematisasi dan mencari tahu data classes dan jumlah keseluruhan data patterns dengan intents-nya. Maka, tahapan selanjutnya proses tokenisasi. **Apa itu Tokenisasi?**\n",
        "\n",
        "Tokenisasi adalah suatu proses memberikan urutan karakter dan sebuah unit dokumen terdefinisi. Tokenisasi juga merupakan tugas untuk memecah kalimat menjadi bagian-bagian yang disebut dengan '**Token**' dan menghilangkan bagian tertentu seperti tanda baca.\n",
        "\n",
        "Contohnya: **Aku Pergi Ke Makassar** -> '**Aku**' '**Pergi**' '**Ke**' '**Makassar**'"
      ]
    },
    {
      "cell_type": "code",
      "execution_count": 13,
      "id": "Xr5aehymeQdi",
      "metadata": {
        "colab": {
          "base_uri": "https://localhost:8080/"
        },
        "id": "Xr5aehymeQdi",
        "outputId": "c997002a-ff55-4ba2-abe1-aeee26891dc7"
      },
      "outputs": [
        {
          "data": {
            "text/plain": [
              "[[55],\n",
              " [56],\n",
              " [57],\n",
              " [58],\n",
              " [59],\n",
              " [60],\n",
              " [61],\n",
              " [62],\n",
              " [63],\n",
              " [64],\n",
              " [65],\n",
              " [66],\n",
              " [67],\n",
              " [68],\n",
              " [69],\n",
              " [6, 20, 1],\n",
              " [14, 1],\n",
              " [14, 70],\n",
              " [14, 71, 1],\n",
              " [1, 8, 72, 73, 14, 74],\n",
              " [14, 75, 1],\n",
              " [76],\n",
              " [77],\n",
              " [35],\n",
              " [78],\n",
              " [79, 35],\n",
              " [80, 81],\n",
              " [82, 83],\n",
              " [84],\n",
              " [85, 36],\n",
              " [86],\n",
              " [87, 36],\n",
              " [37, 38],\n",
              " [88],\n",
              " [37, 38, 89],\n",
              " [6, 20, 9, 2],\n",
              " [14, 9, 2],\n",
              " [6, 20, 4, 9, 2],\n",
              " [6, 20, 4, 9, 2],\n",
              " [6, 90, 9, 2],\n",
              " [26, 21, 9, 2],\n",
              " [91, 9, 2],\n",
              " [3, 15, 27, 9, 2],\n",
              " [3, 15, 27, 92],\n",
              " [3, 4, 2, 13, 93, 15, 27, 13, 2],\n",
              " [5, 28, 29, 22, 8, 23, 10, 94],\n",
              " [5, 28, 29, 22, 8, 23, 10, 16],\n",
              " [95, 96, 6, 8, 97, 10, 4, 17],\n",
              " [5, 4, 13, 2, 7, 19, 39, 98, 99, 100, 101, 11, 102, 2],\n",
              " [3, 15, 4, 17, 40, 103, 10, 104, 2],\n",
              " [5, 4, 13, 2, 7, 19, 24, 30, 41, 31, 10, 42, 25, 16, 8, 43],\n",
              " [5, 4, 13, 2, 7, 19, 24, 30, 41, 31, 10, 42, 25, 16, 8, 43],\n",
              " [5, 4, 13, 2, 7, 19, 16, 105, 106, 107, 32, 11, 108, 109, 24],\n",
              " [5, 4, 13, 2, 7, 19, 24, 11, 30, 110, 31, 11, 111, 2],\n",
              " [3, 32, 22, 4, 17],\n",
              " [112, 4, 17, 113, 11, 114, 44, 45, 115, 116, 44, 117],\n",
              " [3, 4, 17, 46, 47, 11, 48, 2],\n",
              " [3, 4, 17, 46, 47, 11, 48, 2],\n",
              " [3, 15, 49, 1],\n",
              " [6, 118, 10, 119, 12, 1],\n",
              " [3, 1, 120, 50, 33, 18],\n",
              " [5, 1, 7, 34, 12, 121, 122],\n",
              " [3, 15, 123, 124, 45, 125, 126, 51, 127, 128, 12, 1],\n",
              " [6, 129, 52, 130, 8, 131, 53, 1],\n",
              " [54, 1, 34, 12, 132, 133, 134, 8, 135, 28, 25, 16],\n",
              " [3, 1, 136, 50, 33, 18],\n",
              " [5, 22, 1, 137, 32],\n",
              " [3, 51, 7, 138, 139, 52, 140, 21, 1],\n",
              " [3, 1, 141, 21, 142, 143],\n",
              " [5, 1, 144, 145, 146, 21, 18],\n",
              " [3, 147, 148, 33, 18, 25, 1],\n",
              " [5, 1, 149, 150, 151],\n",
              " [5, 23, 29, 18, 10, 1],\n",
              " [3, 1, 7, 40, 26, 152, 39, 153],\n",
              " [6, 26, 8, 154, 155, 12, 49, 1],\n",
              " [5, 1, 7, 34, 12, 156],\n",
              " [5, 1, 7, 157, 53, 18, 12, 158],\n",
              " [11, 159, 6, 1, 23],\n",
              " [54, 1, 160, 12, 161, 162, 16]]"
            ]
          },
          "execution_count": 13,
          "metadata": {},
          "output_type": "execute_result"
        }
      ],
      "source": [
        "# Tokenize the data (Tokenisasi Data)\n",
        "tokenizer = Tokenizer(num_words=2000)\n",
        "tokenizer.fit_on_texts(data['patterns'])\n",
        "train = tokenizer.texts_to_sequences(data['patterns'])\n",
        "train"
      ]
    },
    {
      "cell_type": "markdown",
      "id": "LfEpFf0hPOUZ",
      "metadata": {
        "id": "LfEpFf0hPOUZ"
      },
      "source": [
        "## **Padding**\n",
        "\n",
        "Setelah memproses tokenisasi yang dimana memecah kalimat menajdi bagian-bagian yang disebut token yang digunakan untuk mengolah data teks pada AI Chatbot maka tahapan selanjutnya adalah Padding.\n",
        "\n",
        "**Apa itu Padding?**\n",
        "\n",
        "**Padding** adalah Suatu proses untuk mengubah setiap sequence agar memiliki panjang yang sama. Pada padding, setiap sequence dibuat sama panjang dengan menambahkan nilai 0 secara suffiks atau prefiks hingga mencapai panjang maksimum sequence. Selain itu padding juga dapat memotong sequence hingga panjangnya sesuai dengan panjang maksimum sequence.\n",
        "\n",
        "Padding juga adalah proses untuk membuat setiap kalimat pada teks memiliki panjang yang seragam. Sama seperti melakukan resize gambar, agar resolusi setiap gambar sama besar. Untuk menggunakan padding bisa impor library **pad_sequence**. Kemudian buat panggil fungsi pad_sequence() dan masukkan sequence hasil tokenisasi sebagai parameternya.\n",
        "\n",
        "Contohnya: `sequences_samapanjang = pad_sequences(sequences)`\n",
        "\n",
        "Yang nantinya akan dikeluarkan menjadi angka dengan awalan 0 seperti gambar dibawah ini.\n",
        "\n",
        "![Padding.jpeg](data:image/jpeg;base64,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)"
      ]
    },
    {
      "cell_type": "code",
      "execution_count": 14,
      "id": "5BQdPUTNvS1t",
      "metadata": {
        "colab": {
          "base_uri": "https://localhost:8080/"
        },
        "id": "5BQdPUTNvS1t",
        "outputId": "36db6838-4dae-4557-eaf8-207c9b8ac139"
      },
      "outputs": [
        {
          "name": "stdout",
          "output_type": "stream",
          "text": [
            "[[  0   0   0 ...   0   0  55]\n",
            " [  0   0   0 ...   0   0  56]\n",
            " [  0   0   0 ...   0   0  57]\n",
            " ...\n",
            " [  0   0   0 ...  18  12 158]\n",
            " [  0   0   0 ...   6   1  23]\n",
            " [  0   0   0 ... 161 162  16]]\n"
          ]
        }
      ],
      "source": [
        "# Melakukan proses padding pada data\n",
        "x_train = pad_sequences(train)\n",
        "# Menampilkan hasil padding\n",
        "print(x_train)"
      ]
    },
    {
      "cell_type": "markdown",
      "id": "1Khg-ygkb0nD",
      "metadata": {
        "id": "1Khg-ygkb0nD"
      },
      "source": [
        "Hasil setelah padding adalah setiap sequence memiliki panjang yang sama. Padding dapat melakukan ini dengan menambahkan 0 secara default pada awal sequence yang lebih pendek."
      ]
    },
    {
      "cell_type": "markdown",
      "id": "qY0vxxwBPeJC",
      "metadata": {
        "id": "qY0vxxwBPeJC"
      },
      "source": [
        "## **Encoding Text**\n",
        "\n",
        "Setelah tahapan proses Padding pada suatu teks maka proses terakhir dalam pemrosesan teks adalah tahapan Encoding.\n",
        "\n",
        "**Apa itu Encoding?**\n",
        "\n",
        "**Encoding** merupakan suatu konversi atau pengkodean yang dimana data kategorik seperti huruf atau data teks menjadi data numerik atau angka menyesuaikan dengan data label yang digunakan. Pada proses tahapan ini, encoding mengubah data teks pada kolom data tags menjadi data numerik dengan bahasa biner komputer yaitu 0 dan 1.\n",
        "\n",
        "Tujuan dari encoding ini adalah mempermudah saat proses komputasi data teks dan modelling."
      ]
    },
    {
      "cell_type": "code",
      "execution_count": 15,
      "id": "sczq--IpTYWa",
      "metadata": {
        "colab": {
          "base_uri": "https://localhost:8080/"
        },
        "id": "sczq--IpTYWa",
        "outputId": "7f8a3277-332a-4c0d-fc78-97be271d6889"
      },
      "outputs": [
        {
          "name": "stdout",
          "output_type": "stream",
          "text": [
            "[11 11 11 11 11 11 11 11 11 11 11 11 11 11 11 17 17 30 30 30 30 10 10 10\n",
            " 10 10 10 10 10 10 39 39 39 39 39 34 34  0  0 40 40 40  5  5  6 32 31  9\n",
            " 35  4 16 16 37 36  3  2  1  1 33 33 14 12  7  8 13 15 38 29 28 23 25 22\n",
            " 27 20 19 24 18 26 21]\n"
          ]
        }
      ],
      "source": [
        "# Melakukan konversi data label tags dengan encoding\n",
        "le = LabelEncoder()\n",
        "y_train = le.fit_transform(data['tags'])\n",
        "print(y_train)"
      ]
    },
    {
      "cell_type": "markdown",
      "id": "D9rKggGCgnjT",
      "metadata": {
        "id": "D9rKggGCgnjT"
      },
      "source": [
        "Tokenizer pada Tensorflow memberikan token unik untuk setiap kata yang berbeda. Dan juga padding dilakukan untuk mendapatkan semua data dengan panjang yang sama sehingga dapat mengirimkannya ke lapisan atau layer model LSTM. variabel target juga dikodekan menjadi nilai desimal."
      ]
    },
    {
      "cell_type": "markdown",
      "id": "_hE21zfRhiNS",
      "metadata": {
        "id": "_hE21zfRhiNS"
      },
      "source": [
        "# **Input Length, Output Length and Vocabulary**"
      ]
    },
    {
      "cell_type": "code",
      "execution_count": 30,
      "id": "dbtBZXFvgvCB",
      "metadata": {
        "colab": {
          "base_uri": "https://localhost:8080/"
        },
        "id": "dbtBZXFvgvCB",
        "outputId": "fc2aa3e3-1890-4d0d-8b76-4e657e680ad9"
      },
      "outputs": [
        {
          "name": "stdout",
          "output_type": "stream",
          "text": [
            "16\n"
          ]
        }
      ],
      "source": [
        "# Melihat hasil input pada data teks\n",
        "input_shape = x_train.shape[1]\n",
        "print(input_shape)"
      ]
    },
    {
      "cell_type": "code",
      "execution_count": 17,
      "id": "310y6oNLhuzv",
      "metadata": {
        "colab": {
          "base_uri": "https://localhost:8080/"
        },
        "id": "310y6oNLhuzv",
        "outputId": "185ca977-f65f-41b0-94c9-38f418e9fb69"
      },
      "outputs": [
        {
          "name": "stdout",
          "output_type": "stream",
          "text": [
            "number of unique words :  162\n",
            "output length:  41\n"
          ]
        }
      ],
      "source": [
        "# Melakukan definisi tiap kalimat dan kata pada data teks\n",
        "vocabulary = len(tokenizer.word_index)\n",
        "print(\"number of unique words : \", vocabulary)\n",
        "\n",
        "# Melakukan pemeriksaan pada data output label teks\n",
        "output_length = le.classes_.shape[0]\n",
        "print(\"output length: \", output_length)"
      ]
    },
    {
      "cell_type": "markdown",
      "id": "AInHhmVGict2",
      "metadata": {
        "id": "AInHhmVGict2"
      },
      "source": [
        "**Input length** dan **output length** terlihat sangat jelas hasilnya. Mereka adalah untuk bentuk input dan bentuk output dari data train atau latih yang akan diproses pada algoritma LSTM yang akan dilatih.\n",
        "\n",
        "**Vocabulary Size** adalah untuk lapisan penyematan untuk membuat representasi vektor unik untuk setiap kata."
      ]
    },
    {
      "cell_type": "markdown",
      "id": "1LxIElYjQbB7",
      "metadata": {
        "id": "1LxIElYjQbB7"
      },
      "source": [
        "## **Save Model Words & Classes**\n",
        "\n",
        "Setelah dilakukan pemrosesan teks yang dilakukan lima tahap maka kita bisa simpan model pemrosesan teks tersebut dengan menggunakan format pickle.\n",
        "\n",
        "Hal ini biasanya digunakan untuk membuat hubungan model yang telah dilatih dengan model pemrosesan teks."
      ]
    },
    {
      "cell_type": "code",
      "execution_count": 18,
      "id": "wYV77QFbQVLP",
      "metadata": {
        "id": "wYV77QFbQVLP"
      },
      "outputs": [],
      "source": [
        "# Simpan hasil pemrosesan teks dengan menggunakan pickle\n",
        "pickle.dump(words, open('words.pkl','wb'))\n",
        "pickle.dump(classes, open('classes.pkl','wb'))"
      ]
    },
    {
      "cell_type": "code",
      "execution_count": null,
      "metadata": {},
      "outputs": [],
      "source": [
        "pickle.dump(input_shape, open('input_shape.pkl','wb'))"
      ]
    },
    {
      "cell_type": "markdown",
      "id": "dY9COWCwexgZ",
      "metadata": {
        "id": "dY9COWCwexgZ"
      },
      "source": [
        "## **Save Label Encoder & Tokenizer**"
      ]
    },
    {
      "cell_type": "code",
      "execution_count": 19,
      "id": "saM3QTSjewR4",
      "metadata": {
        "id": "saM3QTSjewR4"
      },
      "outputs": [],
      "source": [
        "pickle.dump(le, open('le.pkl','wb'))\n",
        "pickle.dump(tokenizer, open('tokenizers.pkl','wb'))"
      ]
    },
    {
      "cell_type": "markdown",
      "id": "BI7OvNariInQ",
      "metadata": {
        "id": "BI7OvNariInQ"
      },
      "source": [
        "# **Long Short Term Memory (LSTM) Model**\n",
        "\n",
        "Setelah menyimpan model untuk hasil pemrosesan teks, tahapan selanjutnya adalah melakukan modelling atau pemodelan untuk Chatbot dengan menggunakan algoritma LSTM (Long Short Term Memory).\n",
        "\n",
        "**Apa itu Algoritma LSTM?**\n",
        "\n",
        "**LSTM (Long Short Term Memory)** merupakan algoritma Deep Learning yang populer dan cocok digunakan untuk membuat prediksi dan klasifikasi yang berhubungan dengan waktu dan data teks.\n",
        "\n",
        "Algoritma ini bisa dikatakan pengembangan atau salah satu jenis dari algoritma RNN (Recurrent Neural Network). Dalam algoritma RNN, output dari langkah terakhir diumpankan kembali sebagai input pada langkah yang sedang aktif. Namun, algoritma RNN memiliki kekurangan yaitu tidak dapat memprediksi kata yang disimpan dalam memori jangka panjang.\n",
        "\n",
        "Nah, algoritma LSTM dirancang untuk mengatasi kelemahan tersebut, namun tetap mempertahankan kelebihan yang ada pada algoritma RNN dimana RNN mampu memberikan prediksi yang lebih akurat dari informasi terbaru.\n",
        "\n",
        "Algoritma LSTM pertama kali dikembangkan oleh Hochreiter dan Schmidhuber.  Algoritma ini mampu menyimpan informasi untuk jangka waktu yang lama. Hal ini kemudian dapat digunakan untuk memproses, memprediksi, dan mengklasifikasikan informasi berdasarkan data deret waktu.\n",
        "\n",
        "Struktur algoritma LSTM terdiri atas neural network dan beberapa blok memori yang berbeda. Blok memori ini disebut sebagai cell.  State dari cell dan hidden state akan diteruskan ke cell berikutnya.\n",
        "\n",
        "Seperti yang ditunjukkan pada gambar di bawah, bangun berbentuk persegi panjang berwarna biru adalah **ilustrasi cell** pada LSTM.\n",
        "\n",
        "![LSTM_deep_learning_algorithms.webp](data:image/webp;base64,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)\n",
        "\n",
        "Informasi yang dikumpulkan oleh algoritma LSTM kemudian akan disimpan oleh cell dan manipulasi memori dilakukan oleh komponen yang disebut dengan gate. Ada tiga jenis gate pada algoritma LSTM, di antaranya  Forget gate, Input gate, dan  Output gate. Sumber : [Trivusi](https://www.trivusi.web.id/2022/07/algoritma-lstm.html)\n",
        "\n",
        "Jaringan syaraf dalam kasus chatbot ini yang terdiri dari lapisan atau *layer* embedding yang merupakan salah satu hal yang paling kuat di bidang pemrosesan bahasa alami atau NLP. output atau keluaran dari lapisan (*layer*) embedding adalah input (masukan) data teks dari lapisan berulang (*recurrent*) dengan layer LSTM gate (Lapisan Gerbang **Long Shot Term Memory)**. Kemudian, output atau keluaran diratakan dan lapisan Dense digunakan dengan fungsi aktivasi **Softmax** yang dimana implementasi chatbot ini memiliki data label lebih dari dua kelas.\n",
        "\n",
        "Bagian utama dalam pemodelan chatbot ini adalah lapisan embedding yang memberikan nilai vektor yang sesuai untuk setiap kata dalam data teks yang telah dimasukkan."
      ]
    },
    {
      "cell_type": "code",
      "execution_count": 20,
      "id": "2XBG3_reh2KY",
      "metadata": {
        "id": "2XBG3_reh2KY"
      },
      "outputs": [],
      "source": [
        "# Creating the model (Membuat Modelling)\n",
        "i = Input(shape=(input_shape,)) # Layer Input\n",
        "x = Embedding(vocabulary+1,10)(i) # Layer Embedding\n",
        "x = LSTM(10, return_sequences=True, recurrent_dropout=0.2)(x) # Layer Long Short Term Memory\n",
        "x = Flatten()(x) # Layer Flatten\n",
        "x = Dense(output_length, activation=\"softmax\")(x) # Layer Dense\n",
        "model  = Model(i,x) # Model yang telah disusun dari layer Input sampai layer Output\n",
        "\n",
        "# Compiling the model (Kompilasi Model)\n",
        "model.compile(loss=\"sparse_categorical_crossentropy\", optimizer='adam', metrics=['accuracy'])"
      ]
    },
    {
      "cell_type": "code",
      "execution_count": 21,
      "id": "SO1blkS7ZzuH",
      "metadata": {
        "colab": {
          "base_uri": "https://localhost:8080/",
          "height": 533
        },
        "id": "SO1blkS7ZzuH",
        "outputId": "72e10cc5-b628-48cf-b6cc-74e3d461ef40"
      },
      "outputs": [
        {
          "name": "stdout",
          "output_type": "stream",
          "text": [
            "You must install pydot (`pip install pydot`) and install graphviz (see instructions at https://graphviz.gitlab.io/download/) for plot_model/model_to_dot to work.\n"
          ]
        }
      ],
      "source": [
        "# Visualization Plot Architecture Model (Visualisasi Plot Arsitektur Model)\n",
        "plot_model(model, to_file='model_plot.png', show_shapes=True, show_layer_names=True)"
      ]
    },
    {
      "cell_type": "code",
      "execution_count": 22,
      "id": "4hab_JHoopQI",
      "metadata": {
        "colab": {
          "base_uri": "https://localhost:8080/"
        },
        "id": "4hab_JHoopQI",
        "outputId": "8e1aedaf-0746-4e6b-a45c-a3620d853c8e"
      },
      "outputs": [
        {
          "name": "stdout",
          "output_type": "stream",
          "text": [
            "Model: \"model\"\n",
            "_________________________________________________________________\n",
            " Layer (type)                Output Shape              Param #   \n",
            "=================================================================\n",
            " input_1 (InputLayer)        [(None, 16)]              0         \n",
            "                                                                 \n",
            " embedding (Embedding)       (None, 16, 10)            1630      \n",
            "                                                                 \n",
            " lstm (LSTM)                 (None, 16, 10)            840       \n",
            "                                                                 \n",
            " flatten (Flatten)           (None, 160)               0         \n",
            "                                                                 \n",
            " dense (Dense)               (None, 41)                6601      \n",
            "                                                                 \n",
            "=================================================================\n",
            "Total params: 9,071\n",
            "Trainable params: 9,071\n",
            "Non-trainable params: 0\n",
            "_________________________________________________________________\n"
          ]
        }
      ],
      "source": [
        "# Menampilkan parameter pada model LSTM\n",
        "model.summary()"
      ]
    },
    {
      "cell_type": "code",
      "execution_count": 23,
      "id": "AHtOlCb8kGgZ",
      "metadata": {
        "colab": {
          "base_uri": "https://localhost:8080/"
        },
        "id": "AHtOlCb8kGgZ",
        "outputId": "ee62a778-3aaf-4be6-d756-42781211ab44"
      },
      "outputs": [
        {
          "name": "stdout",
          "output_type": "stream",
          "text": [
            "Epoch 1/450\n"
          ]
        },
        {
          "name": "stdout",
          "output_type": "stream",
          "text": [
            "3/3 [==============================] - 3s 7ms/step - loss: 3.7051 - accuracy: 0.0253\n",
            "Epoch 2/450\n",
            "3/3 [==============================] - 0s 546us/step - loss: 3.6947 - accuracy: 0.1392\n",
            "Epoch 3/450\n",
            "3/3 [==============================] - 0s 8ms/step - loss: 3.6844 - accuracy: 0.2025\n",
            "Epoch 4/450\n",
            "3/3 [==============================] - 0s 9ms/step - loss: 3.6715 - accuracy: 0.1899\n",
            "Epoch 5/450\n",
            "3/3 [==============================] - 0s 5ms/step - loss: 3.6570 - accuracy: 0.1899\n",
            "Epoch 6/450\n",
            "3/3 [==============================] - 0s 8ms/step - loss: 3.6389 - accuracy: 0.1899\n",
            "Epoch 7/450\n",
            "3/3 [==============================] - 0s 7ms/step - loss: 3.6165 - accuracy: 0.1899\n",
            "Epoch 8/450\n",
            "3/3 [==============================] - 0s 15ms/step - loss: 3.5903 - accuracy: 0.1899\n",
            "Epoch 9/450\n",
            "3/3 [==============================] - 0s 4ms/step - loss: 3.5609 - accuracy: 0.1899\n",
            "Epoch 10/450\n",
            "3/3 [==============================] - 0s 7ms/step - loss: 3.5255 - accuracy: 0.1899\n",
            "Epoch 11/450\n",
            "3/3 [==============================] - 0s 4ms/step - loss: 3.4782 - accuracy: 0.1899\n",
            "Epoch 12/450\n",
            "3/3 [==============================] - 0s 7ms/step - loss: 3.4292 - accuracy: 0.1899\n",
            "Epoch 13/450\n",
            "3/3 [==============================] - 0s 8ms/step - loss: 3.3785 - accuracy: 0.1899\n",
            "Epoch 14/450\n",
            "3/3 [==============================] - 0s 7ms/step - loss: 3.3160 - accuracy: 0.1899\n",
            "Epoch 15/450\n",
            "3/3 [==============================] - 0s 7ms/step - loss: 3.2677 - accuracy: 0.1899\n",
            "Epoch 16/450\n",
            "3/3 [==============================] - 0s 8ms/step - loss: 3.1961 - accuracy: 0.1899\n",
            "Epoch 17/450\n",
            "3/3 [==============================] - 0s 8ms/step - loss: 3.1442 - accuracy: 0.1899\n",
            "Epoch 18/450\n",
            "3/3 [==============================] - 0s 9ms/step - loss: 3.1190 - accuracy: 0.1899\n",
            "Epoch 19/450\n",
            "3/3 [==============================] - 0s 7ms/step - loss: 3.0990 - accuracy: 0.1899\n",
            "Epoch 20/450\n",
            "3/3 [==============================] - 0s 4ms/step - loss: 3.0850 - accuracy: 0.1899\n",
            "Epoch 21/450\n",
            "3/3 [==============================] - 0s 6ms/step - loss: 3.0835 - accuracy: 0.2152\n",
            "Epoch 22/450\n",
            "3/3 [==============================] - 0s 9ms/step - loss: 3.0636 - accuracy: 0.2152\n",
            "Epoch 23/450\n",
            "3/3 [==============================] - 0s 11ms/step - loss: 3.0221 - accuracy: 0.2152\n",
            "Epoch 24/450\n",
            "3/3 [==============================] - 0s 0s/step - loss: 3.0003 - accuracy: 0.2152\n",
            "Epoch 25/450\n",
            "3/3 [==============================] - 0s 8ms/step - loss: 2.9835 - accuracy: 0.2152\n",
            "Epoch 26/450\n",
            "3/3 [==============================] - 0s 11ms/step - loss: 2.9646 - accuracy: 0.2152\n",
            "Epoch 27/450\n",
            "3/3 [==============================] - 0s 0s/step - loss: 2.9554 - accuracy: 0.2152\n",
            "Epoch 28/450\n",
            "3/3 [==============================] - 0s 10ms/step - loss: 2.9232 - accuracy: 0.2152\n",
            "Epoch 29/450\n",
            "3/3 [==============================] - 0s 6ms/step - loss: 2.8980 - accuracy: 0.2278\n",
            "Epoch 30/450\n",
            "3/3 [==============================] - 0s 0s/step - loss: 2.8782 - accuracy: 0.2278\n",
            "Epoch 31/450\n",
            "3/3 [==============================] - 0s 12ms/step - loss: 2.8546 - accuracy: 0.2278\n",
            "Epoch 32/450\n",
            "3/3 [==============================] - 0s 8ms/step - loss: 2.8406 - accuracy: 0.2278\n",
            "Epoch 33/450\n",
            "3/3 [==============================] - 0s 8ms/step - loss: 2.8171 - accuracy: 0.2278\n",
            "Epoch 34/450\n",
            "3/3 [==============================] - 0s 4ms/step - loss: 2.7941 - accuracy: 0.2278\n",
            "Epoch 35/450\n",
            "3/3 [==============================] - 0s 9ms/step - loss: 2.7653 - accuracy: 0.2152\n",
            "Epoch 36/450\n",
            "3/3 [==============================] - 0s 8ms/step - loss: 2.7384 - accuracy: 0.2152\n",
            "Epoch 37/450\n",
            "3/3 [==============================] - 0s 8ms/step - loss: 2.7212 - accuracy: 0.2278\n",
            "Epoch 38/450\n",
            "3/3 [==============================] - 0s 8ms/step - loss: 2.6943 - accuracy: 0.2278\n",
            "Epoch 39/450\n",
            "3/3 [==============================] - 0s 8ms/step - loss: 2.6802 - accuracy: 0.2532\n",
            "Epoch 40/450\n",
            "3/3 [==============================] - 0s 14ms/step - loss: 2.6594 - accuracy: 0.2405\n",
            "Epoch 41/450\n",
            "3/3 [==============================] - 0s 8ms/step - loss: 2.6306 - accuracy: 0.2405\n",
            "Epoch 42/450\n",
            "3/3 [==============================] - 0s 10ms/step - loss: 2.6132 - accuracy: 0.2405\n",
            "Epoch 43/450\n",
            "3/3 [==============================] - 0s 12ms/step - loss: 2.5775 - accuracy: 0.2405\n",
            "Epoch 44/450\n",
            "3/3 [==============================] - 0s 7ms/step - loss: 2.5746 - accuracy: 0.2405\n",
            "Epoch 45/450\n",
            "3/3 [==============================] - 0s 7ms/step - loss: 2.5456 - accuracy: 0.2405\n",
            "Epoch 46/450\n",
            "3/3 [==============================] - 0s 6ms/step - loss: 2.5131 - accuracy: 0.2405\n",
            "Epoch 47/450\n",
            "3/3 [==============================] - 0s 6ms/step - loss: 2.5086 - accuracy: 0.2532\n",
            "Epoch 48/450\n",
            "3/3 [==============================] - 0s 6ms/step - loss: 2.4917 - accuracy: 0.2405\n",
            "Epoch 49/450\n",
            "3/3 [==============================] - 0s 8ms/step - loss: 2.4609 - accuracy: 0.2405\n",
            "Epoch 50/450\n",
            "3/3 [==============================] - 0s 9ms/step - loss: 2.4427 - accuracy: 0.2405\n",
            "Epoch 51/450\n",
            "3/3 [==============================] - 0s 8ms/step - loss: 2.4240 - accuracy: 0.2405\n",
            "Epoch 52/450\n",
            "3/3 [==============================] - 0s 15ms/step - loss: 2.4049 - accuracy: 0.2532\n",
            "Epoch 53/450\n",
            "3/3 [==============================] - 0s 8ms/step - loss: 2.3860 - accuracy: 0.2658\n",
            "Epoch 54/450\n",
            "3/3 [==============================] - 0s 8ms/step - loss: 2.3711 - accuracy: 0.2658\n",
            "Epoch 55/450\n",
            "3/3 [==============================] - 0s 16ms/step - loss: 2.3407 - accuracy: 0.2785\n",
            "Epoch 56/450\n",
            "3/3 [==============================] - 0s 7ms/step - loss: 2.3293 - accuracy: 0.2785\n",
            "Epoch 57/450\n",
            "3/3 [==============================] - 0s 9ms/step - loss: 2.3201 - accuracy: 0.2785\n",
            "Epoch 58/450\n",
            "3/3 [==============================] - 0s 8ms/step - loss: 2.2969 - accuracy: 0.2785\n",
            "Epoch 59/450\n",
            "3/3 [==============================] - 0s 8ms/step - loss: 2.2847 - accuracy: 0.2658\n",
            "Epoch 60/450\n",
            "3/3 [==============================] - 0s 9ms/step - loss: 2.2629 - accuracy: 0.2785\n",
            "Epoch 61/450\n",
            "3/3 [==============================] - 0s 7ms/step - loss: 2.2422 - accuracy: 0.2911\n",
            "Epoch 62/450\n",
            "3/3 [==============================] - 0s 8ms/step - loss: 2.2376 - accuracy: 0.2785\n",
            "Epoch 63/450\n",
            "3/3 [==============================] - 0s 13ms/step - loss: 2.2123 - accuracy: 0.2911\n",
            "Epoch 64/450\n",
            "3/3 [==============================] - 0s 3ms/step - loss: 2.2078 - accuracy: 0.2911\n",
            "Epoch 65/450\n",
            "3/3 [==============================] - 0s 8ms/step - loss: 2.1821 - accuracy: 0.3165\n",
            "Epoch 66/450\n",
            "3/3 [==============================] - 0s 7ms/step - loss: 2.1690 - accuracy: 0.2785\n",
            "Epoch 67/450\n",
            "3/3 [==============================] - 0s 17ms/step - loss: 2.1387 - accuracy: 0.2911\n",
            "Epoch 68/450\n",
            "3/3 [==============================] - 0s 7ms/step - loss: 2.1337 - accuracy: 0.2911\n",
            "Epoch 69/450\n",
            "3/3 [==============================] - 0s 5ms/step - loss: 2.1212 - accuracy: 0.3038\n",
            "Epoch 70/450\n",
            "3/3 [==============================] - 0s 8ms/step - loss: 2.1096 - accuracy: 0.3038\n",
            "Epoch 71/450\n",
            "3/3 [==============================] - 0s 9ms/step - loss: 2.0911 - accuracy: 0.2911\n",
            "Epoch 72/450\n",
            "3/3 [==============================] - 0s 7ms/step - loss: 2.0656 - accuracy: 0.3165\n",
            "Epoch 73/450\n",
            "3/3 [==============================] - 0s 3ms/step - loss: 2.0566 - accuracy: 0.2911\n",
            "Epoch 74/450\n",
            "3/3 [==============================] - 0s 9ms/step - loss: 2.0308 - accuracy: 0.3165\n",
            "Epoch 75/450\n",
            "3/3 [==============================] - 0s 6ms/step - loss: 2.0419 - accuracy: 0.3165\n",
            "Epoch 76/450\n",
            "3/3 [==============================] - 0s 8ms/step - loss: 2.0218 - accuracy: 0.2785\n",
            "Epoch 77/450\n",
            "3/3 [==============================] - 0s 8ms/step - loss: 1.9978 - accuracy: 0.3165\n",
            "Epoch 78/450\n",
            "3/3 [==============================] - 0s 16ms/step - loss: 1.9928 - accuracy: 0.3291\n",
            "Epoch 79/450\n",
            "3/3 [==============================] - 0s 9ms/step - loss: 1.9859 - accuracy: 0.3165\n",
            "Epoch 80/450\n",
            "3/3 [==============================] - 0s 7ms/step - loss: 1.9672 - accuracy: 0.3165\n",
            "Epoch 81/450\n",
            "3/3 [==============================] - 0s 12ms/step - loss: 1.9401 - accuracy: 0.3291\n",
            "Epoch 82/450\n",
            "3/3 [==============================] - 0s 6ms/step - loss: 1.9441 - accuracy: 0.3291\n",
            "Epoch 83/450\n",
            "3/3 [==============================] - 0s 13ms/step - loss: 1.9201 - accuracy: 0.3544\n",
            "Epoch 84/450\n",
            "3/3 [==============================] - 0s 8ms/step - loss: 1.9023 - accuracy: 0.3544\n",
            "Epoch 85/450\n",
            "3/3 [==============================] - 0s 8ms/step - loss: 1.8951 - accuracy: 0.3544\n",
            "Epoch 86/450\n",
            "3/3 [==============================] - 0s 0s/step - loss: 1.8853 - accuracy: 0.3165\n",
            "Epoch 87/450\n",
            "3/3 [==============================] - 0s 8ms/step - loss: 1.8898 - accuracy: 0.3544\n",
            "Epoch 88/450\n",
            "3/3 [==============================] - 0s 8ms/step - loss: 1.8641 - accuracy: 0.3418\n",
            "Epoch 89/450\n",
            "3/3 [==============================] - 0s 8ms/step - loss: 1.8457 - accuracy: 0.3924\n",
            "Epoch 90/450\n",
            "3/3 [==============================] - 0s 8ms/step - loss: 1.8406 - accuracy: 0.4177\n",
            "Epoch 91/450\n",
            "3/3 [==============================] - 0s 8ms/step - loss: 1.8329 - accuracy: 0.3924\n",
            "Epoch 92/450\n",
            "3/3 [==============================] - 0s 7ms/step - loss: 1.8184 - accuracy: 0.4304\n",
            "Epoch 93/450\n",
            "3/3 [==============================] - 0s 3ms/step - loss: 1.8034 - accuracy: 0.4051\n",
            "Epoch 94/450\n",
            "3/3 [==============================] - 0s 7ms/step - loss: 1.7922 - accuracy: 0.4304\n",
            "Epoch 95/450\n",
            "3/3 [==============================] - 0s 8ms/step - loss: 1.7746 - accuracy: 0.4177\n",
            "Epoch 96/450\n",
            "3/3 [==============================] - 0s 892us/step - loss: 1.7639 - accuracy: 0.4430\n",
            "Epoch 97/450\n",
            "3/3 [==============================] - 0s 8ms/step - loss: 1.7652 - accuracy: 0.4177\n",
            "Epoch 98/450\n",
            "3/3 [==============================] - 0s 0s/step - loss: 1.7549 - accuracy: 0.4430\n",
            "Epoch 99/450\n",
            "3/3 [==============================] - 0s 10ms/step - loss: 1.7435 - accuracy: 0.4304\n",
            "Epoch 100/450\n",
            "3/3 [==============================] - 0s 9ms/step - loss: 1.7228 - accuracy: 0.4557\n",
            "Epoch 101/450\n",
            "3/3 [==============================] - 0s 12ms/step - loss: 1.7098 - accuracy: 0.5063\n",
            "Epoch 102/450\n",
            "3/3 [==============================] - 0s 8ms/step - loss: 1.7152 - accuracy: 0.4557\n",
            "Epoch 103/450\n",
            "3/3 [==============================] - 0s 8ms/step - loss: 1.6966 - accuracy: 0.4684\n",
            "Epoch 104/450\n",
            "3/3 [==============================] - 0s 5ms/step - loss: 1.6808 - accuracy: 0.5063\n",
            "Epoch 105/450\n",
            "3/3 [==============================] - 0s 3ms/step - loss: 1.6898 - accuracy: 0.4937\n",
            "Epoch 106/450\n",
            "3/3 [==============================] - 0s 6ms/step - loss: 1.6541 - accuracy: 0.5570\n",
            "Epoch 107/450\n",
            "3/3 [==============================] - 0s 8ms/step - loss: 1.6500 - accuracy: 0.5190\n",
            "Epoch 108/450\n",
            "3/3 [==============================] - 0s 7ms/step - loss: 1.6453 - accuracy: 0.5063\n",
            "Epoch 109/450\n",
            "3/3 [==============================] - 0s 11ms/step - loss: 1.6322 - accuracy: 0.5063\n",
            "Epoch 110/450\n",
            "3/3 [==============================] - 0s 8ms/step - loss: 1.6254 - accuracy: 0.5570\n",
            "Epoch 111/450\n",
            "3/3 [==============================] - 0s 10ms/step - loss: 1.5997 - accuracy: 0.5316\n",
            "Epoch 112/450\n",
            "3/3 [==============================] - 0s 585us/step - loss: 1.6149 - accuracy: 0.4684\n",
            "Epoch 113/450\n",
            "3/3 [==============================] - 0s 4ms/step - loss: 1.5917 - accuracy: 0.5570\n",
            "Epoch 114/450\n",
            "3/3 [==============================] - 0s 8ms/step - loss: 1.5663 - accuracy: 0.5570\n",
            "Epoch 115/450\n",
            "3/3 [==============================] - 0s 8ms/step - loss: 1.5587 - accuracy: 0.5823\n",
            "Epoch 116/450\n",
            "3/3 [==============================] - 0s 254us/step - loss: 1.5611 - accuracy: 0.5443\n",
            "Epoch 117/450\n",
            "3/3 [==============================] - 0s 12ms/step - loss: 1.5414 - accuracy: 0.5696\n",
            "Epoch 118/450\n",
            "3/3 [==============================] - 0s 8ms/step - loss: 1.5500 - accuracy: 0.5190\n",
            "Epoch 119/450\n",
            "3/3 [==============================] - 0s 10ms/step - loss: 1.5369 - accuracy: 0.5570\n",
            "Epoch 120/450\n",
            "3/3 [==============================] - 0s 8ms/step - loss: 1.5226 - accuracy: 0.5696\n",
            "Epoch 121/450\n",
            "3/3 [==============================] - 0s 10ms/step - loss: 1.5145 - accuracy: 0.6076\n",
            "Epoch 122/450\n",
            "3/3 [==============================] - 0s 5ms/step - loss: 1.4914 - accuracy: 0.6329\n",
            "Epoch 123/450\n",
            "3/3 [==============================] - 0s 5ms/step - loss: 1.4880 - accuracy: 0.6076\n",
            "Epoch 124/450\n",
            "3/3 [==============================] - 0s 8ms/step - loss: 1.4599 - accuracy: 0.5823\n",
            "Epoch 125/450\n",
            "3/3 [==============================] - 0s 8ms/step - loss: 1.4550 - accuracy: 0.5823\n",
            "Epoch 126/450\n",
            "3/3 [==============================] - 0s 7ms/step - loss: 1.4592 - accuracy: 0.5949\n",
            "Epoch 127/450\n",
            "3/3 [==============================] - 0s 14ms/step - loss: 1.4579 - accuracy: 0.5949\n",
            "Epoch 128/450\n",
            "3/3 [==============================] - 0s 8ms/step - loss: 1.4256 - accuracy: 0.6456\n",
            "Epoch 129/450\n",
            "3/3 [==============================] - 0s 8ms/step - loss: 1.4288 - accuracy: 0.6076\n",
            "Epoch 130/450\n",
            "3/3 [==============================] - 0s 6ms/step - loss: 1.4048 - accuracy: 0.6203\n",
            "Epoch 131/450\n",
            "3/3 [==============================] - 0s 13ms/step - loss: 1.4040 - accuracy: 0.6456\n",
            "Epoch 132/450\n",
            "3/3 [==============================] - 0s 7ms/step - loss: 1.3892 - accuracy: 0.6076\n",
            "Epoch 133/450\n",
            "3/3 [==============================] - 0s 8ms/step - loss: 1.3665 - accuracy: 0.6076\n",
            "Epoch 134/450\n",
            "3/3 [==============================] - 0s 20ms/step - loss: 1.3681 - accuracy: 0.6203\n",
            "Epoch 135/450\n",
            "3/3 [==============================] - 0s 2ms/step - loss: 1.3595 - accuracy: 0.6456\n",
            "Epoch 136/450\n",
            "3/3 [==============================] - 0s 8ms/step - loss: 1.3696 - accuracy: 0.6203\n",
            "Epoch 137/450\n",
            "3/3 [==============================] - 0s 7ms/step - loss: 1.3479 - accuracy: 0.6203\n",
            "Epoch 138/450\n",
            "3/3 [==============================] - 0s 7ms/step - loss: 1.3236 - accuracy: 0.6582\n",
            "Epoch 139/450\n",
            "3/3 [==============================] - 0s 0s/step - loss: 1.3085 - accuracy: 0.7468\n",
            "Epoch 140/450\n",
            "3/3 [==============================] - 0s 4ms/step - loss: 1.3249 - accuracy: 0.6076\n",
            "Epoch 141/450\n",
            "3/3 [==============================] - 0s 721us/step - loss: 1.2927 - accuracy: 0.7089\n",
            "Epoch 142/450\n",
            "3/3 [==============================] - 0s 11ms/step - loss: 1.2942 - accuracy: 0.6835\n",
            "Epoch 143/450\n",
            "3/3 [==============================] - 0s 8ms/step - loss: 1.2794 - accuracy: 0.6709\n",
            "Epoch 144/450\n",
            "3/3 [==============================] - 0s 8ms/step - loss: 1.2486 - accuracy: 0.6962\n",
            "Epoch 145/450\n",
            "3/3 [==============================] - 0s 7ms/step - loss: 1.2487 - accuracy: 0.6709\n",
            "Epoch 146/450\n",
            "3/3 [==============================] - 0s 11ms/step - loss: 1.2362 - accuracy: 0.6962\n",
            "Epoch 147/450\n",
            "3/3 [==============================] - 0s 12ms/step - loss: 1.2181 - accuracy: 0.6835\n",
            "Epoch 148/450\n",
            "3/3 [==============================] - 0s 9ms/step - loss: 1.2042 - accuracy: 0.7089\n",
            "Epoch 149/450\n",
            "3/3 [==============================] - 0s 1ms/step - loss: 1.2141 - accuracy: 0.7468\n",
            "Epoch 150/450\n",
            "3/3 [==============================] - 0s 6ms/step - loss: 1.1732 - accuracy: 0.7342\n",
            "Epoch 151/450\n",
            "3/3 [==============================] - 0s 4ms/step - loss: 1.1931 - accuracy: 0.6962\n",
            "Epoch 152/450\n",
            "3/3 [==============================] - 0s 4ms/step - loss: 1.1677 - accuracy: 0.7215\n",
            "Epoch 153/450\n",
            "3/3 [==============================] - 0s 21ms/step - loss: 1.1653 - accuracy: 0.7089\n",
            "Epoch 154/450\n",
            "3/3 [==============================] - 0s 10ms/step - loss: 1.1337 - accuracy: 0.7342\n",
            "Epoch 155/450\n",
            "3/3 [==============================] - 0s 8ms/step - loss: 1.1345 - accuracy: 0.7089\n",
            "Epoch 156/450\n",
            "3/3 [==============================] - 0s 9ms/step - loss: 1.1402 - accuracy: 0.7215\n",
            "Epoch 157/450\n",
            "3/3 [==============================] - 0s 10ms/step - loss: 1.1257 - accuracy: 0.7595\n",
            "Epoch 158/450\n",
            "3/3 [==============================] - 0s 5ms/step - loss: 1.1312 - accuracy: 0.7215\n",
            "Epoch 159/450\n",
            "3/3 [==============================] - 0s 7ms/step - loss: 1.0937 - accuracy: 0.7342\n",
            "Epoch 160/450\n",
            "3/3 [==============================] - 0s 0s/step - loss: 1.0786 - accuracy: 0.7342\n",
            "Epoch 161/450\n",
            "3/3 [==============================] - 0s 11ms/step - loss: 1.0799 - accuracy: 0.7468\n",
            "Epoch 162/450\n",
            "3/3 [==============================] - 0s 5ms/step - loss: 1.0536 - accuracy: 0.7468\n",
            "Epoch 163/450\n",
            "3/3 [==============================] - 0s 12ms/step - loss: 1.0737 - accuracy: 0.7342\n",
            "Epoch 164/450\n",
            "3/3 [==============================] - 0s 8ms/step - loss: 1.0263 - accuracy: 0.7595\n",
            "Epoch 165/450\n",
            "3/3 [==============================] - 0s 8ms/step - loss: 1.0268 - accuracy: 0.7722\n",
            "Epoch 166/450\n",
            "3/3 [==============================] - 0s 8ms/step - loss: 1.0069 - accuracy: 0.7595\n",
            "Epoch 167/450\n",
            "3/3 [==============================] - 0s 7ms/step - loss: 1.0160 - accuracy: 0.7342\n",
            "Epoch 168/450\n",
            "3/3 [==============================] - 0s 7ms/step - loss: 0.9948 - accuracy: 0.7722\n",
            "Epoch 169/450\n",
            "3/3 [==============================] - 0s 9ms/step - loss: 0.9791 - accuracy: 0.7848\n",
            "Epoch 170/450\n",
            "3/3 [==============================] - 0s 7ms/step - loss: 0.9789 - accuracy: 0.7595\n",
            "Epoch 171/450\n",
            "3/3 [==============================] - 0s 9ms/step - loss: 0.9704 - accuracy: 0.7848\n",
            "Epoch 172/450\n",
            "3/3 [==============================] - 0s 11ms/step - loss: 0.9612 - accuracy: 0.7595\n",
            "Epoch 173/450\n",
            "3/3 [==============================] - 0s 7ms/step - loss: 0.9352 - accuracy: 0.7722\n",
            "Epoch 174/450\n",
            "3/3 [==============================] - 0s 8ms/step - loss: 0.9277 - accuracy: 0.8101\n",
            "Epoch 175/450\n",
            "3/3 [==============================] - 0s 10ms/step - loss: 0.9336 - accuracy: 0.7975\n",
            "Epoch 176/450\n",
            "3/3 [==============================] - 0s 5ms/step - loss: 0.9163 - accuracy: 0.7722\n",
            "Epoch 177/450\n",
            "3/3 [==============================] - 0s 8ms/step - loss: 0.9076 - accuracy: 0.7975\n",
            "Epoch 178/450\n",
            "3/3 [==============================] - 0s 7ms/step - loss: 0.9063 - accuracy: 0.7848\n",
            "Epoch 179/450\n",
            "3/3 [==============================] - 0s 6ms/step - loss: 0.8919 - accuracy: 0.8228\n",
            "Epoch 180/450\n",
            "3/3 [==============================] - 0s 10ms/step - loss: 0.8613 - accuracy: 0.8101\n",
            "Epoch 181/450\n",
            "3/3 [==============================] - 0s 8ms/step - loss: 0.8522 - accuracy: 0.8354\n",
            "Epoch 182/450\n",
            "3/3 [==============================] - 0s 9ms/step - loss: 0.8551 - accuracy: 0.8354\n",
            "Epoch 183/450\n",
            "3/3 [==============================] - 0s 0s/step - loss: 0.8613 - accuracy: 0.7975\n",
            "Epoch 184/450\n",
            "3/3 [==============================] - 0s 4ms/step - loss: 0.8274 - accuracy: 0.8481\n",
            "Epoch 185/450\n",
            "3/3 [==============================] - 0s 0s/step - loss: 0.8299 - accuracy: 0.8101\n",
            "Epoch 186/450\n",
            "3/3 [==============================] - 0s 8ms/step - loss: 0.8204 - accuracy: 0.7975\n",
            "Epoch 187/450\n",
            "3/3 [==============================] - 0s 8ms/step - loss: 0.8321 - accuracy: 0.8354\n",
            "Epoch 188/450\n",
            "3/3 [==============================] - 0s 9ms/step - loss: 0.8079 - accuracy: 0.8354\n",
            "Epoch 189/450\n",
            "3/3 [==============================] - 0s 7ms/step - loss: 0.7920 - accuracy: 0.8481\n",
            "Epoch 190/450\n",
            "3/3 [==============================] - 0s 2ms/step - loss: 0.7922 - accuracy: 0.8354\n",
            "Epoch 191/450\n",
            "3/3 [==============================] - 0s 14ms/step - loss: 0.7766 - accuracy: 0.8228\n",
            "Epoch 192/450\n",
            "3/3 [==============================] - 0s 5ms/step - loss: 0.7572 - accuracy: 0.8481\n",
            "Epoch 193/450\n",
            "3/3 [==============================] - 0s 8ms/step - loss: 0.7530 - accuracy: 0.8228\n",
            "Epoch 194/450\n",
            "3/3 [==============================] - 0s 7ms/step - loss: 0.7463 - accuracy: 0.8608\n",
            "Epoch 195/450\n",
            "3/3 [==============================] - 0s 17ms/step - loss: 0.7453 - accuracy: 0.8608\n",
            "Epoch 196/450\n",
            "3/3 [==============================] - 0s 5ms/step - loss: 0.7320 - accuracy: 0.8608\n",
            "Epoch 197/450\n",
            "3/3 [==============================] - 0s 8ms/step - loss: 0.7211 - accuracy: 0.8481\n",
            "Epoch 198/450\n",
            "3/3 [==============================] - 0s 9ms/step - loss: 0.7250 - accuracy: 0.8608\n",
            "Epoch 199/450\n",
            "3/3 [==============================] - 0s 12ms/step - loss: 0.7125 - accuracy: 0.8481\n",
            "Epoch 200/450\n",
            "3/3 [==============================] - 0s 8ms/step - loss: 0.7151 - accuracy: 0.8481\n",
            "Epoch 201/450\n",
            "3/3 [==============================] - 0s 8ms/step - loss: 0.6953 - accuracy: 0.8228\n",
            "Epoch 202/450\n",
            "3/3 [==============================] - 0s 5ms/step - loss: 0.6772 - accuracy: 0.8608\n",
            "Epoch 203/450\n",
            "3/3 [==============================] - 0s 7ms/step - loss: 0.6784 - accuracy: 0.8608\n",
            "Epoch 204/450\n",
            "3/3 [==============================] - 0s 8ms/step - loss: 0.6735 - accuracy: 0.8608\n",
            "Epoch 205/450\n",
            "3/3 [==============================] - 0s 8ms/step - loss: 0.6575 - accuracy: 0.8608\n",
            "Epoch 206/450\n",
            "3/3 [==============================] - 0s 7ms/step - loss: 0.6687 - accuracy: 0.8734\n",
            "Epoch 207/450\n",
            "3/3 [==============================] - 0s 10ms/step - loss: 0.6481 - accuracy: 0.8608\n",
            "Epoch 208/450\n",
            "3/3 [==============================] - 0s 8ms/step - loss: 0.6472 - accuracy: 0.8734\n",
            "Epoch 209/450\n",
            "3/3 [==============================] - 0s 7ms/step - loss: 0.6393 - accuracy: 0.8734\n",
            "Epoch 210/450\n",
            "3/3 [==============================] - 0s 5ms/step - loss: 0.6324 - accuracy: 0.8608\n",
            "Epoch 211/450\n",
            "3/3 [==============================] - 0s 16ms/step - loss: 0.6311 - accuracy: 0.8734\n",
            "Epoch 212/450\n",
            "3/3 [==============================] - 0s 10ms/step - loss: 0.6152 - accuracy: 0.8734\n",
            "Epoch 213/450\n",
            "3/3 [==============================] - 0s 5ms/step - loss: 0.6107 - accuracy: 0.8734\n",
            "Epoch 214/450\n",
            "3/3 [==============================] - 0s 10ms/step - loss: 0.6049 - accuracy: 0.8608\n",
            "Epoch 215/450\n",
            "3/3 [==============================] - 0s 6ms/step - loss: 0.6016 - accuracy: 0.8734\n",
            "Epoch 216/450\n",
            "3/3 [==============================] - 0s 0s/step - loss: 0.5998 - accuracy: 0.8734\n",
            "Epoch 217/450\n",
            "3/3 [==============================] - 0s 6ms/step - loss: 0.5917 - accuracy: 0.8608\n",
            "Epoch 218/450\n",
            "3/3 [==============================] - 0s 8ms/step - loss: 0.5890 - accuracy: 0.8734\n",
            "Epoch 219/450\n",
            "3/3 [==============================] - 0s 16ms/step - loss: 0.5789 - accuracy: 0.8608\n",
            "Epoch 220/450\n",
            "3/3 [==============================] - 0s 9ms/step - loss: 0.5727 - accuracy: 0.8608\n",
            "Epoch 221/450\n",
            "3/3 [==============================] - 0s 8ms/step - loss: 0.5847 - accuracy: 0.8608\n",
            "Epoch 222/450\n",
            "3/3 [==============================] - 0s 8ms/step - loss: 0.5582 - accuracy: 0.8734\n",
            "Epoch 223/450\n",
            "3/3 [==============================] - 0s 8ms/step - loss: 0.5590 - accuracy: 0.8608\n",
            "Epoch 224/450\n",
            "3/3 [==============================] - 0s 8ms/step - loss: 0.5575 - accuracy: 0.8608\n",
            "Epoch 225/450\n",
            "3/3 [==============================] - 0s 8ms/step - loss: 0.5588 - accuracy: 0.8608\n",
            "Epoch 226/450\n",
            "3/3 [==============================] - 0s 8ms/step - loss: 0.5329 - accuracy: 0.8861\n",
            "Epoch 227/450\n",
            "3/3 [==============================] - 0s 12ms/step - loss: 0.5391 - accuracy: 0.8734\n",
            "Epoch 228/450\n",
            "3/3 [==============================] - 0s 8ms/step - loss: 0.5406 - accuracy: 0.8861\n",
            "Epoch 229/450\n",
            "3/3 [==============================] - 0s 8ms/step - loss: 0.5330 - accuracy: 0.8734\n",
            "Epoch 230/450\n",
            "3/3 [==============================] - 0s 8ms/step - loss: 0.5234 - accuracy: 0.8734\n",
            "Epoch 231/450\n",
            "3/3 [==============================] - 0s 8ms/step - loss: 0.5239 - accuracy: 0.8734\n",
            "Epoch 232/450\n",
            "3/3 [==============================] - 0s 7ms/step - loss: 0.5122 - accuracy: 0.8734\n",
            "Epoch 233/450\n",
            "3/3 [==============================] - 0s 528us/step - loss: 0.5158 - accuracy: 0.8734\n",
            "Epoch 234/450\n",
            "3/3 [==============================] - 0s 7ms/step - loss: 0.5090 - accuracy: 0.8734\n",
            "Epoch 235/450\n",
            "3/3 [==============================] - 0s 7ms/step - loss: 0.4984 - accuracy: 0.8734\n",
            "Epoch 236/450\n",
            "3/3 [==============================] - 0s 7ms/step - loss: 0.5034 - accuracy: 0.8608\n",
            "Epoch 237/450\n",
            "3/3 [==============================] - 0s 11ms/step - loss: 0.4948 - accuracy: 0.8734\n",
            "Epoch 238/450\n",
            "3/3 [==============================] - 0s 8ms/step - loss: 0.4949 - accuracy: 0.8861\n",
            "Epoch 239/450\n",
            "3/3 [==============================] - 0s 3ms/step - loss: 0.4812 - accuracy: 0.8987\n",
            "Epoch 240/450\n",
            "3/3 [==============================] - 0s 0s/step - loss: 0.4852 - accuracy: 0.8608\n",
            "Epoch 241/450\n",
            "3/3 [==============================] - 0s 10ms/step - loss: 0.4729 - accuracy: 0.8734\n",
            "Epoch 242/450\n",
            "3/3 [==============================] - 0s 5ms/step - loss: 0.4745 - accuracy: 0.8734\n",
            "Epoch 243/450\n",
            "3/3 [==============================] - 0s 14ms/step - loss: 0.4710 - accuracy: 0.8608\n",
            "Epoch 244/450\n",
            "3/3 [==============================] - 0s 8ms/step - loss: 0.4703 - accuracy: 0.8734\n",
            "Epoch 245/450\n",
            "3/3 [==============================] - 0s 6ms/step - loss: 0.4621 - accuracy: 0.8734\n",
            "Epoch 246/450\n",
            "3/3 [==============================] - 0s 10ms/step - loss: 0.4630 - accuracy: 0.8734\n",
            "Epoch 247/450\n",
            "3/3 [==============================] - 0s 9ms/step - loss: 0.4531 - accuracy: 0.8734\n",
            "Epoch 248/450\n",
            "3/3 [==============================] - 0s 9ms/step - loss: 0.4636 - accuracy: 0.8734\n",
            "Epoch 249/450\n",
            "3/3 [==============================] - 0s 17ms/step - loss: 0.4468 - accuracy: 0.8734\n",
            "Epoch 250/450\n",
            "3/3 [==============================] - 0s 13ms/step - loss: 0.4433 - accuracy: 0.8734\n",
            "Epoch 251/450\n",
            "3/3 [==============================] - 0s 7ms/step - loss: 0.4313 - accuracy: 0.8734\n",
            "Epoch 252/450\n",
            "3/3 [==============================] - 0s 8ms/step - loss: 0.4407 - accuracy: 0.8734\n",
            "Epoch 253/450\n",
            "3/3 [==============================] - 0s 13ms/step - loss: 0.4302 - accuracy: 0.8734\n",
            "Epoch 254/450\n",
            "3/3 [==============================] - 0s 4ms/step - loss: 0.4275 - accuracy: 0.8608\n",
            "Epoch 255/450\n",
            "3/3 [==============================] - 0s 14ms/step - loss: 0.4228 - accuracy: 0.8987\n",
            "Epoch 256/450\n",
            "3/3 [==============================] - 0s 11ms/step - loss: 0.4212 - accuracy: 0.8734\n",
            "Epoch 257/450\n",
            "3/3 [==============================] - 0s 6ms/step - loss: 0.4159 - accuracy: 0.8861\n",
            "Epoch 258/450\n",
            "3/3 [==============================] - 0s 8ms/step - loss: 0.4159 - accuracy: 0.8987\n",
            "Epoch 259/450\n",
            "3/3 [==============================] - 0s 8ms/step - loss: 0.4159 - accuracy: 0.8734\n",
            "Epoch 260/450\n",
            "3/3 [==============================] - 0s 7ms/step - loss: 0.4058 - accuracy: 0.8734\n",
            "Epoch 261/450\n",
            "3/3 [==============================] - 0s 7ms/step - loss: 0.4188 - accuracy: 0.8608\n",
            "Epoch 262/450\n",
            "3/3 [==============================] - 0s 0s/step - loss: 0.4053 - accuracy: 0.8861\n",
            "Epoch 263/450\n",
            "3/3 [==============================] - 0s 6ms/step - loss: 0.4013 - accuracy: 0.8734\n",
            "Epoch 264/450\n",
            "3/3 [==============================] - 0s 8ms/step - loss: 0.3941 - accuracy: 0.9114\n",
            "Epoch 265/450\n",
            "3/3 [==============================] - 0s 5ms/step - loss: 0.3942 - accuracy: 0.9114\n",
            "Epoch 266/450\n",
            "3/3 [==============================] - 0s 8ms/step - loss: 0.3795 - accuracy: 0.9114\n",
            "Epoch 267/450\n",
            "3/3 [==============================] - 0s 7ms/step - loss: 0.3852 - accuracy: 0.8608\n",
            "Epoch 268/450\n",
            "3/3 [==============================] - 0s 16ms/step - loss: 0.3742 - accuracy: 0.8734\n",
            "Epoch 269/450\n",
            "3/3 [==============================] - 0s 9ms/step - loss: 0.3854 - accuracy: 0.8734\n",
            "Epoch 270/450\n",
            "3/3 [==============================] - 0s 9ms/step - loss: 0.3743 - accuracy: 0.9114\n",
            "Epoch 271/450\n",
            "3/3 [==============================] - 0s 8ms/step - loss: 0.3667 - accuracy: 0.9241\n",
            "Epoch 272/450\n",
            "3/3 [==============================] - 0s 5ms/step - loss: 0.3693 - accuracy: 0.8861\n",
            "Epoch 273/450\n",
            "3/3 [==============================] - 0s 11ms/step - loss: 0.3656 - accuracy: 0.9114\n",
            "Epoch 274/450\n",
            "3/3 [==============================] - 0s 5ms/step - loss: 0.3641 - accuracy: 0.9241\n",
            "Epoch 275/450\n",
            "3/3 [==============================] - 0s 7ms/step - loss: 0.3536 - accuracy: 0.9494\n",
            "Epoch 276/450\n",
            "3/3 [==============================] - 0s 14ms/step - loss: 0.3584 - accuracy: 0.9494\n",
            "Epoch 277/450\n",
            "3/3 [==============================] - 0s 8ms/step - loss: 0.3530 - accuracy: 0.9494\n",
            "Epoch 278/450\n",
            "3/3 [==============================] - 0s 10ms/step - loss: 0.3471 - accuracy: 0.9367\n",
            "Epoch 279/450\n",
            "3/3 [==============================] - 0s 8ms/step - loss: 0.3444 - accuracy: 0.9494\n",
            "Epoch 280/450\n",
            "3/3 [==============================] - 0s 6ms/step - loss: 0.3455 - accuracy: 0.9367\n",
            "Epoch 281/450\n",
            "3/3 [==============================] - 0s 9ms/step - loss: 0.3386 - accuracy: 0.9494\n",
            "Epoch 282/450\n",
            "3/3 [==============================] - 0s 9ms/step - loss: 0.3373 - accuracy: 0.9494\n",
            "Epoch 283/450\n",
            "3/3 [==============================] - 0s 7ms/step - loss: 0.3285 - accuracy: 0.9241\n",
            "Epoch 284/450\n",
            "3/3 [==============================] - 0s 9ms/step - loss: 0.3313 - accuracy: 0.9367\n",
            "Epoch 285/450\n",
            "3/3 [==============================] - 0s 7ms/step - loss: 0.3174 - accuracy: 0.9367\n",
            "Epoch 286/450\n",
            "3/3 [==============================] - 0s 26ms/step - loss: 0.3251 - accuracy: 0.9367\n",
            "Epoch 287/450\n",
            "3/3 [==============================] - 0s 13ms/step - loss: 0.3308 - accuracy: 0.9241\n",
            "Epoch 288/450\n",
            "3/3 [==============================] - 0s 5ms/step - loss: 0.3150 - accuracy: 0.9494\n",
            "Epoch 289/450\n",
            "3/3 [==============================] - 0s 10ms/step - loss: 0.3138 - accuracy: 0.9747\n",
            "Epoch 290/450\n",
            "3/3 [==============================] - 0s 7ms/step - loss: 0.3146 - accuracy: 0.9114\n",
            "Epoch 291/450\n",
            "3/3 [==============================] - 0s 8ms/step - loss: 0.3158 - accuracy: 0.9494\n",
            "Epoch 292/450\n",
            "3/3 [==============================] - 0s 15ms/step - loss: 0.3107 - accuracy: 0.9494\n",
            "Epoch 293/450\n",
            "3/3 [==============================] - 0s 6ms/step - loss: 0.2975 - accuracy: 0.9873\n",
            "Epoch 294/450\n",
            "3/3 [==============================] - 0s 10ms/step - loss: 0.3000 - accuracy: 0.9620\n",
            "Epoch 295/450\n",
            "3/3 [==============================] - 0s 2ms/step - loss: 0.2949 - accuracy: 0.9747\n",
            "Epoch 296/450\n",
            "3/3 [==============================] - 0s 13ms/step - loss: 0.2870 - accuracy: 0.9873\n",
            "Epoch 297/450\n",
            "3/3 [==============================] - 0s 8ms/step - loss: 0.2813 - accuracy: 0.9747\n",
            "Epoch 298/450\n",
            "3/3 [==============================] - 0s 9ms/step - loss: 0.2865 - accuracy: 0.9620\n",
            "Epoch 299/450\n",
            "3/3 [==============================] - 0s 8ms/step - loss: 0.2820 - accuracy: 0.9494\n",
            "Epoch 300/450\n",
            "3/3 [==============================] - 0s 8ms/step - loss: 0.2882 - accuracy: 0.9367\n",
            "Epoch 301/450\n",
            "3/3 [==============================] - 0s 9ms/step - loss: 0.2678 - accuracy: 1.0000\n",
            "Epoch 302/450\n",
            "3/3 [==============================] - 0s 22ms/step - loss: 0.2677 - accuracy: 0.9873\n",
            "Epoch 303/450\n",
            "3/3 [==============================] - 0s 6ms/step - loss: 0.2687 - accuracy: 1.0000\n",
            "Epoch 304/450\n",
            "3/3 [==============================] - 0s 5ms/step - loss: 0.2670 - accuracy: 0.9873\n",
            "Epoch 305/450\n",
            "3/3 [==============================] - 0s 10ms/step - loss: 0.2553 - accuracy: 0.9873\n",
            "Epoch 306/450\n",
            "3/3 [==============================] - 0s 8ms/step - loss: 0.2602 - accuracy: 0.9873\n",
            "Epoch 307/450\n",
            "3/3 [==============================] - 0s 14ms/step - loss: 0.2531 - accuracy: 1.0000\n",
            "Epoch 308/450\n",
            "3/3 [==============================] - 0s 9ms/step - loss: 0.2530 - accuracy: 0.9873\n",
            "Epoch 309/450\n",
            "3/3 [==============================] - 0s 9ms/step - loss: 0.2490 - accuracy: 1.0000\n",
            "Epoch 310/450\n",
            "3/3 [==============================] - 0s 13ms/step - loss: 0.2453 - accuracy: 1.0000\n",
            "Epoch 311/450\n",
            "3/3 [==============================] - 0s 9ms/step - loss: 0.2490 - accuracy: 0.9873\n",
            "Epoch 312/450\n",
            "3/3 [==============================] - 0s 9ms/step - loss: 0.2492 - accuracy: 0.9873\n",
            "Epoch 313/450\n",
            "3/3 [==============================] - 0s 5ms/step - loss: 0.2404 - accuracy: 0.9873\n",
            "Epoch 314/450\n",
            "3/3 [==============================] - 0s 9ms/step - loss: 0.2353 - accuracy: 0.9873\n",
            "Epoch 315/450\n",
            "3/3 [==============================] - 0s 10ms/step - loss: 0.2344 - accuracy: 1.0000\n",
            "Epoch 316/450\n",
            "3/3 [==============================] - 0s 10ms/step - loss: 0.2370 - accuracy: 1.0000\n",
            "Epoch 317/450\n",
            "3/3 [==============================] - 0s 8ms/step - loss: 0.2227 - accuracy: 0.9873\n",
            "Epoch 318/450\n",
            "3/3 [==============================] - 0s 8ms/step - loss: 0.2330 - accuracy: 1.0000\n",
            "Epoch 319/450\n",
            "3/3 [==============================] - 0s 13ms/step - loss: 0.2217 - accuracy: 1.0000\n",
            "Epoch 320/450\n",
            "3/3 [==============================] - 0s 9ms/step - loss: 0.2204 - accuracy: 1.0000\n",
            "Epoch 321/450\n",
            "3/3 [==============================] - 0s 7ms/step - loss: 0.2233 - accuracy: 1.0000\n",
            "Epoch 322/450\n",
            "3/3 [==============================] - 0s 11ms/step - loss: 0.2196 - accuracy: 0.9873\n",
            "Epoch 323/450\n",
            "3/3 [==============================] - 0s 8ms/step - loss: 0.2182 - accuracy: 0.9873\n",
            "Epoch 324/450\n",
            "3/3 [==============================] - 0s 5ms/step - loss: 0.2097 - accuracy: 1.0000\n",
            "Epoch 325/450\n",
            "3/3 [==============================] - 0s 12ms/step - loss: 0.2122 - accuracy: 1.0000\n",
            "Epoch 326/450\n",
            "3/3 [==============================] - 0s 8ms/step - loss: 0.2057 - accuracy: 1.0000\n",
            "Epoch 327/450\n",
            "3/3 [==============================] - 0s 10ms/step - loss: 0.2066 - accuracy: 1.0000\n",
            "Epoch 328/450\n",
            "3/3 [==============================] - 0s 8ms/step - loss: 0.1983 - accuracy: 1.0000\n",
            "Epoch 329/450\n",
            "3/3 [==============================] - 0s 8ms/step - loss: 0.1978 - accuracy: 1.0000\n",
            "Epoch 330/450\n",
            "3/3 [==============================] - 0s 10ms/step - loss: 0.2040 - accuracy: 0.9873\n",
            "Epoch 331/450\n",
            "3/3 [==============================] - 0s 8ms/step - loss: 0.1933 - accuracy: 1.0000\n",
            "Epoch 332/450\n",
            "3/3 [==============================] - 0s 10ms/step - loss: 0.1948 - accuracy: 0.9873\n",
            "Epoch 333/450\n",
            "3/3 [==============================] - 0s 8ms/step - loss: 0.1977 - accuracy: 0.9873\n",
            "Epoch 334/450\n",
            "3/3 [==============================] - 0s 12ms/step - loss: 0.1966 - accuracy: 0.9873\n",
            "Epoch 335/450\n",
            "3/3 [==============================] - 0s 8ms/step - loss: 0.1871 - accuracy: 1.0000\n",
            "Epoch 336/450\n",
            "3/3 [==============================] - 0s 4ms/step - loss: 0.1935 - accuracy: 0.9873\n",
            "Epoch 337/450\n",
            "3/3 [==============================] - 0s 8ms/step - loss: 0.1911 - accuracy: 0.9873\n",
            "Epoch 338/450\n",
            "3/3 [==============================] - 0s 2ms/step - loss: 0.1809 - accuracy: 0.9873\n",
            "Epoch 339/450\n",
            "3/3 [==============================] - 0s 5ms/step - loss: 0.1803 - accuracy: 0.9873\n",
            "Epoch 340/450\n",
            "3/3 [==============================] - 0s 8ms/step - loss: 0.1752 - accuracy: 0.9873\n",
            "Epoch 341/450\n",
            "3/3 [==============================] - 0s 13ms/step - loss: 0.1683 - accuracy: 0.9873\n",
            "Epoch 342/450\n",
            "3/3 [==============================] - 0s 13ms/step - loss: 0.1708 - accuracy: 1.0000\n",
            "Epoch 343/450\n",
            "3/3 [==============================] - 0s 11ms/step - loss: 0.1841 - accuracy: 0.9873\n",
            "Epoch 344/450\n",
            "3/3 [==============================] - 0s 7ms/step - loss: 0.1684 - accuracy: 1.0000\n",
            "Epoch 345/450\n",
            "3/3 [==============================] - 0s 8ms/step - loss: 0.1715 - accuracy: 1.0000\n",
            "Epoch 346/450\n",
            "3/3 [==============================] - 0s 12ms/step - loss: 0.1682 - accuracy: 1.0000\n",
            "Epoch 347/450\n",
            "3/3 [==============================] - 0s 10ms/step - loss: 0.1734 - accuracy: 1.0000\n",
            "Epoch 348/450\n",
            "3/3 [==============================] - 0s 10ms/step - loss: 0.1674 - accuracy: 1.0000\n",
            "Epoch 349/450\n",
            "3/3 [==============================] - 0s 4ms/step - loss: 0.1618 - accuracy: 0.9873\n",
            "Epoch 350/450\n",
            "3/3 [==============================] - 0s 27ms/step - loss: 0.1606 - accuracy: 1.0000\n",
            "Epoch 351/450\n",
            "3/3 [==============================] - 0s 6ms/step - loss: 0.1661 - accuracy: 0.9873\n",
            "Epoch 352/450\n",
            "3/3 [==============================] - 0s 7ms/step - loss: 0.1656 - accuracy: 0.9873\n",
            "Epoch 353/450\n",
            "3/3 [==============================] - 0s 7ms/step - loss: 0.1581 - accuracy: 1.0000\n",
            "Epoch 354/450\n",
            "3/3 [==============================] - 0s 7ms/step - loss: 0.1548 - accuracy: 1.0000\n",
            "Epoch 355/450\n",
            "3/3 [==============================] - 0s 8ms/step - loss: 0.1622 - accuracy: 0.9873\n",
            "Epoch 356/450\n",
            "3/3 [==============================] - 0s 6ms/step - loss: 0.1552 - accuracy: 1.0000\n",
            "Epoch 357/450\n",
            "3/3 [==============================] - 0s 11ms/step - loss: 0.1562 - accuracy: 1.0000\n",
            "Epoch 358/450\n",
            "3/3 [==============================] - 0s 8ms/step - loss: 0.1488 - accuracy: 1.0000\n",
            "Epoch 359/450\n",
            "3/3 [==============================] - 0s 12ms/step - loss: 0.1504 - accuracy: 1.0000\n",
            "Epoch 360/450\n",
            "3/3 [==============================] - 0s 8ms/step - loss: 0.1450 - accuracy: 1.0000\n",
            "Epoch 361/450\n",
            "3/3 [==============================] - 0s 4ms/step - loss: 0.1538 - accuracy: 1.0000\n",
            "Epoch 362/450\n",
            "3/3 [==============================] - 0s 6ms/step - loss: 0.1406 - accuracy: 1.0000\n",
            "Epoch 363/450\n",
            "3/3 [==============================] - 0s 7ms/step - loss: 0.1466 - accuracy: 1.0000\n",
            "Epoch 364/450\n",
            "3/3 [==============================] - 0s 3ms/step - loss: 0.1427 - accuracy: 1.0000\n",
            "Epoch 365/450\n",
            "3/3 [==============================] - 0s 9ms/step - loss: 0.1393 - accuracy: 1.0000\n",
            "Epoch 366/450\n",
            "3/3 [==============================] - 0s 9ms/step - loss: 0.1400 - accuracy: 1.0000\n",
            "Epoch 367/450\n",
            "3/3 [==============================] - 0s 5ms/step - loss: 0.1368 - accuracy: 1.0000\n",
            "Epoch 368/450\n",
            "3/3 [==============================] - 0s 16ms/step - loss: 0.1386 - accuracy: 1.0000\n",
            "Epoch 369/450\n",
            "3/3 [==============================] - 0s 9ms/step - loss: 0.1382 - accuracy: 1.0000\n",
            "Epoch 370/450\n",
            "3/3 [==============================] - 0s 8ms/step - loss: 0.1391 - accuracy: 1.0000\n",
            "Epoch 371/450\n",
            "3/3 [==============================] - 0s 5ms/step - loss: 0.1339 - accuracy: 1.0000\n",
            "Epoch 372/450\n",
            "3/3 [==============================] - 0s 11ms/step - loss: 0.1314 - accuracy: 1.0000\n",
            "Epoch 373/450\n",
            "3/3 [==============================] - 0s 8ms/step - loss: 0.1337 - accuracy: 1.0000\n",
            "Epoch 374/450\n",
            "3/3 [==============================] - 0s 8ms/step - loss: 0.1284 - accuracy: 1.0000\n",
            "Epoch 375/450\n",
            "3/3 [==============================] - 0s 12ms/step - loss: 0.1298 - accuracy: 1.0000\n",
            "Epoch 376/450\n",
            "3/3 [==============================] - 0s 8ms/step - loss: 0.1295 - accuracy: 1.0000\n",
            "Epoch 377/450\n",
            "3/3 [==============================] - 0s 8ms/step - loss: 0.1271 - accuracy: 1.0000\n",
            "Epoch 378/450\n",
            "3/3 [==============================] - 0s 9ms/step - loss: 0.1293 - accuracy: 0.9873\n",
            "Epoch 379/450\n",
            "3/3 [==============================] - 0s 9ms/step - loss: 0.1217 - accuracy: 1.0000\n",
            "Epoch 380/450\n",
            "3/3 [==============================] - 0s 9ms/step - loss: 0.1240 - accuracy: 1.0000\n",
            "Epoch 381/450\n",
            "3/3 [==============================] - 0s 9ms/step - loss: 0.1263 - accuracy: 1.0000\n",
            "Epoch 382/450\n",
            "3/3 [==============================] - 0s 9ms/step - loss: 0.1274 - accuracy: 1.0000\n",
            "Epoch 383/450\n",
            "3/3 [==============================] - 0s 11ms/step - loss: 0.1196 - accuracy: 1.0000\n",
            "Epoch 384/450\n",
            "3/3 [==============================] - 0s 8ms/step - loss: 0.1169 - accuracy: 1.0000\n",
            "Epoch 385/450\n",
            "3/3 [==============================] - 0s 8ms/step - loss: 0.1173 - accuracy: 1.0000\n",
            "Epoch 386/450\n",
            "3/3 [==============================] - 0s 9ms/step - loss: 0.1206 - accuracy: 1.0000\n",
            "Epoch 387/450\n",
            "3/3 [==============================] - 0s 6ms/step - loss: 0.1164 - accuracy: 1.0000\n",
            "Epoch 388/450\n",
            "3/3 [==============================] - 0s 10ms/step - loss: 0.1154 - accuracy: 1.0000\n",
            "Epoch 389/450\n",
            "3/3 [==============================] - 0s 11ms/step - loss: 0.1152 - accuracy: 1.0000\n",
            "Epoch 390/450\n",
            "3/3 [==============================] - 0s 9ms/step - loss: 0.1162 - accuracy: 1.0000\n",
            "Epoch 391/450\n",
            "3/3 [==============================] - 0s 8ms/step - loss: 0.1150 - accuracy: 1.0000\n",
            "Epoch 392/450\n",
            "3/3 [==============================] - 0s 8ms/step - loss: 0.1104 - accuracy: 1.0000\n",
            "Epoch 393/450\n",
            "3/3 [==============================] - 0s 6ms/step - loss: 0.1071 - accuracy: 1.0000\n",
            "Epoch 394/450\n",
            "3/3 [==============================] - 0s 8ms/step - loss: 0.1066 - accuracy: 1.0000\n",
            "Epoch 395/450\n",
            "3/3 [==============================] - 0s 7ms/step - loss: 0.1096 - accuracy: 1.0000\n",
            "Epoch 396/450\n",
            "3/3 [==============================] - 0s 11ms/step - loss: 0.1063 - accuracy: 1.0000\n",
            "Epoch 397/450\n",
            "3/3 [==============================] - 0s 8ms/step - loss: 0.1051 - accuracy: 1.0000\n",
            "Epoch 398/450\n",
            "3/3 [==============================] - 0s 1ms/step - loss: 0.1061 - accuracy: 1.0000\n",
            "Epoch 399/450\n",
            "3/3 [==============================] - 0s 4ms/step - loss: 0.1042 - accuracy: 1.0000\n",
            "Epoch 400/450\n",
            "3/3 [==============================] - 0s 10ms/step - loss: 0.1037 - accuracy: 1.0000\n",
            "Epoch 401/450\n",
            "3/3 [==============================] - 0s 4ms/step - loss: 0.1045 - accuracy: 1.0000\n",
            "Epoch 402/450\n",
            "3/3 [==============================] - 0s 12ms/step - loss: 0.1019 - accuracy: 1.0000\n",
            "Epoch 403/450\n",
            "3/3 [==============================] - 0s 6ms/step - loss: 0.1033 - accuracy: 1.0000\n",
            "Epoch 404/450\n",
            "3/3 [==============================] - 0s 7ms/step - loss: 0.0980 - accuracy: 1.0000\n",
            "Epoch 405/450\n",
            "3/3 [==============================] - 0s 14ms/step - loss: 0.1026 - accuracy: 1.0000\n",
            "Epoch 406/450\n",
            "3/3 [==============================] - 0s 2ms/step - loss: 0.0985 - accuracy: 1.0000\n",
            "Epoch 407/450\n",
            "3/3 [==============================] - 0s 7ms/step - loss: 0.0979 - accuracy: 1.0000\n",
            "Epoch 408/450\n",
            "3/3 [==============================] - 0s 10ms/step - loss: 0.1015 - accuracy: 1.0000\n",
            "Epoch 409/450\n",
            "3/3 [==============================] - 0s 10ms/step - loss: 0.0982 - accuracy: 1.0000\n",
            "Epoch 410/450\n",
            "3/3 [==============================] - 0s 6ms/step - loss: 0.0936 - accuracy: 1.0000\n",
            "Epoch 411/450\n",
            "3/3 [==============================] - 0s 8ms/step - loss: 0.0933 - accuracy: 1.0000\n",
            "Epoch 412/450\n",
            "3/3 [==============================] - 0s 9ms/step - loss: 0.0922 - accuracy: 1.0000\n",
            "Epoch 413/450\n",
            "3/3 [==============================] - 0s 7ms/step - loss: 0.0920 - accuracy: 1.0000\n",
            "Epoch 414/450\n",
            "3/3 [==============================] - 0s 8ms/step - loss: 0.0964 - accuracy: 1.0000\n",
            "Epoch 415/450\n",
            "3/3 [==============================] - 0s 7ms/step - loss: 0.0932 - accuracy: 1.0000\n",
            "Epoch 416/450\n",
            "3/3 [==============================] - 0s 7ms/step - loss: 0.0927 - accuracy: 1.0000\n",
            "Epoch 417/450\n",
            "3/3 [==============================] - 0s 10ms/step - loss: 0.0948 - accuracy: 1.0000\n",
            "Epoch 418/450\n",
            "3/3 [==============================] - 0s 11ms/step - loss: 0.0892 - accuracy: 1.0000\n",
            "Epoch 419/450\n",
            "3/3 [==============================] - 0s 7ms/step - loss: 0.0891 - accuracy: 1.0000\n",
            "Epoch 420/450\n",
            "3/3 [==============================] - 0s 19ms/step - loss: 0.0892 - accuracy: 1.0000\n",
            "Epoch 421/450\n",
            "3/3 [==============================] - 0s 13ms/step - loss: 0.0898 - accuracy: 1.0000\n",
            "Epoch 422/450\n",
            "3/3 [==============================] - 0s 3ms/step - loss: 0.0897 - accuracy: 1.0000\n",
            "Epoch 423/450\n",
            "3/3 [==============================] - 0s 8ms/step - loss: 0.0874 - accuracy: 1.0000\n",
            "Epoch 424/450\n",
            "3/3 [==============================] - 0s 10ms/step - loss: 0.0884 - accuracy: 1.0000\n",
            "Epoch 425/450\n",
            "3/3 [==============================] - 0s 16ms/step - loss: 0.0826 - accuracy: 1.0000\n",
            "Epoch 426/450\n",
            "3/3 [==============================] - 0s 4ms/step - loss: 0.0883 - accuracy: 1.0000\n",
            "Epoch 427/450\n",
            "3/3 [==============================] - 0s 10ms/step - loss: 0.0857 - accuracy: 1.0000\n",
            "Epoch 428/450\n",
            "3/3 [==============================] - 0s 3ms/step - loss: 0.0851 - accuracy: 1.0000\n",
            "Epoch 429/450\n",
            "3/3 [==============================] - 0s 9ms/step - loss: 0.0871 - accuracy: 1.0000\n",
            "Epoch 430/450\n",
            "3/3 [==============================] - 0s 8ms/step - loss: 0.0845 - accuracy: 1.0000\n",
            "Epoch 431/450\n",
            "3/3 [==============================] - 0s 16ms/step - loss: 0.0849 - accuracy: 1.0000\n",
            "Epoch 432/450\n",
            "3/3 [==============================] - 0s 11ms/step - loss: 0.0850 - accuracy: 1.0000\n",
            "Epoch 433/450\n",
            "3/3 [==============================] - 0s 7ms/step - loss: 0.0805 - accuracy: 1.0000\n",
            "Epoch 434/450\n",
            "3/3 [==============================] - 0s 10ms/step - loss: 0.0790 - accuracy: 1.0000\n",
            "Epoch 435/450\n",
            "3/3 [==============================] - 0s 9ms/step - loss: 0.0765 - accuracy: 1.0000\n",
            "Epoch 436/450\n",
            "3/3 [==============================] - 0s 12ms/step - loss: 0.0798 - accuracy: 1.0000\n",
            "Epoch 437/450\n",
            "3/3 [==============================] - 0s 9ms/step - loss: 0.0804 - accuracy: 1.0000\n",
            "Epoch 438/450\n",
            "3/3 [==============================] - 0s 11ms/step - loss: 0.0778 - accuracy: 1.0000\n",
            "Epoch 439/450\n",
            "3/3 [==============================] - 0s 8ms/step - loss: 0.0820 - accuracy: 1.0000\n",
            "Epoch 440/450\n",
            "3/3 [==============================] - 0s 8ms/step - loss: 0.0752 - accuracy: 1.0000\n",
            "Epoch 441/450\n",
            "3/3 [==============================] - 0s 10ms/step - loss: 0.0767 - accuracy: 1.0000\n",
            "Epoch 442/450\n",
            "3/3 [==============================] - 0s 9ms/step - loss: 0.0790 - accuracy: 1.0000\n",
            "Epoch 443/450\n",
            "3/3 [==============================] - 0s 8ms/step - loss: 0.0749 - accuracy: 1.0000\n",
            "Epoch 444/450\n",
            "3/3 [==============================] - 0s 5ms/step - loss: 0.0733 - accuracy: 1.0000\n",
            "Epoch 445/450\n",
            "3/3 [==============================] - 0s 8ms/step - loss: 0.0751 - accuracy: 1.0000\n",
            "Epoch 446/450\n",
            "3/3 [==============================] - 0s 8ms/step - loss: 0.0754 - accuracy: 1.0000\n",
            "Epoch 447/450\n",
            "3/3 [==============================] - 0s 8ms/step - loss: 0.0722 - accuracy: 1.0000\n",
            "Epoch 448/450\n",
            "3/3 [==============================] - 0s 11ms/step - loss: 0.0724 - accuracy: 1.0000\n",
            "Epoch 449/450\n",
            "3/3 [==============================] - 0s 10ms/step - loss: 0.0728 - accuracy: 1.0000\n",
            "Epoch 450/450\n",
            "3/3 [==============================] - 0s 9ms/step - loss: 0.0699 - accuracy: 1.0000\n"
          ]
        }
      ],
      "source": [
        "# Training the model (Melatih model data sampai 450 kali)\n",
        "train = model.fit(x_train, y_train, epochs=450)"
      ]
    },
    {
      "cell_type": "markdown",
      "id": "BfQP5TaPkGzB",
      "metadata": {
        "id": "BfQP5TaPkGzB"
      },
      "source": [
        "# **Evaluation Model Analysis**\n",
        "\n",
        "Setelah menjalankan pelatihan model dengan algoritma LSTM serta telah mengetahui hasil akurasi pada step terakhir. Maka, tahapan selanjutnya adalah menganalisa model dengan visualisasi plot akurasi dan loss untuk melihat hasil akurasi dari algoritma pelatihan model LSTM tersebut."
      ]
    },
    {
      "cell_type": "code",
      "execution_count": 24,
      "id": "FEz3P5djksfa",
      "metadata": {
        "colab": {
          "base_uri": "https://localhost:8080/",
          "height": 358
        },
        "id": "FEz3P5djksfa",
        "outputId": "7b669f96-f95b-4d61-e4c2-dfa37b01bc35"
      },
      "outputs": [
        {
          "data": {
            "image/png": "[encoded data removed]",
            "text/plain": [
              "<Figure size 1400x500 with 2 Axes>"
            ]
          },
          "metadata": {},
          "output_type": "display_data"
        }
      ],
      "source": [
        "# Plotting model Accuracy and Loss (Visualisasi Plot Hasil Akurasi dan Loss)\n",
        "# Plot Akurasi\n",
        "plt.figure(figsize=(14, 5))\n",
        "plt.subplot(1, 2, 1)\n",
        "plt.plot(train.history['accuracy'], label='Training Set Accuracy')\n",
        "plt.legend(loc='lower right')\n",
        "plt.title('Accuracy')\n",
        "# Plot Loss\n",
        "plt.subplot(1, 2, 2)\n",
        "plt.plot(train.history['loss'], label='Training Set Loss')\n",
        "plt.legend(loc='upper right')\n",
        "plt.title('Loss')\n",
        "plt.show()"
      ]
    },
    {
      "cell_type": "markdown",
      "id": "odsh6gL8CAfE",
      "metadata": {
        "id": "odsh6gL8CAfE"
      },
      "source": [
        "Terlihat bahwa model pelatihan chatbot dengan algoritma LSTM menghasilkan model yang baik dan tidak terjadi overfitting atau underfitting. Sehingga, model ini layak dilakukan pengujian dan evaluasi model chatbot yang diperoleh."
      ]
    },
    {
      "cell_type": "markdown",
      "id": "WcOYpQfuln4T",
      "metadata": {
        "id": "WcOYpQfuln4T"
      },
      "source": [
        "# **Testing Chatbot**\n",
        "\n",
        "Setelah mengetahui hasil dari akurasi dan loss pada model yang telah ditetapkan dengan LSTM. Maka, tahapan selanjutnya adalah menguji atau testing pada chatbot yang telah dilatih sebelumnya dan melihat apakah sesuai atau tidak pada saat kita masukan teks kalimat pertanyaannya.\n",
        "\n",
        "Pada pengujian ini menggunakan metode input atau masukan sesuai dengan kalimat pertanyaan yang dimasukkan."
      ]
    },
    {
      "cell_type": "code",
      "execution_count": 25,
      "id": "fao4rG4rlh1D",
      "metadata": {
        "colab": {
          "base_uri": "https://localhost:8080/",
          "height": 1000
        },
        "id": "fao4rG4rlh1D",
        "outputId": "1377336c-d420-4a48-8e90-250061057642"
      },
      "outputs": [
        {
          "name": "stdout",
          "output_type": "stream",
          "text": [
            "1/1 [==============================] - 0s 275ms/step\n",
            "🤖 minQ :  Helo! Ini minQ. Lagi kepo tentang minQ ya?\n"
          ]
        },
        {
          "data": {
            "text/html": [
              "\n",
              "                <audio  controls=\"controls\" >\n",
              "                    <source src=\"data:audio/wav;base64,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\" type=\"audio/wav\" />\n",
              "                    Your browser does not support the audio element.\n",
              "                </audio>\n",
              "              "
            ],
            "text/plain": [
              "<IPython.lib.display.Audio object>"
            ]
          },
          "metadata": {},
          "output_type": "display_data"
        },
        {
          "name": "stdout",
          "output_type": "stream",
          "text": [
            "============================================================\n",
            "\n",
            "1/1 [==============================] - 0s 15ms/step\n",
            "🤖 minQ :  Good bye!\n"
          ]
        },
        {
          "data": {
            "text/html": [
              "\n",
              "                <audio  controls=\"controls\" >\n",
              "                    <source src=\"data:audio/wav;base64,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\" type=\"audio/wav\" />\n",
              "                    Your browser does not support the audio element.\n",
              "                </audio>\n",
              "              "
            ],
            "text/plain": [
              "<IPython.lib.display.Audio object>"
            ]
          },
          "metadata": {},
          "output_type": "display_data"
        },
        {
          "name": "stdout",
          "output_type": "stream",
          "text": [
            "============================================================\n",
            "\n"
          ]
        }
      ],
      "source": [
        "# Membuat Input Chat\n",
        "while True:\n",
        "  texts_p = []\n",
        "  prediction_input = input('👨‍🦰 Kamu : ')\n",
        "\n",
        "  # Menghapus punktuasi atau tanda baca dan konversi ke huruf kecil\n",
        "  prediction_input = [letters.lower() for letters in prediction_input if letters not in string.punctuation]\n",
        "  prediction_input = ''.join(prediction_input)\n",
        "  texts_p.append(prediction_input)\n",
        "\n",
        "  # Melakukan Tokenisasi dan Padding pada data teks\n",
        "  prediction_input = tokenizer.texts_to_sequences(texts_p)\n",
        "  # Konversi data teks menjadi array\n",
        "  prediction_input = np.array(prediction_input).reshape(-1)\n",
        "  prediction_input = pad_sequences([prediction_input],input_shape)\n",
        "\n",
        "  # Mendapatkan hasil prediksi keluaran pada model\n",
        "  output = model.predict(prediction_input)\n",
        "  output = output.argmax()\n",
        "\n",
        "  # Menemukan respon sesuai data tag dan memainkan suara bot\n",
        "  response_tag = le.inverse_transform([output])[0]\n",
        "  # Bot akan melakukan random jawaban percakapan dari hasil pertanyaan\n",
        "  print(\"🤖 minQ : \", random.choice(responses[response_tag]))\n",
        "  # Tambahkan suara bot dengan Google Text to Speech\n",
        "  tts = gTTS(random.choice(responses[response_tag]), lang='id')\n",
        "  # Simpan model voice bot ke dalam Google Drive dengan format .wav\n",
        "  tts.save('minQ.wav')\n",
        "  # Atur waktu jeda sampai 8 detik\n",
        "  time.sleep(0.08)\n",
        "  # Ambil file model yang telah disimpan sebelumnya\n",
        "  ipd.display(ipd.Audio('minQ.wav', autoplay=False))\n",
        "  print(\"=\"*60 + \"\\n\")\n",
        "  # Tambahkan respon 'goodbye' agar bot bisa berhenti melakukan percakapan\n",
        "  if response_tag == \"goodbye\":\n",
        "    break"
      ]
    },
    {
      "cell_type": "markdown",
      "id": "PpFwQ9gWmWtk",
      "metadata": {
        "id": "PpFwQ9gWmWtk"
      },
      "source": [
        "# **Save The Model (Simpan Model)**\n",
        "\n",
        "Setelah pengujian Chatbot telah disesuaikan dengan kalimat dan jawabannya. Maka, model chatbot bisa disimpan dengan format .h5 atau .pkl (pickle) untuk penggunaan aplikasi AI Chatbot dengan website atau sistem Android. Penyimpanan file model bisa langsung secara transient file lokal komputer atau bisa taruh dalam cloud storage di Google Drive."
      ]
    },
    {
      "cell_type": "code",
      "execution_count": 26,
      "id": "MxdDHujDmaC0",
      "metadata": {
        "colab": {
          "base_uri": "https://localhost:8080/"
        },
        "id": "MxdDHujDmaC0",
        "outputId": "1ea42bc5-3f58-4143-f4f3-bd1938d89926"
      },
      "outputs": [
        {
          "name": "stdout",
          "output_type": "stream",
          "text": [
            "Model Created Successfully!\n"
          ]
        }
      ],
      "source": [
        "# Simpan model dalam bentuk format file .h5 atau .pkl (pickle)\n",
        "model.save('chat_model.h5')\n",
        "\n",
        "print('Model Created Successfully!')"
      ]
    }
  ],
  "metadata": {
    "colab": {
      "include_colab_link": true,
      "name": "DL_Chatbot.ipynb",
      "provenance": [],
      "toc_visible": true
    },
    "gpuClass": "standard",
    "kernelspec": {
      "display_name": "Python 3 (ipykernel)",
      "language": "python",
      "name": "python3"
    },
    "language_info": {
      "codemirror_mode": {
        "name": "ipython",
        "version": 3
      },
      "file_extension": ".py",
      "mimetype": "text/x-python",
      "name": "python",
      "nbconvert_exporter": "python",
      "pygments_lexer": "ipython3",
      "version": "3.10.0"
    },
    "latex_envs": {
      "LaTeX_envs_menu_present": true,
      "autoclose": false,
      "autocomplete": true,
      "bibliofile": "biblio.bib",
      "cite_by": "apalike",
      "current_citInitial": 1,
      "eqLabelWithNumbers": true,
      "eqNumInitial": 1,
      "hotkeys": {
        "equation": "Ctrl-E",
        "itemize": "Ctrl-I"
      },
      "labels_anchors": false,
      "latex_user_defs": false,
      "report_style_numbering": false,
      "user_envs_cfg": false
    },
    "varInspector": {
      "cols": {
        "lenName": 16,
        "lenType": 16,
        "lenVar": 40
      },
      "kernels_config": {
        "python": {
          "delete_cmd_postfix": "",
          "delete_cmd_prefix": "del ",
          "library": "var_list.py",
          "varRefreshCmd": "print(var_dic_list())"
        },
        "r": {
          "delete_cmd_postfix": ") ",
          "delete_cmd_prefix": "rm(",
          "library": "var_list.r",
          "varRefreshCmd": "cat(var_dic_list()) "
        }
      },
      "types_to_exclude": [
        "module",
        "function",
        "builtin_function_or_method",
        "instance",
        "_Feature"
      ],
      "window_display": false
    }
  },
  "nbformat": 4,
  "nbformat_minor": 5
}
