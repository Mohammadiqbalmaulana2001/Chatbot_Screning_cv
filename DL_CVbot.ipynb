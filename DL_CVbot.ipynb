{
  "cells": [
    {
      "cell_type": "markdown",
      "metadata": {
        "colab_type": "text",
        "id": "view-in-github"
      },
      "source": [
        "<a href=\"https://colab.research.google.com/github/fendy07/chatbot-AI/blob/master/DL_Chatbot.ipynb\" target=\"_parent\"><img src=\"https://colab.research.google.com/assets/colab-badge.svg\" alt=\"Open In Colab\"/></a>"
      ]
    },
    {
      "cell_type": "markdown",
      "id": "d18e160a",
      "metadata": {
        "id": "d18e160a"
      },
      "source": [
        "# **AI Chatbot Using Long Short Term Memory Algorithm**\n",
        "\n",
        "<b>Chatbot</b> merupakan bagian dari Natural Language Processing yang digunakan untuk percakapan dengan pengguna melalui teks dan ucapan. Pada praktik hari ini kita akan membuat sebuah chat otomatis atau chatbot tentang program Kampus Merdeka dari Kementerian Pendidikan Kebudayaan Riset dan Teknologi (KEMENDIKBUDRISTEK).\n",
        "\n",
        "Dalam tahapan Chatbot ini ada tahapan yang harus kita perhatikan yaitu,\n",
        "\n",
        "1. Import Library\n",
        "2. Load Dataset\n",
        "3. Preprocessing Data\n",
        "4. Input Length, Output Length and Vocabulary\n",
        "5. Long Short Term Memory Model\n",
        "6. Evaluation Model Analysis\n",
        "7. Testing Chatbot\n",
        "8. Save The Model\n",
        "\n",
        "Dalam proyek ini, kita akan membuat chatbot tentang program Kampus Merdeka!\n",
        "\n",
        "Sumber code: [Medium - Going Merry With Tensorflow 2.0](https://medium.com/analytics-vidhya/chatbot-with-tensorflow-2-0-going-merry-2f79284a6104)"
      ]
    },
    {
      "cell_type": "markdown",
      "id": "xaowz3BO9B8l",
      "metadata": {
        "id": "xaowz3BO9B8l"
      },
      "source": [
        "## **Download Dataset From GitHub**\n",
        "\n",
        "Setelah kita mengetahui apa saja alur yang digunakan untuk membuat proyek AI Chatbot maka tahapan selanjutnya adalah mengunduh atau download dataset dari GitHub milik Fendy Hendriyanto pada bagian repository AI Chatbot. Link: [Chatbot-AI](https://github.com/fendy07/chatbot-AI)"
      ]
    },
    {
      "cell_type": "code",
      "execution_count": 1,
      "id": "QEn68nGv9k5e",
      "metadata": {
        "colab": {
          "base_uri": "https://localhost:8080/"
        },
        "id": "QEn68nGv9k5e",
        "outputId": "e23bda52-a2d6-4216-867e-06d05424e3a0"
      },
      "outputs": [
        {
          "data": {
            "text/plain": [
              "('kampus_merdeka.json', <http.client.HTTPMessage at 0x18df18735b0>)"
            ]
          },
          "execution_count": 1,
          "metadata": {},
          "output_type": "execute_result"
        }
      ],
      "source": [
        "# Download dataset kampus_merdeka.json dari GitHub\n",
        "from urllib import request\n",
        "url = \"https://raw.githubusercontent.com/fendy07/chatbot-AI/master/kampus_merdeka.json\"\n",
        "request.urlretrieve(url, \"kampus_merdeka.json\")"
      ]
    },
    {
      "cell_type": "markdown",
      "id": "QRVBAWzMXnGf",
      "metadata": {
        "id": "QRVBAWzMXnGf"
      },
      "source": [
        "# **Load Google Drive**\n",
        "\n",
        "Setelah kita mengunduh dataset dengan library request url dari link yang kita ketahui maka kita akan menyimpan file data yang kita download di Google Drive dengan dengan cara klik pada menu \"**Mount Drive**\" maka akan keluar code dibawah ini.\n",
        "\n",
        "**Notes:** Mohon dirunning terlebih dahulu\n"
      ]
    },
    {
      "cell_type": "code",
      "execution_count": 2,
      "id": "kXBRl7ZqXlGD",
      "metadata": {
        "colab": {
          "base_uri": "https://localhost:8080/"
        },
        "id": "kXBRl7ZqXlGD",
        "outputId": "f5239758-26b2-44e5-94b3-bad88c3804c8"
      },
      "outputs": [
        {
          "name": "stdout",
          "output_type": "stream",
          "text": [
            "Mounted at /content/drive\n"
          ]
        }
      ],
      "source": [
        "from google.colab import drive\n",
        "drive.mount('/content/drive')"
      ]
    },
    {
      "cell_type": "markdown",
      "id": "oJUGMIl6AnKl",
      "metadata": {
        "id": "oJUGMIl6AnKl"
      },
      "source": [
        "Setelah dirunning maka ada notifikasi untuk **Permit this notebook to your access Google Drive** lalu pilih izinkan dan akan diproses ke dalam login akun google kita dan pilih izinkan dan akan keluar seperti gambar dibawah ini.\n",
        "\n",
        "![image.png](data:image/png;base64,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)"
      ]
    },
    {
      "cell_type": "markdown",
      "id": "9ZsdBYNrTfgg",
      "metadata": {
        "id": "9ZsdBYNrTfgg"
      },
      "source": [
        "## **Instalasi Library Pengenal Suara**\n",
        "\n",
        "Instalasi package sangat diperlukan ketika kita membutuhkan suatu fitur atau library yang akan kita gunakan. Pada proyek AI Chatbot membutuhkan package library yaitu **Speech Recognition** dan **Google Text To Speech** yang harus di install."
      ]
    },
    {
      "cell_type": "code",
      "execution_count": 3,
      "id": "Q2lOz2OmFhsz",
      "metadata": {
        "colab": {
          "base_uri": "https://localhost:8080/"
        },
        "id": "Q2lOz2OmFhsz",
        "outputId": "e14147fa-297f-4340-b3d0-a450f2b9c43f"
      },
      "outputs": [
        {
          "name": "stdout",
          "output_type": "stream",
          "text": [
            "\u001b[2K     \u001b[90m━━━━━━━━━━━━━━━━━━━━━━━━━━━━━━━━━━━━━━━━\u001b[0m \u001b[32m32.8/32.8 MB\u001b[0m \u001b[31m34.3 MB/s\u001b[0m eta \u001b[36m0:00:00\u001b[0m\n",
            "\u001b[?25h"
          ]
        }
      ],
      "source": [
        "!pip -q install speechrecognition"
      ]
    },
    {
      "cell_type": "code",
      "execution_count": 4,
      "id": "OcZ28yqJFcR8",
      "metadata": {
        "id": "OcZ28yqJFcR8"
      },
      "outputs": [],
      "source": [
        "!pip -q install gtts"
      ]
    },
    {
      "cell_type": "markdown",
      "id": "mDpV6eE0DX_f",
      "metadata": {
        "id": "mDpV6eE0DX_f"
      },
      "source": [
        "**Notes : Penginstalan dengan tanda -q maksudnya adalah mode quiet atau diam sehingga tidak mengeluarkan output saat eksekusi**"
      ]
    },
    {
      "cell_type": "markdown",
      "id": "MZMVLNyqYTCK",
      "metadata": {
        "id": "MZMVLNyqYTCK"
      },
      "source": [
        "# **Import Library**\n",
        "\n",
        "Tahapan pertama sebelum melakukan eksplorasi dan praproses pada data adalah memasukan library yang akan digunakan untuk menganalisa dataset dengan menggunakan metode Deep Learning seperti Neural Network dalam pengolahan teks, Chatbot dll. Library yang saya gunakan yaitu NumPy untuk komputasi matematika, Matplotlib untuk visualisasi model data, Natural Language Toolkit atau NLTK untuk pengolahan teks, Pandas untuk membaca data, serta Tensorflow untuk model pada data menggunakan algoritma LSTM (Long Short Term Memory)."
      ]
    },
    {
      "cell_type": "code",
      "execution_count": 22,
      "id": "df6e6af3",
      "metadata": {
        "id": "df6e6af3"
      },
      "outputs": [],
      "source": [
        "# Import Libraries\n",
        "import json\n",
        "import nltk\n",
        "import time\n",
        "import random\n",
        "import string\n",
        "import pickle\n",
        "import numpy as np\n",
        "import pandas as pd\n",
        "from gtts import gTTS\n",
        "from io import BytesIO\n",
        "import tensorflow as tf\n",
        "import IPython.display as ipd\n",
        "import speech_recognition as sr\n",
        "import matplotlib.pyplot as plt\n",
        "from nltk.stem import WordNetLemmatizer\n",
        "from tensorflow.keras.models import Model\n",
        "from tensorflow.keras.utils import plot_model\n",
        "from sklearn.preprocessing import LabelEncoder\n",
        "from tensorflow.keras.preprocessing.text import Tokenizer\n",
        "from tensorflow.keras.layers import Input, Embedding, LSTM\n",
        "from tensorflow.keras.preprocessing.sequence import pad_sequences\n",
        "from tensorflow.keras.layers import Flatten, Dense, GlobalMaxPool1D"
      ]
    },
    {
      "cell_type": "markdown",
      "id": "XFqXivzfTGhq",
      "metadata": {
        "id": "XFqXivzfTGhq"
      },
      "source": [
        "## **Download NLTK Package**"
      ]
    },
    {
      "cell_type": "code",
      "execution_count": 4,
      "id": "ZFHfBZ3mO1QE",
      "metadata": {
        "colab": {
          "base_uri": "https://localhost:8080/"
        },
        "id": "ZFHfBZ3mO1QE",
        "outputId": "5cfea5dc-b1c7-4388-a80e-e6741085dfb5"
      },
      "outputs": [
        {
          "name": "stderr",
          "output_type": "stream",
          "text": [
            "[nltk_data] Downloading package punkt to\n",
            "[nltk_data]     C:\\Users\\PC\\AppData\\Roaming\\nltk_data...\n",
            "[nltk_data]   Package punkt is already up-to-date!\n",
            "[nltk_data] Downloading package wordnet to\n",
            "[nltk_data]     C:\\Users\\PC\\AppData\\Roaming\\nltk_data...\n",
            "[nltk_data]   Package wordnet is already up-to-date!\n",
            "[nltk_data] Downloading package omw-1.4 to\n",
            "[nltk_data]     C:\\Users\\PC\\AppData\\Roaming\\nltk_data...\n",
            "[nltk_data]   Package omw-1.4 is already up-to-date!\n"
          ]
        },
        {
          "data": {
            "text/plain": [
              "True"
            ]
          },
          "execution_count": 4,
          "metadata": {},
          "output_type": "execute_result"
        }
      ],
      "source": [
        "# Package sentence tokenizer\n",
        "nltk.download('punkt')\n",
        "# Package lemmatization\n",
        "nltk.download('wordnet')\n",
        "# Package multilingual wordnet data\n",
        "nltk.download('omw-1.4')"
      ]
    },
    {
      "cell_type": "markdown",
      "id": "gLGpuyY9aMwW",
      "metadata": {
        "id": "gLGpuyY9aMwW"
      },
      "source": [
        "# **Load Dataset Json**\n",
        "\n",
        "Setelah import library, tahapan selanjutnya adalah me-load dataset yang telah disediakan. Dataset yang digunakan berupa format **.json** yang sangat cocok untuk membuat model Chatbot.\n",
        "\n",
        "Data Json merupakan data yang termasuk dalam *semi structured* yang dimana data ini menampung beberapa bagian data seperti **tag**, **pattern**, **context**, dan **response**. Data yang dipakai dalam proyek ini menggunakan dataset manual yang diciptakan oleh student Kampus Merdeka Batch 2 tentang <b>Chatbot Sistem Rekomendasi Kampus Merdeka</b>. [Github](https://github.com/mahmudwhd/WebKadekBot)"
      ]
    },
    {
      "cell_type": "code",
      "execution_count": 5,
      "id": "JD4ILKqFZ_hf",
      "metadata": {
        "id": "JD4ILKqFZ_hf"
      },
      "outputs": [],
      "source": [
        "# Importing the dataset\n",
        "with open('kampus_merdeka.json') as content:\n",
        "  data1 = json.load(content)\n",
        "\n",
        "# Mendapatkan semua data ke dalam list\n",
        "tags = [] # data tag\n",
        "inputs = [] # data input atau pattern\n",
        "responses = {} # data respon\n",
        "words = [] # Data kata\n",
        "classes = [] # Data Kelas atau Tag\n",
        "documents = [] # Data Kalimat Dokumen\n",
        "ignore_words = ['?', '!'] # Mengabaikan tanda spesial karakter\n",
        "# Tambahkan data intents dalam json\n",
        "for intent in data1['intents']:\n",
        "  responses[intent['tag']]=intent['responses']\n",
        "  for lines in intent['patterns']:\n",
        "    inputs.append(lines)\n",
        "    tags.append(intent['tag'])\n",
        "    # digunakan untuk pattern atau teks pertanyaan dalam json\n",
        "    for pattern in intent['patterns']:\n",
        "      w = nltk.word_tokenize(pattern)\n",
        "      words.extend(w)\n",
        "      documents.append((w, intent['tag']))\n",
        "      # tambahkan ke dalam list kelas dalam data\n",
        "      if intent['tag'] not in classes:\n",
        "        classes.append(intent['tag'])\n",
        "\n",
        "# Konversi data json ke dalam dataframe\n",
        "data = pd.DataFrame({\"patterns\":inputs, \"tags\":tags})"
      ]
    },
    {
      "cell_type": "code",
      "execution_count": 6,
      "id": "5N0s7BObcv5-",
      "metadata": {
        "colab": {
          "base_uri": "https://localhost:8080/",
          "height": 423
        },
        "id": "5N0s7BObcv5-",
        "outputId": "58a44006-1146-4ef6-aa06-1e4901f00355"
      },
      "outputs": [
        {
          "data": {
            "text/html": [
              "<div>\n",
              "<style scoped>\n",
              "    .dataframe tbody tr th:only-of-type {\n",
              "        vertical-align: middle;\n",
              "    }\n",
              "\n",
              "    .dataframe tbody tr th {\n",
              "        vertical-align: top;\n",
              "    }\n",
              "\n",
              "    .dataframe thead th {\n",
              "        text-align: right;\n",
              "    }\n",
              "</style>\n",
              "<table border=\"1\" class=\"dataframe\">\n",
              "  <thead>\n",
              "    <tr style=\"text-align: right;\">\n",
              "      <th></th>\n",
              "      <th>patterns</th>\n",
              "      <th>tags</th>\n",
              "    </tr>\n",
              "  </thead>\n",
              "  <tbody>\n",
              "    <tr>\n",
              "      <th>0</th>\n",
              "      <td>hallo</td>\n",
              "      <td>greeting</td>\n",
              "    </tr>\n",
              "    <tr>\n",
              "      <th>1</th>\n",
              "      <td>hai</td>\n",
              "      <td>greeting</td>\n",
              "    </tr>\n",
              "    <tr>\n",
              "      <th>2</th>\n",
              "      <td>halo</td>\n",
              "      <td>greeting</td>\n",
              "    </tr>\n",
              "    <tr>\n",
              "      <th>3</th>\n",
              "      <td>hei</td>\n",
              "      <td>greeting</td>\n",
              "    </tr>\n",
              "    <tr>\n",
              "      <th>4</th>\n",
              "      <td>hi</td>\n",
              "      <td>greeting</td>\n",
              "    </tr>\n",
              "    <tr>\n",
              "      <th>...</th>\n",
              "      <td>...</td>\n",
              "      <td>...</td>\n",
              "    </tr>\n",
              "    <tr>\n",
              "      <th>75</th>\n",
              "      <td>Apa itu PMMB?</td>\n",
              "      <td>penjelasan_PMMB</td>\n",
              "    </tr>\n",
              "    <tr>\n",
              "      <th>76</th>\n",
              "      <td>Apa saja persyaratan IISMA?</td>\n",
              "      <td>persyaratan_IISMA</td>\n",
              "    </tr>\n",
              "    <tr>\n",
              "      <th>77</th>\n",
              "      <td>Bagaimana periode pelaksanaan dan cara mendaft...</td>\n",
              "      <td>periode_dan_pendaftaran_PMMB</td>\n",
              "    </tr>\n",
              "    <tr>\n",
              "      <th>78</th>\n",
              "      <td>Apa saja manfaat apabila mengikuti PMMB?</td>\n",
              "      <td>manfaat_PMMB</td>\n",
              "    </tr>\n",
              "    <tr>\n",
              "      <th>79</th>\n",
              "      <td>Apa saja universitas yang tergabung dalam prog...</td>\n",
              "      <td>mitra_PMMB</td>\n",
              "    </tr>\n",
              "  </tbody>\n",
              "</table>\n",
              "<p>80 rows × 2 columns</p>\n",
              "</div>"
            ],
            "text/plain": [
              "                                             patterns  \\\n",
              "0                                               hallo   \n",
              "1                                                 hai   \n",
              "2                                                halo   \n",
              "3                                                 hei   \n",
              "4                                                  hi   \n",
              "..                                                ...   \n",
              "75                                      Apa itu PMMB?   \n",
              "76                        Apa saja persyaratan IISMA?   \n",
              "77  Bagaimana periode pelaksanaan dan cara mendaft...   \n",
              "78           Apa saja manfaat apabila mengikuti PMMB?   \n",
              "79  Apa saja universitas yang tergabung dalam prog...   \n",
              "\n",
              "                            tags  \n",
              "0                       greeting  \n",
              "1                       greeting  \n",
              "2                       greeting  \n",
              "3                       greeting  \n",
              "4                       greeting  \n",
              "..                           ...  \n",
              "75               penjelasan_PMMB  \n",
              "76             persyaratan_IISMA  \n",
              "77  periode_dan_pendaftaran_PMMB  \n",
              "78                  manfaat_PMMB  \n",
              "79                    mitra_PMMB  \n",
              "\n",
              "[80 rows x 2 columns]"
            ]
          },
          "execution_count": 6,
          "metadata": {},
          "output_type": "execute_result"
        }
      ],
      "source": [
        "# Cetak data keseluruhan\n",
        "data"
      ]
    },
    {
      "cell_type": "code",
      "execution_count": 7,
      "id": "5DFoJwcVdP52",
      "metadata": {
        "colab": {
          "base_uri": "https://localhost:8080/",
          "height": 206
        },
        "id": "5DFoJwcVdP52",
        "outputId": "b0dd88e0-8ace-4450-80d0-1036eef85df8"
      },
      "outputs": [
        {
          "data": {
            "text/html": [
              "<div>\n",
              "<style scoped>\n",
              "    .dataframe tbody tr th:only-of-type {\n",
              "        vertical-align: middle;\n",
              "    }\n",
              "\n",
              "    .dataframe tbody tr th {\n",
              "        vertical-align: top;\n",
              "    }\n",
              "\n",
              "    .dataframe thead th {\n",
              "        text-align: right;\n",
              "    }\n",
              "</style>\n",
              "<table border=\"1\" class=\"dataframe\">\n",
              "  <thead>\n",
              "    <tr style=\"text-align: right;\">\n",
              "      <th></th>\n",
              "      <th>patterns</th>\n",
              "      <th>tags</th>\n",
              "    </tr>\n",
              "  </thead>\n",
              "  <tbody>\n",
              "    <tr>\n",
              "      <th>0</th>\n",
              "      <td>hallo</td>\n",
              "      <td>greeting</td>\n",
              "    </tr>\n",
              "    <tr>\n",
              "      <th>1</th>\n",
              "      <td>hai</td>\n",
              "      <td>greeting</td>\n",
              "    </tr>\n",
              "    <tr>\n",
              "      <th>2</th>\n",
              "      <td>halo</td>\n",
              "      <td>greeting</td>\n",
              "    </tr>\n",
              "    <tr>\n",
              "      <th>3</th>\n",
              "      <td>hei</td>\n",
              "      <td>greeting</td>\n",
              "    </tr>\n",
              "    <tr>\n",
              "      <th>4</th>\n",
              "      <td>hi</td>\n",
              "      <td>greeting</td>\n",
              "    </tr>\n",
              "  </tbody>\n",
              "</table>\n",
              "</div>"
            ],
            "text/plain": [
              "  patterns      tags\n",
              "0    hallo  greeting\n",
              "1      hai  greeting\n",
              "2     halo  greeting\n",
              "3      hei  greeting\n",
              "4       hi  greeting"
            ]
          },
          "execution_count": 7,
          "metadata": {},
          "output_type": "execute_result"
        }
      ],
      "source": [
        "# Cetak data baris pertama sampai baris kelima\n",
        "data.head()"
      ]
    },
    {
      "cell_type": "code",
      "execution_count": 8,
      "id": "HksM_GGVdenI",
      "metadata": {
        "colab": {
          "base_uri": "https://localhost:8080/",
          "height": 206
        },
        "id": "HksM_GGVdenI",
        "outputId": "22c5c2b3-5344-4ea7-c5c6-f5665e69062b"
      },
      "outputs": [
        {
          "data": {
            "text/html": [
              "<div>\n",
              "<style scoped>\n",
              "    .dataframe tbody tr th:only-of-type {\n",
              "        vertical-align: middle;\n",
              "    }\n",
              "\n",
              "    .dataframe tbody tr th {\n",
              "        vertical-align: top;\n",
              "    }\n",
              "\n",
              "    .dataframe thead th {\n",
              "        text-align: right;\n",
              "    }\n",
              "</style>\n",
              "<table border=\"1\" class=\"dataframe\">\n",
              "  <thead>\n",
              "    <tr style=\"text-align: right;\">\n",
              "      <th></th>\n",
              "      <th>patterns</th>\n",
              "      <th>tags</th>\n",
              "    </tr>\n",
              "  </thead>\n",
              "  <tbody>\n",
              "    <tr>\n",
              "      <th>75</th>\n",
              "      <td>Apa itu PMMB?</td>\n",
              "      <td>penjelasan_PMMB</td>\n",
              "    </tr>\n",
              "    <tr>\n",
              "      <th>76</th>\n",
              "      <td>Apa saja persyaratan IISMA?</td>\n",
              "      <td>persyaratan_IISMA</td>\n",
              "    </tr>\n",
              "    <tr>\n",
              "      <th>77</th>\n",
              "      <td>Bagaimana periode pelaksanaan dan cara mendaft...</td>\n",
              "      <td>periode_dan_pendaftaran_PMMB</td>\n",
              "    </tr>\n",
              "    <tr>\n",
              "      <th>78</th>\n",
              "      <td>Apa saja manfaat apabila mengikuti PMMB?</td>\n",
              "      <td>manfaat_PMMB</td>\n",
              "    </tr>\n",
              "    <tr>\n",
              "      <th>79</th>\n",
              "      <td>Apa saja universitas yang tergabung dalam prog...</td>\n",
              "      <td>mitra_PMMB</td>\n",
              "    </tr>\n",
              "  </tbody>\n",
              "</table>\n",
              "</div>"
            ],
            "text/plain": [
              "                                             patterns  \\\n",
              "75                                      Apa itu PMMB?   \n",
              "76                        Apa saja persyaratan IISMA?   \n",
              "77  Bagaimana periode pelaksanaan dan cara mendaft...   \n",
              "78           Apa saja manfaat apabila mengikuti PMMB?   \n",
              "79  Apa saja universitas yang tergabung dalam prog...   \n",
              "\n",
              "                            tags  \n",
              "75               penjelasan_PMMB  \n",
              "76             persyaratan_IISMA  \n",
              "77  periode_dan_pendaftaran_PMMB  \n",
              "78                  manfaat_PMMB  \n",
              "79                    mitra_PMMB  "
            ]
          },
          "execution_count": 8,
          "metadata": {},
          "output_type": "execute_result"
        }
      ],
      "source": [
        "# Cetak data baris ke-70 sampai baris akhir\n",
        "data.tail()"
      ]
    },
    {
      "cell_type": "markdown",
      "id": "8p_YOwTKdr53",
      "metadata": {
        "id": "8p_YOwTKdr53"
      },
      "source": [
        "Data yang telah kita miliki dalam format JSON yang dapat digunakan melalui pandas dengan cara konversi. Data JSON yang saya miliki didapat dengan cara manual dengan mengambil beberapa referensi website tentang program Kampus Merdeka."
      ]
    },
    {
      "cell_type": "markdown",
      "id": "vHnr2WFvebeJ",
      "metadata": {
        "id": "vHnr2WFvebeJ"
      },
      "source": [
        "# **Preprocessing The Data**\n",
        "\n",
        "Setelah kita meload data dan mengonversi data json menjadi dataframe. Tahapan selanjutnya adalah praproses pada dataset yang kita gunakan saat ini yaitu dengan cara:\n",
        "\n",
        "![Praproses.png](data:image/png;base64,iVBORw0KGgoAAAANSUhEUgAADOMAAAGCCAYAAAAYS+bAAAAAAXNSR0IArs4c6QAAAARnQU1BAACxjwv8YQUAAAAJcEhZcwAAFiUAABYlAUlSJPAAAIT4SURBVHhe7f1PrzRZujfk8eksIXmEAPkL4A8AiAm2hzCxBD1ihNR6JcQ76IEHVrWFjMuyfN4H8adfBE0jcLfV7TqtU1Sr37a6S1XQpw6F7tpPUFlZKzPuFRmZa617Xz/p0jn91I7ckRGRkb9YGWvnP/etiIiIiIiIiIiIiIiIiIiIiIiIiIiIiIiIiKRiMo6IiIiIiIiIiIiIiIiIiIiIiIiIiIiIiIhIMibjiIiIiIiIiIiIiIiIiIiIiIiIiIiIiIiIiCRjMo6IiIiIiIiIiIiIiIiIiIiIiIiIiIiIiIhIMibjiIiIiIiIiIiIiIiIiIiIiIiIiIiIiIiIiCRjMo6IiIiIiIiIiIiIiIiIiIiIiIiIiIiIiIhIMibjiIiIiIiIiIiIiIiIiIiIiIiIiIiIiIiIiCRjMo6IiIiIiIiIiIiIiIiIiIiIiIiIiIiIiIhIMibjiIiIiIiIiIiIiIiIiIiIiIiIiIiIiIiIiCRjMo6IiIiIiIiIiIiIiIiIiIiIiIiIiIiIiIhIMibjiIiIiIiIiIiIiIiIiIiIiIiIiIiIiIiIiCRjMo6IiIiIiIiIiIiIiIiIiIiIiIiIiIiIiIhIMibjiIiIiIiIiIiIiIiIiIiIiIiIiIiIiIiIiCRjMo6IiIiIiIiIiIiIiIiIiIiIiIiIiIiIiIhIMibjiIiIiIiIiIiIiIiIiIiIiIiIiIiIiIiIiCRjMo6IiIiIiIiIiIiIiIiIiIiIiIiIiIiIiIhIMibjiIiIiIiIiIiIiIiIiIiIiIiIiIiIiIiIiCRjMo6IiIiIiIiIiIiIiIiIiIiIiIiIiIiIiIhIMibjiIiIiIiIiIiIiIiIiIiIiIiIiIiIiIiIiCRjMo6IiIiIiIiIiIiIiIiIiIiIiIiIiIiIiIhIMibjiIiIiIiIiIiIiIiIiIiIiIiIiIiIiIiIiCTzlMk4//S//K+//Sf/yX8OAFDa3/3d331sP/Kq6JkAwHugZ74+eiYA8B7omXNE9wQA3gPdc63oqADAe/CMjvqUyTixsv/Kv/U33/7L/8f/NwBASf/OP/on33722Wcf24+8KnomAFCdnjkmeiYAUJ2eOU90TwCgOt1zveioAEB1z+qoT5uMEyv9v/lXAQBq+rf/fQOII6JnAgDV6ZljomcCANXpmfNE9wQAqtM914uOCgBU96yOajIOAMABBhDHRM8EAKrTM8dEzwQAqtMz54nuCQBUp3uuFx0VAKjOZBwAgIkYQBwTPRMAqE7PHBM9EwCoTs+cJ7onAFCd7rledFQAoDqTcQAAJmIAcUz0TACgOj1zTPRMAKA6PXOe6J4AQHW653rRUQGA6kzGAQCYiAHEMdEzAYDq9Mwx0TMBgOr0zHmiewIA1eme60VHBQCqMxkHAGAiBhDHRM8EAKrTM8dEzwQAqtMz54nuCQBUp3uuFx0VAKjOZBwAgIkYQBwTPRMAqE7PHBM9EwCoTs+cJ7onAFCd7rledFQAoDqTcQAAJmIAcUz0TACgOj1zTPRMAKA6PXOe6J4AQHW653rRUQGA6kzGAQCYiAHEMdEzAYDq9Mwx0TMBgOr0zHmiewIA1eme60VHBQCqMxkHAGAiBhDHRM8EAKrTM8dEzwQAqtMz54nuCQBUp3uuFx0VAKjOZBwAgIkYQBwTPRMAqE7PHBM9EwCoTs+cJ7onAFCd7rledFQAoDqTcQAAJmIAcUz0TACgOj1zTPRMAKA6PXOe6J4AQHW653rRUQGA6kzGAQCYiAHEMdEzAYDq9Mwx0TMBgOr0zHmiewIA1eme60VHBQCqMxkHAGAiBhDHRM8EAKrTM8dEzwQAqtMz54nuCQBUp3uuFx0VAKjOZBwAgIkYQBwTPRMAqE7PHBM9EwCoTs+cJ7onAFCd7rledFQAoDqTcQAAJmIAcUz0TACgOj1zTPRMAKA6PXOe6J4AQHW653rRUQGA6kzGAQCYiAHEMdEzAYDq9Mwx0TMBgOr0zHmiewIA1eme60VHBQCqMxkHAGAiBhDHRM8EAKrTM8dEzwQAqtMz54nuCQBUp3uuFx0VAKjOZBwAgIkYQBwTPRMAqE7PHBM9EwCoTs+cJ7onAFCd7rledFQAoDqTcQAAJmIAcUz0TACgOj1zTPRMAKA6PXOe6J4AQHW653rRUQGA6kzGAQCYiAHEMdEzAYDq9Mwx0TMBgOr0zHmiewIA1eme60VHBQCqMxkHAGAiBhDHRM8EAKrTM8dEzwQAqtMz54nuCQBUp3uuFx0VAKjOZBwAgIkYQBwTPRMAqE7PHBM9EwCoTs+cJ7onAFCd7rledFQAoDqTcQAAJmIAcUz0TACgOj1zTPRMAKA6PXOe6J4AQHW653rRUQGA6kzGAQCYiAHEMdEzAYDq9Mwx0TMBgOr0zHmiewIA1eme60VHBQCqMxkHAGAiBhDHRM8EAKrTM8dEzwQAqtMz54nuCQBUp3uuFx0VAKjOZBwAgIkYQBwTPRMAqE7PHBM9EwCoTs+cJ7onAFCd7rledFQAoDqTcQAAJmIAcUz0TACgOj1zTPRMAKA6PXOe6J4AQHW653rRUQGA6kzGAQCYiAHEMdEzAYDq9Mwx0TMBgOr0zHmiewIA1eme60VHBQCqMxkHAGAiBhDHRM8EAKrTM8dEzwQAqtMz54nuCQBUp3uuFx0VAKjOZBwAgIkYQBwTPRMAqE7PHBM9EwCoTs+cJ7onAFCd7rledFQAoDqTcQAAJmIAcUz0TACgOj1zTPRMAKA6PXOe6J4AQHW653rRUQGA6kzGAQCYiAHEMdEzAYDq9Mwx0TMBgOr0zHmiewIA1eme60VHBQCqMxkHAGAiBhDHRM8EAKrTM8dEzwQAqtMz54nuCQBUp3uuFx0VAKjOZBwAgIkYQBwTPRMAqE7PHBM9EwCoTs+cJ7onAFCd7rledFQAoDqTcQAAJmIAcUz0TACgOj1zTPRMAKA6PXOe6J4AQHW653rRUQGA6kzGAQCYiAHEMdEzAYDq9Mwx0TMBgOr0zHmiewIA1eme60VHBQCqMxkHAGAiBhDHRM8EAKrTM8dEzwQAqtMz54nuCQBUp3uuFx0VAKjOZBwAgIkYQBwTPRMAqE7PHBM9EwCoTs+cJ7onAFCd7rledFQAoDqTcQAAJmIAcUz0TACgOj1zTPRMAKA6PXOe6J4AQHW653rRUQGA6kzGAQCYiAHEMdEzAYDq9Mwx0TMBgOr0zHmiewIA1eme60VHBQCqMxkHAGAiBhDHRM8EAKrTM8dEzwQAqtMz54nuCQBUp3uuFx0VAKjOZBwAgIkYQBwTPRMAqE7PHBM9EwCoTs+cJ7onAFCd7rledFQAoDqTcQAAJmIAcUz0TACgOj1zTPRMAKA6PXOe6J4AQHW653rRUQGA6kzGAQCYiAHEMdEzAYDq9Mwx0TMBgOr0zHmiewIA1eme60VHBQCqMxkHAGAiBhDHRM8EAKrTM8dEzwQAqtMz54nuCQBUp3uuFx0VAKjOZBwAgIkYQBwTPRMAqE7PHBM9EwCoTs+cJ7onAFCd7rledFQAoDqTcQAAJmIAcUz0TACgOj1zTPRMAKA6PXOe6J4AQHW653rRUQGA6kzGAQCYiAHEMdEzAYDq9Mwx0TMBgOr0zHmiewIA1eme60VHBQCqMxkHAGAiBhDHRM8EAKrTM8dEzwQAqtMz54nuCQBUp3uuFx0VAKjOZBwAgIkYQBwTPRMAqE7PHBM9EwCoTs+cJ7onAFCd7rledFQAoDqTcQAAJmIAcUz0TACgOj1zTPRMAKA6PXOe6J4AQHW653rRUQGA6kzGAQCYiAHEMdEzAYDq9Mwx0TMBgOr0zHmiewIA1eme60VHBQCqMxkHAGAiBhDHRM8EAKrTM8dEzwQAqtMz54nuCQBUp3uuFx0VAKjOZBwAgIkYQBwTPRMAqE7PHBM9EwCoTs+cJ7onAFCd7rledFQAoDqTcQAAJmIAcUz0TACgOj1zTPRMAKA6PXOe6J4AQHW653rRUQGA6kzGAQCYiAHEMdEzAYDq9Mwx0TMBgOr0zHmiewIA1eme60VHBQCqMxkHAGAiBhDHRM8EAKrTM8dEzwQAqtMz54nuCQBUp3uuFx0VAKjOZBwAgIkYQBwTPRMAqE7PHBM9EwCoTs+cJ7onAFCd7rledFQAoDqTcQAAJmIAcUz0TACgOj1zTPRMAKA6PXOe6J4AQHW653rRUQGA6kzGAQCYiAHEMdEzAYDq9Mwx0TMBgOr0zHmiewIA1eme60VHBQCqMxkHAGAiBhDHRM8EAKrTM8dEzwQAqtMz54nuCQBUp3uuFx0VAKjOZBwAgIkYQBwTPRMAqE7PHBM9EwCoTs+cJ7onAFCd7rledFQAoDqTcQAAJmIAcUz0TACgOj1zTPRMAKA6PXOe6J4AQHW653rRUQGA6kzGAQCYiAHEMdEzAYDq9Mwx0TMBgOr0zHmiewIA1eme60VHBQCqMxkHAGAiBhDHRM8EAKrTM8dEzwQAqtMz54nuCQBUp3uuFx0VAKjOZBwAgIkYQBwTPRMAqE7PHBM9EwCoTs+cJ7onAFCd7rledFQAoDqTcQAAJmIAcUz0TACgOj1zTPRMAKA6PXOe6J4AQHW653rRUQGA6kzGAQCYiAHEMdEzAYDq9Mwx0TMBgOr0zHmiewIA1eme60VHBQCqMxkHAGAiBhDHRM8EAKrTM8dEzwQAqtMz54nuCQBUp3uuFx0VAKjOZBwAgIkYQBwTPRMAqE7PHBM9EwCoTs+cJ7onAFCd7rledFQAoDqTcQAAJmIAcUz0TACgOj1zTPRMAKA6PXOe6J4AQHW653rRUQGA6kzGAQCYiAHEMdEzAYDq9Mwx0TMBgOr0zHmiewIA1eme60VHBQCqMxkHAGAiBhDHRM8EAKrTM8dEzwQAqtMz54nuCQBUp3uuFx0VAKjOZBwAgIkYQBwTPRMAqE7PHBM9EwCoTs+cJ7onAFCd7rledFQAoDqTcQAAJmIAcUz0TACgOj1zTPRMAKA6PXOe6J4AQHW653rRUQGA6kzGAQCYiAHEMdEzAYDq9Mwx0TMBgOr0zHmiewIA1eme60VHBQCqMxkHAGAiBhDHRM8EAKrTM8dEzwQAqtMz54nuCQBUp3uuFx0VAKjOZBwAgIkYQBwTPRMAqE7PHBM9EwCoTs+cJ7onAFCd7rledFQAoDqTcQAAJmIAcUz0TACgOj1zTPRMAKA6PXOe6J4AQHW653rRUQGA6kzGAQCYiAHEMdEzAYDq9Mwx0TMBgOr0zHmiewIA1eme60VHBQCqMxkHAGAiBhDHRM8EAKrTM8dEzwQAqtMz54nuCQBUp3uuFx0VAKjOZBwAgIkYQBwTPRMAqE7PHBM9EwCoTs+cJ7onAFCd7rledFQAoDqTcQAAJmIAcUz0TACgOj1zTPRMAKA6PXOe6J4AQHW653rRUQGA6kzGAQCYiAHEMdEzAYDq9Mwx0TMBgOr0zHmiewIA1eme60VHBQCqMxkHAGAiBhDHRM8EAKrTM8dEzwQAqtMz54nuCQBUp3uuFx0VAKjOZBwAgIkYQBwTPRMAqE7PHBM9EwCoTs+cJ7onAFCd7rledFQAoDqTcQAAJmIAcUz0TACgOj1zTPRMAKA6PXOe6J4AQHW653rRUQGA6kzGAQCYiAHEMdEzAYDq9Mwx0TMBgOr0zHmiewIA1eme60VHBQCqMxkHAGAiBhDHRM8EAKrTM8dEzwQAqtMz54nuCQBUp3uuFx0VAKjOZBwAgIkYQBwTPRMAqE7PHBM9EwCoTs+cJ7onAFCd7rledFQAoDqTcQAAJmIAcUz0TACgOj1zTPRMAKA6PXOe6J4AQHW653rRUQGA6kzGAQCYiAHEMdEzAYDq9Mwx0TMBgOr0zHmiewIA1eme60VHBQCqMxkHAGAiBhDHRM8EAKrTM8dEzwQAqtMz54nuCQBUp3uuFx0VAKjOZBwAgIkYQBwTPRMAqE7PHBM9EwCoTs+cJ7onAFCd7rledFQAoDqTcWDHp7/4w7f/9P/z/z/FJx8+//Znn/5t8/cAQDCAOCZ6JgBQnZ45JnomAFCdnjlPdE8AoDrdc73oqABAdSbjwB1/+stfPx595+fLr7/59je///K7CTqt3w3A+2QAcUz0TACgOj1zTPRMAKA6PXOe6J4AQHW653rRUQGA6kzGgRviG3FelZiYE9+c01oPAN4XA4hjomcCANXpmWOiZwIA1emZ80T3BACq0z3Xi44KAFRnMg7cEJNjXp2YlPOzT/+2uT4AvA8GEMdEzwQAqtMzx0TPBACq0zPnie4JAFSne64XHRUAqM5kHLhhxGScLfGtPK11AqA+A4hjomcCANXpmWOiZwIA1emZ80T3BACq0z3Xi44KAFRnMg7cMHIyTsSEHID3yQDimOiZAEB1euaY6JkAQHV65jzRPQGA6nTP9aKjAgDVmYwDN4yejBP56c9/11w3AOoygDgmeiYAUJ2eOSZ6JgBQnZ45T3RPAKA63XO96KgAQHUm48ANM0zG+R/+2f/YXDcA6jKAOCZ6JgBQnZ45JnomAFCdnjlPdE8AoDrdc73oqABAdSbjwA3ZyTh/+stfv/3Zp3/b9MmHz797nN/8/stvv/z6m49L9CUep7V+ANRkAHFM9EwAoDo9c0z0TACgOj1znuieAEB1uud60VEBgOpMxoEbspNxer695tNf/KF7Us5nX3zVfCwAajKAOCZ6JgBQnZ45JnomAFCdnjlPdE8AoDrdc73oqABAdSbjwA3PmIyziW/Tyeavf/8PzccAoCYDiGOiZwIA1emZY6JnAgDV6ZnzRPcEAKrTPdeLjgoAVGcyDtzwzMk4P/357z4unUv8fOtxAKjHAOKY6JkAQHV65pjomQBAdXrmPNE9AYDqdM/1oqMCANWZjAM3PHMyTvjsi68+PsJ+fvbp3zYf41HxuOHTX/zhu+cbtn/7yc9+3VxmtFivWL8Pv/zjd+v7yYfPv/vfrZ/tFZOe4rGut0XrZ19pW4/L/bQ97xnWb3at7bf926zHOe+bAcQx0TMBgOr0zDHRMwGA6vTMeaJ7AgDV6Z7rRUcFAKozGQduiBv2Mzk6GScmk2QTkwhaj9ErJh7E8/rTX/768ZHv569//w/fTRo6+/fHNrv0q9/+efd3xHJffv3NxzVrJ55XbNfW8rfEOsXv33vsWM+ztsOemGjzm99/ubtOl4mfjWVi2dZjZsTklNb+CfHYsW3PmrwS2zK2e+t3xTo88ntGH+fwKAOIY6JnAgDV6ZljomcCANXpmfNE9wQAqtM914uOCgBUZzIO3BA382cSkwday++JiQ/ZxLq0HiMrfles5yOJCQuPrkc8xr3EN9NcLxO/c2+568TPZyalxAST3sSkl9Z6nuHIc23lyL6KCSyZxPNvLd8jJuHsJZ5Da9l7ZjnO4VEGEMdEzwQAqtMzx0TPBACq0zPnie4JAFSne64XHRUAqM5kHLghbsjP5BWTceJnW4+RkZn40JNHJqPs5fJ5xu/IfrPJrcRzv/z9m5io8+iklzO/ReWM9WklHrPnm3KyeXQyUvYbf1rL3jLTcQ6PMoA4JnomAFCdnjkmeiYAUJ2eOU90TwCgOt1zveioAEB1JuPADRUm4zw6meVejkxG2cv2PM+cnPLhl3/8wTrE/z4rPRNdbjny7Ty9id/R+t3XspNkbk1yyogJLpn0vK5mO87hUQYQx0TPBACq0zPHRM8EAKrTM+eJ7gkAVKd7rhcdFQCozmQcuOHZk3Gyjx/5yc9+3XyMe545QWFL72SUvcRknJj8cHa2bzg5e+JLTBi6fo49XrGPtmQm5GS3T0zaaS2fkf0Gm3h9tJa/NuNxDo8ygDgmeiYAUJ2eOSZ6JgBQnZ45T3RPAKA63XO96KgAQHUm48ANz56Mk/0WkiMTH141ySMmo/RMFNrLs74lJvbRsx47M8mlJdbp1dmb4BKTTrLZJjj1yh6bmcef9TiHRxlAHBM9EwCoTs8cEz0TAKhOz5wnuicAUJ3uuV50VACgOpNx4IZnTsb58Ms/flx6P/FNIq3HuCX7zSNbYv1jmXi+8X97J4n0PP+qaT3Xe7LH1jOyN8klJp5kEsdwa/l7YkJLJpkJaDMf5/AoA4hjomcCANXpmWOiZwIA1emZ80T3BACq0z3Xi44KAFRnMg7c8KzJOJ/+4g8fl8yl5xs5fvbp335caj+fffHV3cfumewQv7f1GNeqJvZp6/m2xGSY3sTklG0iyaUj3wyzd7xmv0Eofndr+Xuyk9DiubaW38x+nMOjDCCOiZ4JAFSnZ46JngkAVKdnzhPdEwCoTvdcLzoqAFCdyThww9mTcWJCQHaiw5b4+dZj3ZL9to/s5JHsxKGY8NBa/trRxLe1xP6IyRDhkw+fd2/LW4mJLvE8Lx87ux23ZJ9/6HnsWLe9CSDx33sn5dx7zHj+2fRMFAuxnTLZ+/ae2Y9zeJQBxDHRMwGA6vTMMdEzAYDq9Mx5onsCANXpnutFRwUAqjMZB27ITsaJiRDbRI5LMakhHiO+eePIN5jEBJTWet0SvzOT3gk+2QkUrWWvHcm99e2ZONJK7J/W44bs/o9k91V2H0V6v3kmu58ie8dAPJ9MspNdNpnEBKTWspsVjnN4lAHEMdEzAYDq9Mwx0TMBgOr0zHmiewIA1eme60VHBQCqMxkHbuiZjHF2YjLE3reDXMt8U0zvBJ8Q65FJZmJGbz788o/Nx7l0dD9l1rdngktr+WuZfRSJ/dT7rTMhJrJk01p+k13Pnm+KyX77TExeay2/WeE4h0cZQBwTPRMAqE7PHBM9EwCoTs+cJ7onAFCd7rledFQAoDqTceCGUZNxjkzECbHcXnq/LWST+WafvUkUoSeZiTibzHO/THZCRXaCRiS+saX1GJeyufeNPfdkJ7xE4luFWo8Rer5xqLV8S3aCz96xv8JxDo8ygDgmeiYAUJ2eOSZ6JgBQnZ45T3RPAKA63XO96KgAQHUm48ANIybj9HzTyKWYCJLJvQkY92QmUvwP/+x/bC57KZveyRQ932DT+80m2W+b2ZuMk53gcuRbXS5lJybtTfjJPk72mMo8Xmzr1rKbVY5zeJQBxDHRMwGA6vTMMdEzAYDq9Mx5onsCANXpnutFRwUAqjMZB2545WScuME/880qt2TXtbVsRubxM5NIMolvJ2kte0/2+R/5xpTsRJ+9/RffqJLJ0W912WQmlET2JpVkHyezvtmJSHvfOrPKcQ6PMoA4JnomAFCdnjkmeiYAUJ2eOU90TwCgOt1zveioAEB1JuPADdkb/x9J3Nj/05//rvn7e8TEikxay2acNQkikyPfPJL9xpR4Hq3l78k+973JONl91PvNPddi+Uz2voXmzG/yyU5E2nstrHKcw6MMII6JngkAVKdnjomeCQBUp2fOE90TAKhO91wvOioAUJ3JOHDDKybjRGIyQ0x8aK1DVnybTCbxnI44axJEJlUn48R+zmTvcfZkt0Wktfyl7DrvHb8x8Wcve5ODwirHOTzKAOKY6JkAQHV65pjomQBAdXrmPNE9AYDqdM/1oqMCANWZjAM3xM35r0x8e0hrPTJmSWvdLmVSdTJONq1le2XTWvbSb37/5cefvJ97x258200mmeN/lrTWDc5kAHFM9EwAoDo9c0z0TACgOj1znuieAEB1uud60VEBgOpMxoEbspMw4ts6YiLGpVj2sy+++vgT+Xz6iz8012XPLGmt26VMKk7G+cnPfv3xp/bTWr5XNjFRprX8Jr7xJpN732rz4Zd//PhT97O3LmGWtNYNzmQAcUz0TACgOj1zTPRMAKA6PXOe6J4AQHW653rRUQGA6kzGgRuykzDuTR6JSRgxWacnmUkJ12ZJa90uZVJxMk52/SKt5Xtlc2+dN3/9+3/4+NP3c+u4zRz/9ybzXJolrXWDMxlAHBM9EwCoTs8cEz0TAKhOz5wnuicAUJ3uuV50VACgOpNx4IYzJuNseibkxM+2HuOeWdJat0uZmIzTfowe2WQm4/zm919+/On7aW3b7DcC/eq3f/7Rsi2zpLVucCYDiGOiZwIA1emZY6JnAgDV6ZnzRPcEAKrTPdeLjgoAVGcyDtxw5mSckP2Gkcinv/hD8zFumSGZCRWZmIzTfowe2bSWvfbJh88//vT9tCaRxXGcSfbboGZIduIQPMIA4pjomQBAdXrmmOiZAEB1euY80T0BgOp0z/WiowIA1ZmMAzecPRknOzEh8uXX3zQf45ZsYl2f4cMv/9hcr2uZxOO1lr1n9sk4Mdkkm9byvbJpLduSnUgW34RzudxnX3z18b/cTs+xns318XmW7HEOjzKAOCZ6JgBQnZ45JnomAFCdnjlPdE8AoDrdc73oqABAdSbjwA1nT8YJMfEgm55vx8mmtewrZdKzPTezT8YJ2VxPaOn1jIk/v/n9lx+XuJ/rySqZ9HzTTDatZWElBhDHRM8EAKrTM8dEzwQAqtMz54nuCQBUp3uuFx0VAKjOZBy44RmTcXq+HedPf/lr8zFast9c0lr2lTJ575Nx9h5nzycfPv/4SPfTs52zjxnfhNO7TEweuvxd96xynMOjDCCOiZ4JAFSnZ46JngkAVKdnzhPdEwCoTvdcLzoqAFCdyThwwzMm44Seb8fJTsyIdcjk0W9deVQmVSfjxOSqTI6s46X4pplM4ttuWsvf0jsRJvNtOvFauPwde1Y5zuFRBhDHRM8EAKrTM8dEzwQAqtMz54nuCQBUp3uuFx0VAKjOZBy44VmTcT788o8fl9xPdsJEZuJDJL6Zp7X8q2RSdTJOfGtMJj3fiNSSnfQTx2Fr+Vt6j7HM5J2YOHT9e+5Z5TiHRxlAHBM9EwCoTs8cEz0TAKhOz5wnuicAUJ3uuV50VACgOpNx4IZnTcYJPcl8y0dMPsgkO7nnWTKpOhmnZxLW0W92yW6HSO/v+OTD5x+XvJ+YdPTTn//u4/+6n/i51u+6ZZXjHB5lAHFM9EwAoDo9c0z0TACgOj1znuieAEB1uud60VEBgOpMxoEbnjkZJ/sNH5HMBJKYWJHN0YkeZ8ik6mSc7ASVyNHJJLHtMjn67TuZb7uJn4lvvNnLl19/0/wd96xynMOjDCCOiZ4JAFSnZ46JngkAVKdnzhPdEwCoTvdcLzoqAFCdyThwwzMn4/R8g0lMbmg9xrWY3JDJ0YkYZ8ik6mSckN1HkfgWmNZj3NLzzTvxs63H2NMziWwvMWGn9Tv2rHCcw6MMII6JngkAVKdnjomeCQBUp2fOE90TAKhO91wvOioAUJ3JOHDDMyfjhLMnZvRMxvjsi6+aj5EV3zoSvy8mPMTzyH4LSSaVJ+NkH2tLdkJOz+NmJ3e1fPLh84+P8njim4Jav2PPCsc5PMoA4pjomQBAdXrmmOiZAEB1euY80T0BgOp0z/WiowIA1ZmMAzc8ezJOz6SC7O+IiRbZxM/2fPtKTDbZJiZcJ/69tcy1TCpPxgk9+ygS2yP20/VEkJjMEtu9Z1JX5Mg2uNS7/q3EOrceO2v24xweZQBxTPRMAKA6PXNM9EwAoDo9c57ongBAdbrnetFRAYDqTMaBG549GSf0JPNNItl1vk5MPPjN77/8bvnNr3775++eW2tSwnXi51vrcy2T6pNxso/3jMS+bK1TjzhOHk0cW63Hzjq6DV91nMOjDCCOiZ4JAFSnZ46JnsksYuyqpfWzANBDz5wnuidVxR8tvO6xmc/OR1hpXQFWpHuuFx0V4I1rBajLZBy4IXvD/yOTcXomNsTPth7jWmZSwdnJTlLIpPpknDBiH8U3xJxR3j758PnHRzyeM9Zj5uMcHmUAcUz0TACgOj1zTPRMRtsbf+z9VmEAuKZnzhPdk2qip3759Tcfj/AfJ7rsh1/+sbnsq620rgAr0z3Xi44KvHeuFaA+k3HghldMxslOItnSeoxrMYM23qBfGZNx+ibjjNhHMYmmtS5HPLLuUSxbj9lr5uMcHmUAcUz0TOC9iG8GbE1sjn/Td9Zm37JHzxwTPZPRMnlkfJM56AF12besQM+cJ7on1URPzaS17Ks9Y131AIAf0z3Xi44KvHeuFaA+k3HghnhTyuTRD6vvzXq9TnYGbHzzyCsnKmT/emYmR7bnapNxwqv2UfyOs/+6ac83Ol0nimDrMY+Y9TiHRxlAHBM9E3gPMtcen33xVXNZ5mbfkqFnjomeyWiZPDq+yVh6QF32LavQM+eJ7kk1z7hp7VnOXlc9AKBN91wvOirw3rlWgPpMxoEbXjUZJybYZBMzV1uP0RLfHNKa/Xp2YjJE/K7WOlzL5Mj2XHEyTnj2PorHjgkrrd/9iPiWnaM5e31mPM7hUQYQx2TFnhnn43ifivfOazFx0tfYApd6rjue0SF5HvuWLD1zTIxn5mzddiZVzpmZxDVEa1nmpwfUZd+yEj1znuiex8RnfK0+2CPO2/E4Pks6V/TUTFrLvtqZ66oH1OJ6F86le64XHZWj4o8mt97HniHer1vrAGdwrQD1mYwDN0TRyuSMD6t70lr+nngDfta3h8Rz75mEksmR7bnqZJzN2fsoHuvIc+1xZH1jVnbrsc4w03EOjzKAOCar9cwYeMrEX7sANnE+yCa6VesxmJN9S5aeOSbGM/fFB0IzpueP4swskzPGNxlDD6jLvmUleuY80T37xR81ekaiX8VndW5+ekxsx0xay77ameuqB9ThehfOp3uuFx2VI17xh5kvE/ectdYDzuBaAeozGQduiL9ctPdGGJMLzpgZHTfUZiYSxJtpa/mM+B1nFNXYJvFGfeQvO/3qt3/++CjtxPaM9Wwtu2evaMRjHxnwznzzSmyT1rK9Ht1HseyrSlRsy551jZ99xQcOMxzn8CgDiGOyWs985aRhoIa9a5vLPHtiN+eyb8nSM8fEeOa+uP6eNa31XU0mrhvWpQfUZd+yEj1znuiefV51k3yc0/2l7WOy74etZV/tzHXVA+pwvQvn0z3Xi45Kr7j3a0RecV8b75NrBajPZBxIiLIV34xxqfVzj2r9nnB22du+CjkmsMQbdIjJKpGYFLT9W4ifi5Ib69F6rCNigsP1c2z93BHP3FfXj3vmY1+K7bPto8t9seXy3+Jn4mdHThpp7c/NyAuV0cc5HGUAcUxMxgGqi/NBNnGOaT0Gc7JvydIzx8R45r5stx2R1vquJhPXDevSA+qyb1mJnjlPdM8+r+6hcW4f+bnZirLvh61lX+3MddUD6nC9C+fTPdeLjkqvUe+f7hnjWVwrQH0m4wAATMQA4piYjAOMFn8lMV6z19/yF/87/v3Rb0DsGZh79HfxvWfv12DfkqVnjonxzH0z35xU4QPYTOK9pLUs89MDxtDx4If0zHmie/YZ0UPjj8XFH4drrQ8/ln0/bC37ameuqx5Qh+vd9+MV1wi80T3Xi45Kr1Hvn94beRbXClCfyTgAABMxgDgmJuMAI2W/bv2RmzV+9ds/f3yU/fgrred4xX4N9i1ZeuaYGM/cN/PNSSO/ifgsmbhuWJce8Ho6HvyYnjlPdM8+I3voo+8T78WZN60925nrqgfU4Xr3fXjVNQJvdM/1oqPSy2QcqnGtAPWZjAMAMBEDiGNiMg4wUvY1HT/XWj4jPlzNJP5SX2t5+r1ivwb7liw9c0yMZ+7Lni9HpLW+q8nEdcO69IDX0/Hgx/TMeaJ79hndQ93st++9TsbRA+pwvfs+vOoagTe653rRUek16v3TxAWexbUC1GcyDgDARAwgjonJOMBIr/qw7pMPn3/75dfffHy0H+c3v/+yuRzHvGq/BvuWDD1zTIxn7oubEGdMnFdb67uaTFw3rE0PeC0dD35Mz5wnumef7Dn9Wfnr3/9Dc7343nudjBP0gBpc774Pr7xGQPdcMToqvUb0dO+NPJNrBajPZBwAgIkYQBwTk3GAkUZ8WBcfBG/8pafnGLFfg33LLXrmmBjPzPnsi6++66494i+7ZdNafs+nv/hDc11Xk0k839ayrEcPeD4dD35Mz5wnumef7Dk9bnKKn70lbnS6dyPUvcTyrXXjTfTUTFrLvtoz11UPWJvr3friXJ6Jc/45dM/1oqPSK3te3evpPXQsnin6VyatZfe4VoA5mIwDADARA4hjYjIOMFL2NR0/11qeOdmvzEbPHBPjmc8THy5l01r+vcjEdQPk6XjwY3rmPNE9+2TP6dmuFP20d1KOb8e575k3rZ1tpXVlfq531+Ia4bV0z/Wio9Lr7J4Oo7lWgPpMxgEAmIgBxDExGQcYyYd1NdmvzEbPHBPjmc/j5qScTFw3QJ6OBz+mZ84T3bNP9pze25V6vtEi4hsqblvppjU32HEm17trcY3wWrrnetFR6fWsng6juFaA+kzGAQCYiAHEMTEZBxjJh3U12a/MRs8cE+OZz+PmpJxMXDdAno4HP6ZnzhPds0/2nH6kK8U33mTzm99/2XwMTMbh/XK9uxbXCK+le64XHZVez+zpMIJrBajPZBwAgIkYQBwTk3FeIz5ACvHXHuM5hO3ffvKzXzeXGS3WK9bvwy//+N36fvLh8+/+d+tne/3057/77rGut0XrZ0d6L9tgW5fL9YnnvP1b/PfWcmeI35VJ/Fxree4btW/f237dtuflOX47X4TWMjO5XPf4v/G/n/m6H0HPHBPjmc8Tr9NsWsu/2nY+fPV5MpMVPrhubb/t32a9lgiX61z1/WUUHe81tu356nPXWS7X3WvwefTMeaJ79sme0490pTjnZBPfpNN6jCNGvT9mXK/X9r9bP7sZddPaSuv6arEdZnlv3catL818bdAjnks2reVfZdvu2zFx+Xqpsi8y4nlnEj/XWp4+uud60VHplT2vrjCmecvl++foTrXZ3sOvtX72mbbfe9kvZhqL2tZjW7fMerlWaP/8M1W+VmBOJuMAAEzEAOJb/vF//Nm3/97/5f/77T/78//08V+eG5NxniMuZmNd4wPlTOIvRn72xVffXZi3Hq/X9vtjO1z61W//vPs7Yrkvv/7m45q1E88rPsxuLX9LrFP8/r3HjvU8YzvYBrfFoF2sR/yenmzb7+jA0bZPLmXXIX7uetlLe9srfnfsr/iLq/FYlzLHxKV4nNY6nCEGw1q/M2vEvh25X8OZ+zYrtnP8vr3X8mXiZ2OZWLb1mEds2/7I845ttvceFe9Nsc6jPwQ5g575Fj2zjni/yKa1/LPNcp7MJM6brWVviXNinHuju1+ff2P94/wa5+fWslnb+X3Fa4lXv7+c2QPiceJ5P4OO90OZ/XLmvs3S8ThCz7wd3XNucZ7JJM4/reX39KS1fMaI98cecc7eW7ftnNzqCtnndb3cEbOt69k9oMJ7azx29niP9Y2f3bpXxky9YNbr3e04euV1WmyL+J2t688Q/x7/vbVsRhzftx67dZ7ctsGl+NlM4ueul730yHZ6T3TPx6OjMrs4J2YS59XW8s9Uabxi61aZ9/UY+4mffXR8r2WWsah7Yt/Gfr4X1wq341qB98BkHACAiRhAfMs/+r+9Xcj8b/+Nf/KSwUCTcc4VAwyZi9x7iQvyeJ6tx8+Kx7iX1gVz/M695a4TP58Z6IkBht7EQNIjF/a2wQ/FsRnr0Pv8biWO895Bx0dfG3u5t60yzzs+eGwteykG3Z6ZWM/W771n9L4duV/DWfs248g5opV4jEfP82FvXc46z0XiGLt+rJXomW/RM+uI83Q2reWfZbbzZCbxPtZatiU+pMok1r+1/J7Yr4++r56x7fb24UzvL5nfqeO9Rce7bbZz19666Hhz0TNvR/ecW5w3MunpSpd63kday98y+v0xI3rFGefk7Da8XKbXrOuaWaeeHrD3eDO/t55xjZBJPNfW7x8hnnM2reXPdsY+iO17pCdmE+vXWv6ezHO6ftxnH4t71wjonmdER2V2z+7pj1i5U23iM/3sxNpW4rP7MybBHN0u1znaMTJcK7zFtcJc1wrMyWQcAICJGEB8yzYIuHn2YKDJOOfJ3pyXzSMTMfZy+SFz/I5HBp0i8dwvf/8mBqOODERcJgZ6Wo+9Zy/vYRuEZw/C3HreLc/OvcHGTDLnjRgke3Yuj817Ztm3z87eIHImj74nnPE6biUe85FB+72cfZ47c4Lgq+mZb9Ez64jXdzat5c+26nkykn2P6Nnmcb5sPcY97/la4pnrGtHxfhgd73s63ltW7ngz0DNvR/ec27PHWHvey1rLX5vl/XFP3PT1SOI9ZDvPZ5/v9TpkzbyumfQcm3uZ9b310X3Um8vtMFKsRzat5c80+jqt57zX8xlCdNVMrh/z2dm7RkD3PCM6KrN7dk9/xF5m7VSbnvfVvfRM9rg061jUNdcK38e1wltmuVZgTibjAABMxADiW64HATfPGgw0Geccj15038uRiRh72S6Wzxzwia/hvVyH+N9n5cjg0V7ewzaIY+cVyf4Vl2fn3od1mWTOG2cO1N5KZjBrpn377Ox9CJvJI+8Jr7g5N/sauraXZ5zn4nGu12MFeuZb9Mw64vWdTWv5M618noxk3yN6zqO9NxC5ljj+/pKJjvfj6Hg63nVW7Xgz0DNvR/ec27PHWHveW1vLX5ptfOuWMztdPOfsNmyty57Z1zWTnmNzLzO+tz7zGuFWMn31FWI9smktf5YZrtN6tkXc2Nl6jJb42b20Hu/Z6b2Wfo90z8ejozK7Z/f0R+xl1vGKmPhw1vpcpvf6YeaxqEuuFX4Y1wpvmeVagTmZjAMAMBEDiG+5NQi4OXsw0GScx73iYjcu7lu/+5a9xMXyMz7I3v6Kx9mDSUcGJPZiG5ybzAdlz869dcgkc97IDhg+ksxg1iuzt2+fnTN+/9H3hFcOZh4ZIN/Ls85zr3yPPYue+RY9s454fWfTWv4sq58nI2e//8c2aT3GLa4lvs+R95dMzt7HR6Pj/TA63m170fHmomfeju45tzgPZ3L03NDz3tpa/tIrs/f+dMszukT2Rq/W+tyzwrpm0nNs7mW299ZXdpXLZPrqK8R6ZNNa/gwzXaf1/NXzOI5bj3Epe6y31u/ZOXoOfk90z8ejozK7Z/f0R+xlxvGKZ03E2dL6nS2zj0VtXCv8OK4V3jLLtQJzMhkHAGAiBhDfsjcIuDlrMNBknMe86mI3Bil+8rNfN9ehZS9nTxTZEtv9WY/dO3C0l+rboOdDyzOSOUafnXsf1mWSOW/Ezzw7e4NZs+3bZ2fvQ9hMjrwnvGJfX6f3A+e9POtcFMl8uD8TPfMtemYdPe8FreXPUOE8Gdl7j8hef0Ti2qD1GLe4lvhxet9fMsn0gFcczzreD6Pj3bYXHW8ueubt6J5zy3acI+fa0HO+bS2/me39saWnLz4jrXW6ZZV1zaTn2NzLTO+tv/rtnz8u+frs9dVXGX29O9t1WvxMNplvx8l8K86t19ez09ub3yPd8/HoqMzu2T39EXuZcbwi3m+fmdbvvNZzbXRWjrynulZox7XCW2a5VmBOJuMAAEzEAOJbsoOAm0cHA03GOa73YjfWKZaJ5xD/t3fg5cxBg1XTeq63VE3ruba8+maFyN7A3rPz4Zd/bP7ekEnmNfaKgci9wazZ9u2zc2+/hkx63xNesZ9vZft2rYyRyXy4PxM98y16Zh2jb06qdJ689x7Rs53jg92edXMt0U7v+0smmeeu4/3Ys6Pj3TYyq3W8GeiZt6N7zi17Tuw9126y2ZvMPNv747Wem+SfldZ6tay0rplU7Lc9x3s8bnxjShyvIbbHo2mt0wg926G1/CNmvU7rWa9757Do4JncunZ5dvauEdA9z4iOyuziPJ5JTxc6y8gcGa84ox/t5dZ75ia7P5+RnrEo1wpj4lqBKkzGAQCYiAHEt/QOAm6ODgaajHNMz8VuXOje+wtnPR+k7A3obKqm56+DVE12G2SO0XidxGsqfvZ6QC7+LT78isGabPYGjOK18Mzce51lkjlv9Lz2j6b1ey/Ntm9H7teQSc97Qmyv3sT22T54v3TkL2n2rOvo9Azkj6ZnvkXPrKPn/ai1/COqnSfvPV72Lyf2TsTp2X/v8VqiZ1tmkjlmevbJ0bR+76XMOsRziddO/Oz1dop/0/Fuq3buemZ6XoPomfeie84tzmeZ9Jy/Np98+Pzj0vuJ95vWY2xme3+89sy/kpxNa71aVlrXTCq+t2b30b0JCz3XB5eJ11Dr8UbIvO63tJY/quf3jrhO67k+bS0fMo9x77w8+hoB3fOMHO2o/8K/+Z98t+xfvvr7j4+Ui45Kr2xPj7GJeA85qvW794xOz3hFfJ7em3ifjI4Z7+PRy+L/33vvvLdO8d96M2osyrXCuLhWoAKTcQAAJmIA8S1HBwE3vR9Ym4xzTDx+JtmJE9kBob0PqDdHEwNKsY23gbj48PyswZcYPIrnefnY2e24Jfv8w9FU2Qa3BvhiHe4NwrT0PP+9D8xi217KPv/4uetlL8W2bP2+TSbxO1rLXot911qHe7LJrMOM+/b6+b5qv4ZMsvs2ZNc9Ets8jofW42ziv/cOku895uZo4jwXA67xeza9NydFYh+11mtGeuZb9Mw64nWbTWv5R1Q7T956j+h5ntnOv8k+9orXEq9+f8nk1j6+Fut72UMyssmsg473Q5lk923IrntEx/MBew8983Z0z7nFaz2TnnPtpuecu/ceN+v4Voif6ck25nj92NHles/Vl7l8rFtWWteQSc+xeTSvfm/NJNOjMq/veC6tZWcQ65ZNa/mjsueuUddp2fN2pHXMZZffO//F41zKbrf4uetlL2WObXTPM/JoR+2dlKOj0ivOia9I9JzW77/naEaMV/Q8dvzsvfeh+G+33u9aP7/JvkdGYh32+ln892eMRblWOBbXCvA9k3EAACZiAPEtjw4CbrIfWJuM0y8uPjOJD3hby98SH7pk0lr22pHcW9+4cH8k9wYRsvs00jMweCTVtsHlYE+8JjIDMLdkB456f0f2ud/bfhmZPOu8EQNv2WT/+s3s+/ZV+zVkkt232fN7JAa8W49xS/YcH8m+fxzJ3gf8sa2yedZr5hn0zLfomXX0nK9ayx9V8TzZOpf1dLPsjVibqtcSo95fMnnW+5WOdzs6Xjs6Xk165u3onnPLntN7zwnZm8+37N30HWZ9f+zpAjGet9cH4n3iSFqPdW2ldQ2Z9BybR/Lq99Y45vbSc42wd6z3vrZfacT17grXaSF7Dotcn1/jtb2X3ucXXnmNgO55Rs7qqNlJOToqvbLn1TPSO655JCPGK3quSXrGgaKvXb6f3vvMfqWxKNcK/XGtAD9kMg4AwEQMIL7lrEHAzd4H1ibj9MsMINwbfLklBi4yyQyM9SYGWVqPc+no4F9mfXsGjVrLt/Sm4jaIYyrW+ZGbFDbZgbj4fa3lb8lu097HvZbJM84b8aFn5oPOSM9znH3fvmq/hkyy+zY7QBz7NHPD0LWeD8xby1/rTXYgNrueR97rRtEz36Jn1jHi5qRQ8Tx5/R7Rs23jL99dLptR8Vpi5PtLJjre/eh432elc9dl3nPHm4GeeTu659yy5/Se99HMDUKXyT72rO+PcdNcNvEcWo9xrefGwS2tx7m20rqGTHqOzd6MeG/NvCbjWqW1bEvm8Y70nlcYcb27wnVa6HndXR7Hce26l6MdMPt+kjmvsk/3fDxnd9S9STk6Kr2y59Uz0ntu7s2o8YroiZnE720tv2f7TP/e2HCmW0TiOY0ei3Kt0BfXCvBjJuMAAEzEAOJbzh4E3Nz6wNpknH5xQbyX7EX4tcxgR+amv55kJqFsMs/9MtkPkbIfSkWyAwk9qboNzpT9ELR34Db7mu593GuZPOO88ewB3zM8Y9++ar+GTLL7Npuj690z+Jy5yagnPe9LPevZWn5GeuZb9Mw6sufuSGv5o7JZ6Tx5/R6R7XpH+361a4nR7y+Z6Hj3o+N9Hx3v+7SWp03PvB3dc27Zc3rmXBs36cT5qDcrj2/Fc86m9/2l53wdaT3GpZXWdZNJT8fryaj31sxrsrXcLZnJcSNegxkjrndXuE7bZK9FIvH6z54Del//m8yxGzn6+PyQ7vl4ntVRb03K0VHplT2vnpHec3NPRo5XZBO/t7X8GbI5+v7Ys83ujUW5VnCtcCuzXiswJ5NxAAAm8i//H/6m+e+c6/oDa5Nx+mQ/CMrcYNOS+eA689yy6f0AqefbW3oHsLJ/HSR74Z9N5W1wtkx6B+Kyr+nex72WydnnjexfW42MHtDKpGcfvGq/hkwy+zYz8BiJD+dby2dlb/LObJtses9zIZvWsjPSM19j9Z65kmwnjbSWP6LqefLyPSLb8+Jmqsvfk/XeryVCNq1lWzLR8e5Hx3uLjvfDtJal7X/3f9IzR9E9H5M9p8dYVfxsS5yHev6K8mXOfn/ukUk8v9aym54bq+IGt9Zj3JP5FostreUvrbSum0x6jqFsRr63xvPZS2u5WzLXHqO76i2vvt5d5Tpt07N94ho38/sf+SMCcb7MZO+8Ss6/9G+2/515XE/K0VHplT2vnpHec3M2IztVtvs+8w/orDQW5VrBtcKtzHqtwJxMxgEA4N3aPrD+j/6f/5nJOB2yv7+1bEbm8TMDM5kcuYkw+/yPDEZkb37MXvhnUn0bnC2T2D6tZW/Jbs/ex72WydnnjewgaM9fPnyWTHr2wav2a8gks2+zA8JHXtuXYvlMMuucydEbxrM3VBmMpWXVnrmSzIclW1rLH1H1PLk9TnaCxdHzasi+P7aWzcg8/shriXD2+0smOt796Hhv0fF+GB2Pleiex2TP6c9IvJceuZHrLJnsvZdlt1+M9bWWz8ies1vLXlppXTeZ9HS8TEa/t2a6RGu5WzI3gc76fv/q693sa6S1bEbm8TPXaZeynyNk0/tHxS5lt1/8XGt5qGqblPP/+H/pqPTJnlfPSO+5OZPRnSo7DvTMcbuVxqKyx5trBdcKcI/JOAAAvFsm4xwTj5tJa9mM7PNrLXspkyPbKPtBWO/gXcg+9+yFfybVt8HZMul93tnnfGR7XsrkzPNG9gPR3g9anyWTnn3wqv0aMsns2+z5/ZEPp8OZf5Urk6PHdXZ7GIyl5Z//1//m2//zf/jff/t//b/7sPlZsn0k0lr+iMrnyZ/+/Hcf/9f9PPq+nd2GrWUzsu+/rWUvZTLL+0smR9e1RcfT8W7R8WAck3GOyZ7Tn5Gj3y5xlkz23suy59OY8N1aPiP7O1rLXlppXTeZxO9sLduSSc/jXco+97331sxrMq5bWsu2ZG4CnfX9/tXXu2cfv9ey59vWsrfEhMaz8ug3A2Sf3955FaoxPspR2fPqGentApmM7lTZx3nmNUl2HWYYi8quq2sF1wpwj8k4AAAT8dXar7F9QP3P/vw/LdkzswNQRy+I92T/ekWs5xFnDUZkcmQbZT8Ii+fSWv6eWCaT7IV/JtW3Qa943Hsy6X3e2ed8ZHteyuSs80b268cjr7oBpbU/L2XSsw9etV9DJpl9GzfNZhLbq7V8VnZ7R1rLX8rk6HGd/Ytaj26PV9EzX2P7kPn3f/j6u+PDeObznHkuyap6nox+Hx9I7iWef88HWi3v/VoinP3+komOdz9x7LQeuyV+NpOex7wlEx2vvfw91TreDP4FPXOY1cc4R8ue08/OozecZWzvg7dksvdedtZfOL7nrG630rpuMul5L8xk9Htr5mbKnr/gnulAreVmkH2dRlrL91rlOu1a9tjbyyOv/RDPMZP4udby9PkXdc/pGR/lUdnzarzXx3vMUUe+GSaTeOzWsnvO6lTZcaBHx3nvWWksyrWCa4VbaS0Ht5iMAwAwkWeVs9USX1nd2j6Puv6AeovJOH1mSWvdLmVyZBtlB3WOfLCS3bfZwZ5Mqm+DW+Iv58VfsIkBoNgGZ6b3eWef85HteSmTs84b2UHWR77S+5ZZ9u2r9mvIJLNvs2kt2yub1rKXMjl6XGf34aPno1fRM9/yrJ55/SHzFuOZz5PtI5HW8kdk01q2VzatZS+dmUf/WnCYJa11u5TJLO8vmeh496PjvaW1bK9sWsteykTHm4eeeTvGOOeWPR+clXgfPfvcMvL9MZvWslnZ59Ra9lI2rWWzzlrXTSY974WZjH5vzX7TSebG0cxNf3HjZWvZGbz6eneWtNZtT/Ya5VaOHveXsq+BvfMqObrn4zE+yuyy59UzzuG9MhndqbJpLXuWbFrL9sqmtWzIprVsVhwTmbSWbcmk5zjMZPRx7VqB2ZmMAwAwEQOIbzl7EPDWB9RbTMbpM0ta63YpkyPbKPtB2JEPVs4ajNhkUn0bXIsbFLJ/4eZoep939jkf2Z6XMjnjvJEZwIrEB6Wt5Y+abd++ar+GTPb2bXYQM9Javlc2e4OmmRw9rrP78Oj56NX0zLec3TNvfci8xXjm82T7SKS1fK/K58mevKKPvCKtdbuUySzvL5noePfTc1xn99+jr5WQiY7XXv6es1+D6Jn3YoxzbtnzwRmJ99HWOhw1w/tjNq1ls+Jcn0lr2UvZtJbNOmtdN5n0vBdmMsN7a+a4jr4Zr4HW8tF9YmJ4Jmf0tWd59fXuLGmt255Hz+VndL7sOsx8zK1E93w8xkeZXfa8erS7PCKT0Z0qm9ayZ1htLCqb1rJZrhX241qB1ZmMAwAwEQOIbzlrEHDvA+otJuP0mSWtdbuUyZFtlP0g7MgF+pmDESGT6ttgE4Muj/6VvGx6n3f2OR/ZnpcyefS8kT02IrcGwnrNum9ftV9DJnv7tmfftZbvlc3eaz2To8d1dh/2no9G0TPfclbP3PuQeYvxzOd59Xmr8nkyvvGm570089flbpklrXW7lMks7y+Z6Hj3o+O9pbV8r2zOOHfpePPQM2/HGOfcsueDo4n3sZiEEzf8tH7/ETO9P2bTWjYrzvWZtJa9lE1r2ayz1nWTSc97YSYzvLf2dJd4LcQ6/+q3f/7utdYzQS2WPfO1ebZZO9yz01q3jLimPZKjx/y17Gtg77xKju75eIyPMrvsefWs83iPTEZ2qld3iJZZe8yt7ZZNa9msOCYyaS3bkknPcZjJyON603NsVb5WYE4m4wAATMQA4lseHQTMfkC9xWScPrOktW6XMjmyjbIX+Uc+WDlzMCJkUn0bhOxfODkrvc87+5yPbM9LmTx63sh+8HnW+Wnmffuq/Roy2dvmPQOYreV7ZbP3Ws/k6PGW3Yc956OR9My3PNozsx8ybzGe+TyvPm9VP0/GjZ3ZxAdXrd+VMUta63Ypk1neXzJ5tHvpeN/T8e7L5qxzV2vZPdU63gz0zNsxxjm37PmgJ/GeGTf6fPqLPzR/5yNme3/MprVsVpzrM2kteymb1rJZZ63rJpOe98JMZnlvfcWxfkZXe6ZZO9yz01q3PT1/fb+VM260zL4GZj/uVqF7Ph7jo8wue1492l0ekcnITvXqDtEya4+5td2yaS2b5VphP/eO60uuFZiVyTgAABMxgPiWo4OAvR9QbzEZp88Mib9g0Vq3S5kc2UbZAaQjF+lnD0ZkUn0b9PyVk7PS+7yzz/nI9ryUySPnjXhdZnLWX5OZfd++ar+GTPb2bfZ1HWkt3yub1rKXMjl6XGf3YfZ8NJqe+ZajPbP3Q+YtxjOf59Xnrfdwnux5bz36/jVDRl5LhLPfXzLR8e6n53jO7r+jr5FLmeh47eXvOfs1iJ55L8Y455Y9H8QEm/jZlph0E+eLZ58zZnx/zKa1bFac6zNpLXspm9ayWWet6yaTnvfCTGZ6bz36TSeZxOup9TtnMmuHe2Yy12kt2dferRw97i9lXwN751VydM/HY3yU2WXPq2ecw3tlMrJTvbpDtMzaY1rLhmxay2Zl+0pr2ZZMeo7DTEYe19fe+7UCczIZBwBgIgYQ39I7CHj0A+otJuP0ySZ+/zPEX+1urde1TOLxWsvekx1AOvLBytmDEZlU3gbZGwdvJQZbLo+9kEnv884+5yPb81ImR46HkD0mItnX8D0r7NtX7deQyd6+/enPf/fxJ/fTWr5XNq1lL2Wy99xvye7D7Dl5ND3zLb098+iHzFuMZz5Pz3tPa/le7+E82fMcj068yGZ7fz7b6GuJcPb7SyZH11XH+zEd775sWsteymTvud9SrePNQM+8HWOcc8ueD46eb84y6/tjNq1ls7Lr2lr2UjatZbPOWtdNJvE7W8u2ZNLzeJfOfm+NSW7Pyio31736ejebOEae4ei1RM92updHe1/2NbB3XiVH93w8xkeZ3cw9PZOj63VGp3p1h2hZbSwqm9ayWXFMZNJatiWTnuMwk5HH9SXXCszKZBwAgIkYQHxLdhDw0Q+ot5iM0yeb1rKvlMmRbZQdxDrywcrZgxGZVN0GcXNoT+IrjWPwZu+m0kx6n3f2OR/ZnpcyOXreiMGpTM4YxFpl375qv4ZMMvs2myM3X186cyA+k6PHdXYfZs/Jo+mZb8n2zEc/ZN5iPPN5sn0k0lr+iGxWPk9mz32RI+fXbFrLvlIms7y/ZHJ0XXW8H8vuv57HvCWTzL7NRsf7YVbpeDPQM2/HGOfcsueDo+ebM8z8/phNvD+0ls+IbZ9Ja9lL2cywrptMeo7NTGZ4b+25zuvNb37/ZfN3zujV17vZtJYdKXu9spdHz/PZ18DeeZUc3fPxGB9ldjP39ExGd6psWsueJZsZxqKyca3gWgHuMRkHAGAiBhDfsjcIeNYH1FtMxukTfwU7k9ayr5TJkW2Uvcg/8sHKmYMRIZOq2yD7V0PjeM5uz5BJ7/POPucj2/NSJkeOh+z6Rx4ZqNyssm9ftV9DJpl9m03Pdm355MPnHx/pfs5a5yPHdcjuw0e3x6vomW/Z65lnfci8xXjm88RrL5vW8kdks/p58suvv/n4X/bT+xeM3/u1RDj7/SWTI+uaXc+Ijvfj9DzmLZmcdR6IrH7uyjr7NYieeS/GOOeWPR8cPd+cYeb3x2xnjPeH1vIZse0zaS17aaV13WTSc2xmMsN7a/Z6oSfxvFZ7X4/1zaa1fK9VrtMunf1X0ePxWr8nI/sa2DuvkqN7Ph7jo8xu5p6eyehOlc0z+1E2j67DGWNRrhVcKzzztcD7YTIOAMBEDCC+5dYg4NkfUG8xGadPdrDg0b9k8qhMjmyjuBjP5MgHK2cORoRMqm6D7MBZ742DmfQ+7+xzPrI9L2XSezz0/MWhR9d/s8q+fdV+DZlk9m32r0k+us7Zm4kyf4UokyPnuZDdh6sM0uqZb7nVM8/+kHmL8cznyfaRSGv5I97LebJn28YHYD29P35XJlWvJcLZ7y+Z9K6rjndbdv+dsV0yyexbHe+HsvtwlY43Az3zdoxxzi17Pjh6vjnDzO+PsV0yifeH1vIZ2d/RWvbSSuu6yaTn2Myk5/EunfXeuvc427cxxh8EuLe94xol/ns83ujriqNefb2bPX5n2p6ZmzHjHJq9aTN+tvV7MrKvgb3zKjm65+MxPsrssufVo93lEZmM7lTZa4hnvi+tNBaV7UGuFVwrwD0m4wAATMQA4luuBwGf9QH1FpNx+sRgRSaP/CWxM2RyZBtlPwg7Mnh01mDEJpOq2yCTzE1g1zLpfd7Z53xke17KpPd4yA6mPvJh5rVMZti3r9qvIZPMvv3si68+/vT9bAOaR2WPm8y3LWRy9P0wuw+z5+TR9My3XPfMZ33IvMV45vNk+0iktfwR7+k8mX2ukfjZ6+Vvee/XEuHs95dMdLz70fHeouP9MKt0vBnombdjjHNu2fPB0fPNGTIZ9f6YvfHt6PvLmX1/pXXdZNJzbGYy+r11b9JE66+Rx0S0eNzN9X9f1TOOqXtWuU7bZI+5WN/sz0b2znu3ZH/H0cfnh3TPx2N8lNllz6sjenomoztV/P5MHh0HumelsSjXCq4V4Awm4wAATMQA4lu2QcBnf0C9xWScPvEBRiZHPgg+UyZHtlF2wOTIBytnDUZsMqm4DZ65fpn0Pm72OR9Z30uZ9BwP2fWOZI/ZPSvt21ft15BJZt/GYHQ2R/9aUHYfRjK/I5Oj74fZfXjW8f1seuZbtp757A+ZtxjPfJ6e80lr+SPe23ky+xeEI60Pu1re+7VEOPv9JRMd7356Hje7fY6s67VMdLz28vdk9+FZx/d7oGfejjHOuWXPB0fPN4+a/f2x5/2l95waN031dNHWY1xaaV03mfQcm5mMfG/NHO+9+2Zlme2xpbV8r1Wu00J0ycxr7vIPB2Rfo/Fzl78rK/saOHK+5sd0z8djfJTZZc+rI3p6JqPHK7KPE3mkX8V78q0xnpXGolwruFaAM5iMAwAwEQOIb/nH//FnL/mAeovJOH1isCKbo4MnZ8jkyDbKDuzEfmotf89Zg2ybTCpug2euXya9jxs3r2bS81fnWzLJHg/x2s4OHj7ytd3XVtq3r9qvIZPMvo1B4WyOfvge65FJ9i9MZXLkPBfOOB/NRM98y3/wH/3/XvIh8xbjmc+TfU+ItJY/4r2dJ7M3ZEWyNy2992uJcPb7SybZddXx9ul4bTOdu/ZU63gz0DNvxxjn3LLng6Pnm0fN/v7Y8/7Ssw17b1iLtB7n0krrusmkZ10zGfnemrn2yP4BgAqyr/9Ia/leq1ynheirmcQxtS2TPUYjR86pr7xGQPc8I8ZHmV32vD2ip2cyslOFnh5xdF23CSy3xoRXGotyreBaAc5gMg4AwEQMII6JyTj94q+KZXL063rPkMmRbZQdwDryoc1Zg2ybTCpug2etX/aDvt7Hza7vrQHNrEyyx0P8XCaXf4HwDCvt21ft15BJdt9mz++Ryw+1M3r+ulT8bOsxrmVy5DwXzjgfzUTPfMs3//A/f/z/XhPjmc+TPc9GWssf9d7Ok9n3/Ej2xqL3fC0Rzn5/ySS7rtn9rePtR8drR8erSc+cJ7pnn+z54Oj55lErvD/23FyWeX85csNapPVY11Za15BJz7GZycj31sxjxPZ+L+/P2dd/pLX8EStcp2Vvlm1dr/S8XnsnHGX3V6xDa3n66J6Px/gos5u5p2cyw3hFz/tepvdfijHgy8T7c+vnVhqL6tlerhX6uFbgvTAZBwBgIgYQx6TqZJwY4IiffcStwZOeAY5H/9pXfPARvy8+5InnlP0gJJMjgwbZD1Zi+7WWvyeWySQ7kJBJ1W2QSetDuVuyNypEep93dntGYj1ajxGvizO2SeZ4iEHGbJ7xV2gymWHfvmq/hkyyr/Xsa3BLdoC853F7PpjOZOQA8Uz0zDExnvk8PefZ1vJHvbfzZLwX9XxwmDknvudriXD2+0smOt79xD5pPUZLz7lHx/thdLy69Mx5onv2yZ4Pjp5vzpDJyPfHnseL3LsRLn5fT++8TOvxrq20riGTnmMzk5HvrdlvFonEto913cS+jXVoid+54nt6rHM2reWPWOE6LfZ3Jq0uG8dDNrd6/C09++vWY2evEdA9V4yOSq/sOftod3lEJkfXK/u8M+8X8Y3WPcm898X6tTrwrfXpee+NjByLcq2wn5HHtWsFVmAyDgDARAwgjknVyThn5N6HuT2DCPGz2QGUEBe924cx17k3uHEpkyODBrFumcR+ai1/T3bfZgcFMqm6DbLH597gYkxIax2H93LkefckXpcxiBq/J8Q+3HJvu2SSOR7i9z8797bhSvu2J0f3a8ik57Xec36PxGPHOf76g/PYxnHO7j1merZzJj3P/VKsRybZc/JoeuaYGM98nmwfibSWf8R7O09mz4eReC6tx7jWsw3jZ6tcS4Sz318yyayrjtd+vJae6Hjfp2c7ZzLLaxA9c6bonn2y54Oj55szzP7+GI/bm+v3xlj33veo67TW7dpK6xoy6Tk2Mxn93vrsxP6MffiMieVni22VTWv5o3qO7/jZV16nZW/CvHcc9/TX3i7Yk+tzS6zzFh10n+65XnRUemW7xZmJ96fWulzLZHSnCjGW05t4b4+uFOsRvyPee+P/3+vA99antzvHthsxFuVaYT+jj+tnZ6VrBeZkMg4AwEQMII6JyTj3E4MPZ65HDGZtAzmbGKiIC/jMh8Lx8631uZbJkUGDGAjIJLuel2KZTDKDbCGTqtsgjrFsYhtcDuzF/42Blp7HuMyR5917Q8St3PvdmewdD0cGI4+m9fvDSvv2Ffs1ZNLzWs++Dp+R7Acem0yOnOdCdjtkz8mj6ZljYjzzebJ9JNJa/hHv8TzZ854W3b71GJeObsNYj5WvJUL2ub+y8+t4Ot6zM+rc1XL2axA9c6bonn2y54Oj55szrPD+GL93dFrr1bLSumbSc2xmcvRYP+u99eixeiRxs93MN9qNut492hdfcZ2Wvfn23nEW58hsel8Pr7pGQPdcMToqveJcOCKZcYBMRneqzau61b31GbUvI71jUbHfRqe1Xi2Z9ByHmYw+rl0rMDuTcQAAJmIAcUxMxrmfexe+Z33A0JN4/q11uZbJkUGD2B6ZZNfz0lmDEZtMqm6D7Do+I0eed3w4eUbu/e5M9o6HV27XW/t4pX37iv0aMul9rY84v8dfjLo1AfSWTEYPEM9CzxwT45nP0/N+0Fr+Ue/tPNn7/ps5N77Ha4lw9vtLJjre/eh4z42OV5+eOU90zz7Z88HR880ZVnh/fPY6Zv66dGu9WlZa10x6js1MZnhvfXVXiZv6WusxWs+x2lr+ETNep8Vfws8kcwxnJ/VEMsfs5lXXCOieK0ZHpVe2W5ydzDk4k5nGKzL99NHsrc8qY1E9/etIXCvcT+a4dq3AzEzGAWCYGJRqFaX4NwNNvFcGEMfEZJz7uXfhG39h8RWDOJfJvkdkcmTQIDsQc+S97MzBiJBJ5W0Qz21EjjzveC2dkXu/O5O94yG778/IvX28yr59xX4NmfS+1kec34/8laFMjpznwpnnoxnomWNiPPN5et6TWss/6j2eJ3tuLoobnFqPcek9XkuEs99fMtlbVx1Px3tmdLz69Mx5onv2yZ4Pjp5vzrLC++NZN6FfJz4vjPeRvbTW6ZZV1jWTnmMzk1neW91kN/Z6d8brtOz6ZI6xnm/HyVzXbl51jYDuuWJ0VHplu8XZyZyDM5lpvKKnUxzN3qSXVcaigmuF23GtAPeZjAPAEJm/OvPZF181l4XKDCCOick497N34RsDLK8cQIkPS1rrcS2TI4MG2UGrzIDdtbMHIzKpvA2eMbgXHSY6yr0ced7hjAG+e787k73jIbvvz8i9fbzSvn32fg2ZHHmtv+r8Hr8je26/lsksA8Sj6ZljYjzzeXrek1rLn+E9nicz4zlbMu+b7+1aIpz9/pKJjqfjXdLxanW8GeiZ80T37JM9Hxw935xllffHs2+KiseLx830lOt12bPCumbSc2xmMst7a/SHVye+eaW1LqNkjqUtreUfNdN1WrZ39xy/Pde1PX32FdcI6J4rRkelV7ZbnJ3MOTiT2cYrntmtoi+0fue1FcaiNq4V2nGt0F4f2JiMU1ScnOJE9og4icTjxABf63cAHJX9KulIFPLWY0BVBhDHZLWe2XMePSOZC9/ojGcPTLQSAyjZfprJkUGDzEBJJDp1a/l7YplMsoMRmVTfBmcO7m2DZXvreOR5bx59Hd0bDMpk73jI7vszsrePV9q3z9yvIZOjg6TPPr/HYz/S+TOZZYB4ND1zTIxnPk/Pe1Jr+bO8t/Nk5i/4bYn36dZjXHtP1xLh7PeXTHQ8He+ajrefVTreDPTMeaJ79smeD46eb860yvvjWe8tl3+sL9NTLtcha/Z1zaTn2MxkhvfW7GOdney1y6tkjqUtreXPMMN1Wvx7Nj3drecmzt5j49FttneNgO65YnRUer36XogtmXNwJjOOV8R731nXE1vi8XrGfmYfi7rkWuHHca3QXifYmIxTUHw11jMSJ9Q4oZ31pgW8X3t/besyBpx4bwwgjslqPbPnA4gz0lqHW+K8ffZAzpbooz2DS5kcGTTIDJREoju3lr/n7EG2TKpvgxDXMI8Oml0+l711PPK8Lz2yrrc+uAyZ7B0Przz/tH7/tZX27bP2a8jkyGv90tnn93isR18rIZOjz33veNjScz4aSc8cE+OZz5PtI5HW8md7T+fJnnGdnnPke7iWCGe/v2Syt646no53VnS890nPnCe6Z5/s+eDRc+1ZVnl/fOSbIeJ9JN6bLh8v0/svf77HzOuaSc+xmcno99bYnpnE9Uj8zlviv8dz6c2jf0X9TJljaUtr+TONvE7L3vsUP9da/p6e82nvsfHMawR0zxWjo9LrleNUl9nrKiGT0Z3qltiuRzpSK0feezezjkVdc63ww4w+rl0rMDuTcYqJQbhXJE5I8VcQW+sAsKen1EQRaj0GVGUAcUxW7JnRxXq+Sv9oYpCh9fv3xMXoox8OR+I9Iy6sj3wAsTdAEtvv6EXz3g2I8djRzVvL3hPPc2+79Qx02AY/FM+193UTg4nXx1+8/m4NEsa/n3Gt1LuumX151vEQ/ezZ6R3EXWXfPmO/hme+1q/F4zxyfo9lrwegH/HM5x7nsL39FefC1rIz0jPHxHjmc+31kdaHXs/2Xs6Te9s+8khne2Qbbpn1WuLs9xcd74fR8Y6Jx9Hxvs9KHW8GeuY80T37xPtF9IV7ifPFGeM8Z+p934m8+v0xbqTa27aXid936/PAWO97z7e3X1ybdV3Pfi+c/b01c3NipHcdezruo8fS2Wa73o1t/+rrtMz+i2Mv81jXMsdt5Oj5sPdc/chr8L3RPdeLjsoRce7tOY8+mniPa63HtQrjFdG79npGK7Fu8fyPvO+2PNotzh6LanGt8JbRx7VrBVZgMk4xPSeIMxJvNnHCbK0LwC09RfVWSYWqDCCOiZ75XDFYFufzuIiO94CwXXDHgMT2byF+Li6S44K69VhHxMBGPN6l1s8dEV34WY99/biPPLZt8EOxzpfH5DbQF/83/ncMpmQGa66f+zOujbZ1jXW6fK1s6xn/rXe7PPN4GG2VffuM/RpeuW/jd23n98v133L5b/Ez8bOxTOuxzvDs53792GcfE6+gZ46JnvkaM763vZfz5PV7ZjjzHFn5WiJcP/Yj227G18FZtu6k4z1/38bv0vHaP8tteuY80T2Pu36PCK2fm8n2vjPz+2Ocx+MGuVvrGDd9xXtJa9lrz35PmHVdz37ez96O14+dPZ72btCLxD5oLbsnXieZxH5uLT/as/fZEa++Tmudox95vGutxw6tn+21navPvkZ4z3TP9aKjUtGsnapXawzoUrxXRUd+1u8PsS1b67Hl8t/iZ+JnY5nWYz1L/D7XCo+7fmzXClRiMk4x2ZPDmYmL6cxAHu9PlJDLArJlKyLx31vLMdYr9ls8TjaOE94bA4hjomcCANXpmWOiZwIA1emZ80T3BFYUNy7uJe5JaS2blUl8ft1aFpiL7rledFQAjnKtwCpMxilmxGScLSbkcCmOh0wcN3N51X6L2cjZPHN2PczIAOKY6JkAQHV65pjomQBAdXrmPNE9gRXFX1zfS/xMa9msTNxgB2vQPdeLjgrAUa4VWIXJOMWMnIwTOfuryVhX9liMn2stzxiv2m/xtYaZxLfxtJaHygwgjomeCQBUp2eOiZ4JAFSnZ84T3RNYUXwevJdHPpvOfi7tBjtYg+65XnRUAI5yrcAqTMYpJnsj/bPy6Fd+UcerJnVwrlfut/gawS+//ubjI/44j85ahlUZQBwTPRMAqE7PHBM9EwCoTs+cJ7onsKJMPvviq+ayGe5bgFp0z/WiowJwVCauFZiByTjFZE8OcQN8/OwtcRP8vZvk7yWWb60b70scB5k4XuYyar/Ft2ptfvrz3zV/Bt4LA4hjomcCANXpmWOiZwIA1emZ80T3BFYUf/A1kyOfIX/6iz98XHo/PqOGNeie60VHBeAo1wqswmScYrI30me/NitujO+dlOPbcQgm46zJfoPxDCCOiZ4JAFSnZ46JngkAVKdnzhPdE1hR3LuSTfYz6p/87Nff/QHabLL3zwDj6Z7rRUcF4CjXCqzCZJxisjfS954g/vSXv35cMpeYNdh6HN4PkzrWZL/BeAYQx0TPBACq0zPHRM8EAKrTM+eJ7gms6MMv//jxLJZP3L8SN9DFZ9aX4t96722JxB+pba0bMB/dc73oqAAc5VqBVZiMU0ycNDI5Mlsv+5VfkThxtR6D9yN7LMbPtZZnDPsNxjOAOCZ6JgBQnZ45JnomAFCdnjlPdE9gRfGXqUfmV7/9c3O9gDnpnutFRwXgKNcKrMJknGKeORknvu0mm5hB2HqM9y5mScZ2jP0U/zf+909//rvmz75C/P6W1s/2MqnjMXFcbPsjtlGImb7bvz3ruHlP+23blttrMnzy4fP/9d9by8zkct1HnU+i8G7ba9uGM5zbVmcAcUz0TACgOj1zTPRMAKA6PXOe6J7Aqo78xesz4o/Mwnp0z/WiowLwCNcKrMBknGLiRuhMjkzGCT1pLX9pu3k71uVazCiMG7pby2XFSThOiNePHf8WvzduIm8t1xI/21rXzHrGeux9vVl861Cs17NvXo/Hj3XOfN3al19/893Pxn5qPdalbftciu2TSfzc9bKXMsfBSsfSLTEJJNY1Hrcn8fOx3JFjZ/R+i99/a9uesd+uxTaO3xXHdjbxs7FMLNt6zCNWP59s2zH7bWnx3OL5nvE6eS8MII6JngkAVKdnjomeCQBUp2fOE90TWFl8VvrKxOeXrfUA5qZ7rhcdFYBHuVZgdibjFBMngUzi5ujW8ntiuWxay2/iJvFM4sbz1vJ7Pvviq4+PcDtxI3lr2Za9m85bN73HvsjerH6ZuMn9+rEeFTfPZybg3EpMSLg3GaHnuDiSe5MKVjuWLsUkop5JDXuJ/ZCZPLUZud9C5nnH9m8t2+Poa/E68RhnFK29dZn1fBIThXomMrUSx9zecYEBxFHRMwGA6vTMMdEzAYDq9Mx5onsCq4t7Eh79PHIvPq+Eteme60VHBeAMrhWYmck4xawyGScmDGRy9Mb37Hq2lm3Zy+UEiDgZPzLxJRJvGmed1Hv22V5uTYx4du4dB6sdSyHW+cz9cp2YCdz6vdeenb1tnklsp9ayGVHAzpiEc514zHuT0/bsZcbzyZnHa2w/35JznwHEMdEzAYDq9Mwx0TMBgOr0zHmiewJVxB8JfPQz0uvEHzG8/BwWWJPuuV50VADO5FqBGZmMU4zJOG+y69latmUv24n4zJv/43Gu16NH3Hz/jIkIrW/aeHYqTcaJMvCKZL4R5dkZORknnv+zk9nGLXuZ6XzyrPNIvA5av483BhDHRM8EAKrTM8dEzwQAqtMz54nuCVQTf+Dvwy//+N3nsr033MXnzPFHLB/5I4vAfHTP9aKjAvAMrhWYick4xZiM8ya7nq1lW/YSz+cZkyyO7qdn3UC/5fr3PTuVJuO8MmdMhnkkZ/z+I6+Bs2c+38uRCTl7mel88qxtefT1+F4YQBwTPRMAqE7PHBM9EwCoTs+cJ7on8F7E/RDxmeq1+PfWzwN16J7rRUcF4JVcKzCCyTjFxA3OmRyd5JGdmBBpLb+Jk1smq0ygeOa3cBz5BolnTsSJXP++Z+fecbDSsZRd17MSx0HMAG6tS3h29rZ5Jr3nqp5z1FnpPbb2Msv5JGZ/PytHX4/vhQHEMdEzAYDq9Mwx0TMBgOr0zHmiewIA1eme60VHBQCqMxmnmLjBOZPeG9w32cS3KbSW31SbjPPMfPn1N811uuUVkxFi/13+zmcnvk7u8vddMhnnfu4972fn3n4LmfScq7Lnv2ekZ+b0yPScT3oS+ykm78Q+CPG/43fdytHX43thAHFM9EwAoDo9c0z0TACgOj1znuieAEB1uud60VEBgOpMxikmezN6zw3um08+fP5x6f189sVXzcfYmIzTl+yN/vGtF72Jb0/ZbqSPb+SI/3/vm3Wu1yf29zNz79tdqk3Gid8X6xo/e72d499igsu9SQ7XuTf5YuR+C5nE9mgtey22VW9i21xOINnEZMLeZNczjE7mfBLHWSZ75/r4XbFNr4/Z+LfWz/PGAOKY6JkAQHV65pjomQBAdXrmPNE9AYDqdM/1oqMCANWZjFNM3OCcSc+N45vspITI3jdivJfJODGpJW72j+e76Z1MEcluh95JGjHBqvU4If7bre3Y+vlYx0vZfRA/d73spXvrGFY6lm5NGIl9sfeauRYTp7K5Nynmenu/ar+FTOL3tJa9ll3vSGzvOG5aj7OJ/947KWfvMTdH88rzSWaiVnbfbGKy4LaumQlB75kBxDHRMwGA6vTMMdEzAYDq9Mx5onsCANXpnutFRwUAqjMZp5i4yTqTIzdR92TvGzHiJvJMMjeNt2RvzG8t23Ike98Y0TN5ILO/evZRTDJoPUZLTKq4/Kac+P9bP3cteywe3ceb1Y6ly4kT8diZSSu3ZCdh9PyOV+23kEnm2M8eA5GeYz/0fHtQTJBqPca1I3n1+SRzbMU5p7UsjzOAOCZ6JgBQnZ45JnomAFCdnjlPdE8AoDrdc73oqABAdSbjFJO9kT5zM/YmbuTvyZk3z88ygaI32Zvys5MpMhNgss85fmdr+T3bpIT4Zo7Wf7/2qkkdqx1L8Y0gsS6PTMLZxLeiZNLz3F+130ImmfNJ9luC4nW0N1GwJfs6jbSWv9abEeeTTOK111qWxxlAHBM9EwCoTs8cEz0TAKhOz5wnuicAUJ3uuV50VACgOpNxisneSJ+5wT1uWs/e5H6ZzA3alSfjZG+cDz3fZtNa/lI2r/o2i1dN6ljtWDrTM577q/ZbyCRzrsrm6Dr3vE4zk6x6MvP5JDsxj34GEMdEzwQAqtMzx0TPBACq0zPnie4JAFSne64XHRUAqM5knGKyN9LHNyjEz7bEzd9/+stfP/5kXzI3zoeqk3F6bpzfZNNadpO9Cf/ot+IcEfsuk6P7ePOeJ+OETHqe+6v2W8hk75yS/eauzLfB3BPLZ5LZLtmMOp+E7LfsvGpy33tjAHFM9EwAoDo9c0z0TACgOj1znuieAEB1uud60VEBgOpMxikmeyP9MxI3q8e36bTW61rFyTgxgam17J7sxKfYZq3lQ3xDRSav/CaLV03qMBlnPz3P/VX7LWSyNxkne+wfmdhyKZbPZG99QyYjzyfhsy+++viT+/ENOeczgDgmeiYAUJ2eOSZ6JgBQnZ45T3RPAKA63XO96KgAQHUm4xSTvZH+GYlvqGitU0vFyTiZm/Bbsut67+b57GP07KNHvWpSh8k4++l57q/abyGTvddVdv88+g0uZ377VCZ7z/uW7PbYm4zz4Zd//PiTucRkzJiw9NOf/675ePQxgDgmeiYAUJ2eOSZ6JgBQnZ45T3RPAKA63XO96KgAQHUm4xSTvZH+7PTe6G4yzvey37hx7+b5uBE+k1feKP+qSR3VJ+PE87snk57n/qr9FjLZe11lj/3YVq3ls7LbOtJa/lImI88nm+y2vU58O09M5mk9JjkGEMdEzwQAqtMzx0TPBACq0zPnie4JAFSne64XHRUAqM5knGKyN9KflbhZ+8hN7s+YRHBppck42X12bztn01r2WV41qWO1Y+mWn/zs199NYIjJFNnfmU3Pc3/VfguZ7L2usmkt2yub1rKXMhl5PtlkH+te4niOY7v1+NxmAHFM9EwAoDo9c0z0TACgOj1znuieAEB1uud60VEBgOpMxinmjJuns4mbrFvrkGEyzvfOuHk+m9ayz5J9Xkf38Wb1yTgxASe+SeSZ6Xnur9pvIZN7r6uY5JFNa/le2ex9A1UmM0zGCWcdmybl9DGAOCZ6JgBQnZ45JnomAFCdnjlPdE8AoDrdc73oqABAdSbjFJO9Efto4ptwzrip2mSc7z1683x2W0Zayz9L9nkd3cebVSfjxCSceD29Ij3P/VX7LWRy73X16mM/m1uv1U0ms0zGCWdNyInj/dNf/KH5O/ghA4hjomcCANXpmWOiZwIA1emZ80T3BACq0z3Xi44KAFRnMk4x2Ruxe/Ll1998NwHnzJuoV5tAkYnJOD+UfV5H9/FmtWMpfPbFVx+Xek16nvur9lvIxGScPtn9t7eO1848Zh/5VrX3wgDimOiZAEB1euaY6JkAQHV65jzRPQGA6nTP9aKjAgDVmYxTTPZG7JhgEz/bEpNu4kbt3pu1e2Rvoo/1aS2/x2ScdlrLP0v2eR3dx5vVjqWzvmWkJz3P/VX7LWSy4mSc1rKXMpltMk6IZeK944zEN0O1fgdvDCCOiZ4JAFSnZ46JngkAVKdnzhPdEwCoTvdcLzoqAFCdyTjFZG/EPnqj91lWm0CRyaib5189ISEr+7yO7uPNSsfSr377548/fSwxkSfW51ImPc/9VfstZBLPsbVs+OnPf/fxp/bTWr5XNq1lL2Vy73nfk91/t84nGZ98+Dx97N3KX//+H779yc9+3Xx8DCCOip4JAFSnZ46JngkAVKdnzhPdEwCoTvdcLzoqAFCdyTjFZG/EPnqj91lMxvneGTfPZ9Na9lmyz+voPt6scizFxIOefPbFV999S9XehIVMep77q/ZbyGTvdZXNoxM/zpz4k8nI80lWbNOYYBYTa47kN7//svm4GEAcFT0TAKhOzxwTPRMAqE7PnCe6JwBQne65XnRUAKA6k3GKyd6IffRG77OYjPO9M26ez+aMG/Czss/r6D7erHIsZb8VJyY29OynTHqe+6v2W8hk73WVzaPHfnwbTCaZ80AmI88nRxz9tpzWY2EAcVT0TACgOj1zTPRMAKA6PXOe6J4AQHW653rRUQGA6kzGKSZ7I/bRG73Pkp1AcXQ9szeFt5ZtyWTkzfNffv3Nx5+6nzMmUGRln9ej67TKsZTdR/ENLK3lb8mkZxu/ar+FTPb225/+8tePP3k/j65vdjJV5tteMhl5PnlEPG72WI88az1WZwBxTPRMAKA6PXNM9EwAoDo9c57ongBAdbrnetFRAYDqTMYpJnsj9tEbvc+SnUARN9q3lr8nJjNk01q+JZORN89nJ4wc2Z5HZZ/Xo5MkVjmWMslM5LiWSc82ftV+C5nsva4+++Krjz95P48e+9lJPx9++cfm8pcyWXUyzubM7fUeGUAcEz0TAKhOzxwTPRMAqE7PnCe6JwBQne65XnRUAKA6k3GKyd6IPXoyzk9+9uuPa7Kf+NnWY7TE5Im//v0/fFxyP63HaMlk5M3z2ceIPHITfuyL7P7IrlP8XGv5rBWOpeyEoSPbIpOex33VfguZ7L2uYjJHNj37/1J2/0UyvyOT1SfjfPLh84+/6X7OOI4qMoA4JnomAFCdnjkmeiYAUJ2eOU90TwCgOt1zveioAEB1JuMUk70Re/RknJBN9mbt3skTkdbjtGQy8ub5nskCR9dzm/QQ27j1369lb8aPbzZpLd8jm1HH0kqTcWbbb3vHa8+3Fx355qEQ65BJ9tt3Mhl5PjlLJkeO+ffAAOKY6JkAQHV65pjomQBAdXrmPNE9AYDqdM/1oqMCANWZjFNM9kbsozd6n+nLr7/5uDb7iRvuW4+xiRvLeydPRFqP1ZLJ6Jvne55/7w3wMfHiMnv7I2QnoGQn99wz+7GU3Ra9+yUml2TS87iv3G+ZZF5XPfv/01/8ofkYt/R88078bOsxrmUy+nwSr5PebXUpexzF5K/W8u+dAcQx0TMBgOr0zDHRMwGA6vTMeaJ7AgDV6Z7rRUcFAKozGaeY7I3YM0zGuZ7gcS9x43/rRvef/OzX6QkJrVw/3i2ZjL55/le//fPHn8wl8y0hsW6tiSl76xKyN+NHbq1L7N/M71rhWMokJpW0lm3pWddnTMaJPLrfMsm8rrKvoS3ZSSY9j9szOSmT0eeTbYJT/N8jk3Ky65GZ2PceGUAcEz0TAKhOzxwTPRMAqE7PnCe6JwBQne65XnRUAKA6k3GKyd4APcNknJ5vnNgSN7zHum8eTWu9WjIZffN8TIDoTWzPmFAR6xCPH99SEf9//FtrEs6WzESL0JO46T8mFMXvD5f7d+/3rXAs3duel7k1wWUTkxf+9Je/fvzpXGJ7th7rlp48st8yicdrLXstu323xOPGJJN43Vw+TmzfOJ62ySjZ9GzjTLLP+1qsRya9+6ZnUk729Rj7rLU8BhBHRc8EAKrTM8dEzwQAqtMz54nuCQBUp3uuFx0VAKjOZJxisjdiH73R+0xHJo+cndZ6tWQy+ub50PNtKY8kOxmnd9LIrexNdFjhWOrZN9cTReL/xkSpo/u3Z6JIeNV+yyT7usq+jp6R2F6tdbolk5Hnk5iQdC+xbvF74piMxwnbRL6eSUx7E8/eMwOIY6JnAgDV6ZljomcCANXpmfNE9wQAqtM914uOCgBUZzJOMdkbsY/e6H22z7746uManZ/MN2W01qklk5E3z1/q/YaQI8muS3xjyhmJbdR6/EuzH0uxzUYls/0uvWq/ZdLzujprElFP4tiIySut9bklk5Hnk1cdq9ffSsT3DCCOiZ4JAFSnZ46JngkAVKdnzhPdEwCoTvdcLzoqAFCdyTjFZG/EnmUyzrO+0SSeX2ZbtNapJZNZJuO84kb67OSDs/bv3qSOsMKxFI81Ipntd+lV+y2TntdVrPcrJqNdJr4RprUu92Qy+nzy7PQek++NAcQx0TMBgOr0zDHRMwGA6vTMeaJ7AgDV6Z7rRUcFAKozGaeY7I3YR2/0fobsOmfzm99/mX7c63W5JZPRN89f+vQXf/i41PmJyQ6t33nLGd+ykr1xf/Zj6RmTRb78+pvdbwXKbr9Lr9hvmfS+rmKi2Csm5MTviNdZax32ZFJ5Ms72uuI2A4hjomcCANXpmWOiZwIA1emZ80T3BACq0z3Xi44KAFRnMk4x2RuxZ5qME+Lm7DNyefN/ZltcrsM9mcw0GSfERIGzJyXE42W/FefSn/7y14+PcCwffvnH5uO2zH4snTlZJLZrPObe+l0+lx7P3m+ZHHldxaSnR9f9XuKxj7wONpmMPp+c9Tq6jok4OQYQx0TPBACq0zPHRM8EAKrTM+eJ7gkAVKd7rhcdFQCozmScYrI3Ys82GSdk172V+HaQ65vLM493+fP3ZDLbZJwQkxJivc7IozfRPzI5Ip5H6zFvmflYCjGR49HJIrFO2+Ptrd/lz/Z65n7L5JFzVUwGOnNCWjzWI9tyk8kM55Mzvh1pS7yuPvnwefP38GMGEMdEzwQAqtMzx0TPBACq0zPnie4JAFSne64XHRUAqM5knGIyky9mvik6Jin0TB6J5xLfANN6rNgW8d9vJW40by3XsndT+r312BPP+d56Rj774qvmsllx4308Rm9iveK5906GuSW20d5zvcyj23XGY+lS7/aIxKSo6/0Rr+dbk07i3x99vT9rvz3zdXUpHuORSUWxbM+3M+1Z6XwSx1qsb8/+v0xsuzP24XtjAHFM9EwAoDo9c0z0TACgOj1znuieAEB1uud60VEBgOpMxiksbsqOSRiXWj83o7gBPG5+j5vGY0LFdiN9/N/43/HtDz3P53IbxHZp/UxGrNflY4XWzx11/diPrOstMTEjtl9sx5aY7BHb/hm/exOPHesQv6v1+3v37z2zHkuXtu1xax1jm2QmNMTjPGP9Ns/ab89+XW3i97SO/y2X/xY/Ez8by7Qe6wyrnU9ifeM4jMk523baJulsx+q27eLnnrntqjOAOCZ6JgBQnZ45JnomAFCdnjlPdE8AoDrdc73oqABAdSbjAABMxADimOiZAEB1euaY6JkAQHV65jzRPQGA6nTP9aKjAgDVmYwDADARA4hjomcCANXpmWOiZwIA1emZ80T3BACq0z3Xi44KAFRnMg4AwEQMII6JngkAVKdnjomeCQBUp2fOE90TAKhO91wvOioAUJ3JOAAAEzGAOCZ6JgBQnZ45JnomAFCdnjlPdE8AoDrdc73oqABAdSbjAABMxADimOiZAEB1euaY6JkAQHV65jzRPQGA6nTP9aKjAgDVmYwDADARA4hjomcCANXpmWOiZwIA1emZ80T3BACq0z3Xi44KAFRnMg4AwEQMII6JngkAVKdnjomeCQBUp2fOE90TAKhO91wvOioAUJ3JOAAAEzGAOCZ6JgBQnZ45JnomAFCdnjlPdE8AoDrdc73oqABAdSbjAABMxADimOiZAEB1euaY6JkAQHV65jzRPQGA6nTP9aKjAgDVmYwDADARA4hjomcCANXpmWOiZwIA1emZ80T3BACq0z3Xi44KAFRnMg4AwEQMII6JngkAVKdnjomeCQBUp2fOE90TAKhO91wvOioAUJ3JOAAAEzGAOCZ6JgBQnZ45JnomAFCdnjlPdE8AoDrdc73oqABAdSbjAABMxADimOiZAEB1euaY6JkAQHV65jzRPQGA6nTP9aKjAgDVmYwDADARA4hjomcCANXpmWOiZwIA1emZ80T3BACq0z3Xi44KAFRnMg4AwEQMII6JngkAVKdnjomeCQBUp2fOE90TAKhO91wvOioAUJ3JOAAAEzGAOCZ6JgBQnZ45JnomAFCdnjlPdE8AoDrdc73oqABAdSbjAABMxADimOiZAEB1euaY6JkAQHV65jzRPQGA6nTP9aKjAgDVmYwDADARA4hjomcCANXpmWOiZwIA1emZ80T3BACq0z3Xi44KAFRnMg4AwEQMII6JngkAVKdnjomeCQBUp2fOE90TAKhO91wvOioAUJ3JOAAAEzGAOCZ6JgBQnZ45JnomAFCdnjlPdE8AoDrdc73oqABAdSbjAABMxADimOiZAEB1euaY6JkAQHV65jzRPQGA6nTP9aKjAgDVmYwDADARA4hjomcCANXpmWOiZwIA1emZ80T3BACq0z3Xi44KAFRnMg4AwEQMII6JngkAVKdnjomeCQBUp2fOE90TAKhO91wvOioAUJ3JOAAAEzGAOCZ6JgBQnZ45JnomAFCdnjlPdE8AoDrdc73oqABAdSbjAABMxADimOiZAEB1euaY6JkAQHV65jzRPQGA6nTP9aKjAgDVmYwDADARA4hjomcCANXpmWOiZwIA1emZ80T3BACq0z3Xi44KAFRnMg4AwEQMII6JngkAVKdnjomeCQBUp2fOE90TAKhO91wvOioAUJ3JOAAAEzGAOCZ6JgBQnZ45JnomAFCdnjlPdE8AoDrdc73oqABAdSbjAABMxADimOiZAEB1euaY6JkAQHV65jzRPQGA6nTP9aKjAgDVmYwDADARA4hjomcCANXpmWOiZwIA1emZ80T3BACq0z3Xi44KAFRnMg4AwEQMII6JngkAVKdnjomeCQBUp2fOE90TAKhO91wvOioAUJ3JOAAAEzGAOCZ6JgBQnZ45JnomAFCdnjlPdE8AoDrdc73oqABAdSbjAABMxADimOiZAEB1euaY6JkAQHV65jzRPQGA6nTP9aKjAgDVmYwDADARA4hjomcCANXpmWOiZwIA1emZ80T3BACq0z3Xi44KAFRnMg4AwEQMII6JngkAVKdnjomeCQBUp2fOE90TAKhO91wvOioAUJ3JOAAAEzGAOCZ6JgBQnZ45JnomAFCdnjlPdE8AoDrdc73oqABAdSbjAABMxADimOiZAEB1euaY6JkAQHV65jzRPQGA6nTP9aKjAgDVmYwDADARA4hjomcCANXpmWOiZwIA1emZ80T3BACq0z3Xi44KAFRnMg4AwEQMII6JngkAVKdnjomeCQBUp2fOE90TAKhO91wvOioAUJ3JOAAAEzGAOCZ6JgBQnZ45JnomAFCdnjlPdE8AoDrdc73oqABAdSbjAABMxADimOiZAEB1euaY6JkAQHV65jzRPQGA6nTP9aKjAgDVmYwDADARA4hjomcCANXpmWOiZwIA1emZ80T3BACq0z3Xi44KAFRnMg4AwEQMII6JngkAVKdnjomeCQBUp2fOE90TAKhO91wvOioAUJ3JOAAAEzGAOCZ6JgBQnZ45JnomAFCdnjlPdE8AoDrdc73oqABAdSbjAABMxADimOiZAEB1euaY6JkAQHV65jzRPQGA6nTP9aKjAgDVmYwDADARA4hjomcCANXpmWOiZwIA1emZ80T3BACq0z3Xi44KAFRnMg4AwEQMII6JngkAVKdnjomeCQBUp2fOE90TAKhO91wvOioAUJ3JOAAAEzGAOCZ6JgBQnZ45JnomAFCdnjlPdE8AoDrdc73oqABAdSbjAABMxADimOiZAEB1euaY6JkAQHV65jzRPQGA6nTP9aKjAgDVmYwDADARA4hjomcCANXpmWOiZwIA1emZ80T3BACq0z3Xi44KAFRnMg4AwEQMII6JngkAVKdnjomeCQBUp2fOE90TAKhO91wvOioAUJ3JOAAAEzGAOCZ6JgBQnZ45JnomAFCdnjlPdE8AoDrdc73oqABAdSbjAABMxADimOiZAEB1euaY6JkAQHV65jzRPQGA6nTP9aKjAgDVmYwDADARA4hjomcCANXpmWOiZwIA1emZ80T3BACq0z3Xi44KAFRnMg4AwEQMII6JngkAVKdnjomeCQBUp2fOE90TAKhO91wvOioAUJ3JOAAAEzGAOCZ6JgBQnZ45JnomAFCdnjlPdE8AoDrdc73oqABAdSbjAABMxADimOiZAEB1euaY6JkAQHV65jzRPQGA6nTP9aKjAgDVmYwDADARA4hjomcCANXpmWOiZwIA1emZ80T3BACq0z3Xi44KAFRnMg4AwEQMII6JngkAVKdnjomeCQBUp2fOE90TAKhO91wvOioAUJ3JOAAAEzGAOCZ6JgBQnZ45JnomAFCdnjlPdE8AoDrdc73oqABAdSbjAABMxADimOiZAEB1euaY6JkAQHV65jzRPQGA6nTP9aKjAgDVmYwDADARA4hjomcCANXpmWOiZwIA1emZ80T3BACq0z3Xi44KAFRnMg4AwEQMII6JngkAVKdnjomeCQBUp2fOE90TAKhO91wvOioAUJ3JOAAAEzGAOCZ6JgBQnZ45JnomAFCdnjlPdE8AoDrdc73oqABAdSbjAABMxADimOiZAEB1euaY6JkAQHV65jzRPQGA6nTP9aKjAgDVmYwDADARA4hjomcCANXpmWOiZwIA1emZ80T3BACq0z3Xi44KAFRnMg4AwEQMII6JngkAVKdnjomeCQBUp2fOE90TAKhO91wvOioAUJ3JOAAAEzGAOCZ6JgBQnZ45JnomAFCdnjlPdE8AoDrdc73oqABAdSbjAABMxADimOiZAEB1euaY6JkAQHV65jzRPQGA6nTP9aKjAgDVmYwDADARA4hjomcCANXpmWOiZwIA1emZ80T3BACq0z3Xi44KAFRnMg4AwEQMII6JngkAVKdnjomeCQBUp2fOE90TAKhO91wvOioAUJ3JOAAAEzGAOCZ6JgBQnZ45JnomAFCdnjlPdE8AoDrdc73oqABAdSbjAABMxADimOiZAEB1euaY6JkAQHV65jzRPQGA6nTP9aKjAgDVmYwDADARA4hjomcCANXpmWOiZwIA1emZ80T3BACq0z3Xi44KAFRnMg4AwEQMII6JngkAVKdnjomeCQBUp2fOE90TAKhO91wvOioAUJ3JOAAAEzGAOCZ6JgBQnZ45JnomAFCdnjlPdE8AoDrdc73oqABAdSbjAABMxADimOiZAEB1euaY6JkAQHV65jzRPQGA6nTP9aKjAgDVmYwDADARA4hjomcCANXpmWOiZwIA1emZ80T3BACq0z3Xi44KAFRnMg4AwEQMII6JngkAVKdnjomeCQBUp2fOE90TAKhO91wvOioAUJ3JOAAAEzGAOCZ6JgBQnZ45JnomAFCdnjlPdE8AoDrdc73oqABAdSbjAABMxADimOiZAEB1euaY6JkAQHV65jzRPQGA6nTP9aKjAgDVmYwDADARA4hjomcCANXpmWOiZwIA1emZ80T3BACq0z3Xi44KAFRnMg4AwEQMII6JngkAVKdnjomeCQBUp2fOE90TAKhO91wvOioAUJ3JOAAAEzGAOCZ6JgBQnZ45JnomAFCdnjlPdE8AoDrdc73oqABAdSbjAABMxADimOiZAEB1euaY6JkAQHV65jzRPQGA6nTP9aKjAgDVmYwDADARA4hjomcCANXpmWOiZwIA1emZ80T3BACq0z3Xi44KAFRnMg4AwEQMII6JngkAVKdnjomeCQBUp2fOE90TAKhO91wvOioAUJ3JOAAAEzGAOCZ6JgBQnZ45JnomAFCdnjlPdE8AoDrdc73oqABAdSbjAABMxADimOiZAEB1euaY6JkAQHV65jzRPQGA6nTP9aKjAgDVmYwDADARA4hjomcCANXpmWOiZwIA1emZ80T3BACq0z3Xi44KAFRnMg4AwEQMII6JngkAVKdnjomeCQBUp2fOE90TAKhO91wvOioAUJ3JOAAAEzGAOCZ6JgBQnZ45JnomAFCdnjlPdE8AoDrdc73oqABAdSbjAABMxADimOiZAEB1euaY6JkAQHV65jzRPQGA6nTP9aKjAgDVmYwDADARA4hjomcCANXpmWOiZwIA1emZ80T3BACq0z3Xi44KAFRnMg4AwEQMII6JngkAVKdnjomeCQBUp2fOE90TAKhO91wvOioAUJ3JOAAAEzGAOCZ6JgBQnZ45JnomAFCdnjlPdE8AoDrdc73oqABAdSbjAABMxADimOiZAEB1euaY6JkAQHV65jzRPQGA6nTP9aKjAgDVLTcZ51/7d//m2//9vw0AUNO/948/GEAcED0TAKhOzxyT6Jn/yr/1N9994AwAUNG/84/cEDlLjHECANUZ41wvxkcBgOqeNT76lMk4/81/+999+5/+F/8VAEBpX3zxxcf2I6+KngkAvAd65uvzT//L//q7D5wBACr7u7/7u4/tR0bGGCcA8B4Y41wrxkcBgPfgGeOjT5mMIyIiIiIiIiIiIiIiIiIiIiIiIiIiIiIiIlIxJuOIiIiIiIiIiIiIiIiIiIiIiIiIiIiIiIiIJGMyjoiIiIiIiIiIiIiIiIiIiIiIiIiIiIiIiEgyJuOIiIiIiIiIiIiIiIiIiIiIiIiIiIiIiIiIJGMyjoiIiIiIiIiIiIiIiIiIiIiIiIiIiIiIiEgyJuOIiIiIiIiIiIiIiIiIiIiIiIiIiIiIiIiIJGMyjoiIiIiIiIiIiIiIiIiIiIiIiIiIiIiIiEgyJuOIiIiIiIiIiIiIiIiIiIiIiIiIiIiIiIiIJGMyjoiIiIiIiIiIiIiIiIiIiIiIiIiIiIiIiEgyJuOIiIiIiIiIiIiIiIiIiIiIiIiIiIiIiIiIJGMyjoiIiIiIiIiIiIiIiIiIiIiIiIiIiIiIiEgyJuOIiIiIiIiIiIiIiIiIiIiIiIiIiIiIiIiIJGMyjoiIiIiIiIiIiIiIiIiIiIiIiIiIiIiIiEgyJuOIiIiIiIiIiIiIiIiIiIiIiIiIiIiIiIiIJGMyjoiIiIiIiIiIiIiIiIiIiIiIiIiIiIiIiEgyJuOIiIiIiIiIiIiIiIiIiIiIiIiIiIiIiIiIJGMyjoiIiIiIiIiIiIiIiIiIiIiIiIiIiIiIiEgyJuOIiIiIiIiIiIiIiIiIiIiIiIiIiIiIiIiIJGMyjoiIiIiIiIiIiIiIiIiIiIiIiIiIiIiIiEgyJuOIiIiIiIiIiIiIiIiIiIiIiIiIiIiIiIiIJGMyjoiIiIiIiIiIiIiIiIiIiIiIiIiIiIiIiEgq3377vwDyY8tRfYEj/gAAAABJRU5ErkJggg==)\n",
        "\n",
        "1.   Remove Punctuations (Menghapus Punktuasi)\n",
        "2.   Lematization (Lematisasi)\n",
        "3.   Tokenization (Tokenisasi)\n",
        "4.   Apply Padding (Padding)\n",
        "5.   Encoding the Outputs (Konversi Keluaran Enkoding)\n",
        "\n",
        "Kelima tahapan pemrosesan teks ini dijelaskan pada bagian langkah selanjutnya."
      ]
    },
    {
      "cell_type": "markdown",
      "id": "u_04NeXTIImg",
      "metadata": {
        "id": "u_04NeXTIImg"
      },
      "source": [
        "## **Remove Punctuations**\n",
        "\n",
        "Tahapan praproses pada data teks yang pertama adalah menghapus punktuasi atau tanda baca seperti *special character* yaitu **'!'** (**tanda seru**) **','** (**tanda koma**) **'.'** (**tanda titik sebagai berhenti**) '**?**' (**tanda tanya**) dan tanda baca yang lain. Tahapan ini gunanya untuk mempermudah pemrosesan data teks yang akan kita olah."
      ]
    },
    {
      "cell_type": "code",
      "execution_count": 9,
      "id": "Gh-7EtrfhQgY",
      "metadata": {
        "id": "Gh-7EtrfhQgY"
      },
      "outputs": [],
      "source": [
        "# Removing Punctuations (Menghilangkan Punktuasi)\n",
        "data['patterns'] = data['patterns'].apply(lambda wrd:[ltrs.lower() for ltrs in wrd if ltrs not in string.punctuation])\n",
        "data['patterns'] = data['patterns'].apply(lambda wrd: ''.join(wrd))"
      ]
    },
    {
      "cell_type": "markdown",
      "id": "5brR-qBLJDa_",
      "metadata": {
        "id": "5brR-qBLJDa_"
      },
      "source": [
        "## **Lemmatization (Lematisasi)**\n",
        "\n",
        "Setelah menghapus punktuasi atau tanda baca, tahapan selanjutnya yaitu Lematisasi atau Lemmatization.\n",
        "\n",
        "**Apa itu Lematisasi?**\n",
        "\n",
        "Lematisasi atau *Lemmatization* adalah proses dimana merujuk pada melakukan sesuatu menggunakan vocabulary atau kosakata dan analisis morfologi kata-kata untuk menghilangkan *inflectional endings only* dan untuk mengembalikan bentuk *dictionary* (kata dalam kamus) dari sebuah kata yang dikenal sebagai ***lemma***.\n",
        "\n",
        "Contoh Lematisasi : **Menggunakan** (Kata Imbuhan) -> **Guna** (Kata Dasar)\n",
        "\n",
        "Dalam contoh berikut proses lematisasi awalnya data teks menggunakan kata imbuhan yaitu **Menggunakan** dimana **meng-** + **guna** (kata dasar yang berawalan vokal g) + **kan** (sebagai akhiran) diubah menjadi kata dasar yaitu '**Guna**'.\n",
        "\n",
        "Proses ini dimana menghilangkan Prefiks pada imbuhan (**Meng-**) dan Suffiks pada (**-kan**)."
      ]
    },
    {
      "cell_type": "code",
      "execution_count": 10,
      "id": "22MVRGBsO9gX",
      "metadata": {
        "colab": {
          "base_uri": "https://localhost:8080/"
        },
        "id": "22MVRGBsO9gX",
        "outputId": "349af2ad-ebd5-4b2c-eee8-ea2d62ed1a4a"
      },
      "outputs": [
        {
          "name": "stdout",
          "output_type": "stream",
          "text": [
            "78 unique lemmatized words [',', 'afternoon', 'apa', 'apabila', 'bagaimana', 'bai', 'banyak', 'bersertifikat', 'bro', 'buat', 'bumn', 'bye', 'byee', 'cara', 'dadah', 'dah', 'dalam', 'dan', 'good', 'hai', 'hallo', 'halo', 'hei', 'hi', 'hy', 'iisma', 'independen', 'itu', 'jumpa', 'kadek', 'kadekbot', 'kampus', 'kamu', 'kasih', 'kawan', 'kemendikbud', 'kemensos', 'magang', 'mahasiswa', 'makasih', 'malam', 'manfaat', 'mendaftar', 'mengajar', 'mengikuti', 'merdeka', 'mitra', 'morning', 'muda', 'pagi', 'pejuang', 'pelaksanaan', 'pembuatmu', 'penciptamu', 'periode', 'persyaratan', 'pertukaran', 'pmmb', 'program', 'saja', 'sampai', 'see', 'selamat', 'si', 'siang', 'siapa', 'sih', 'sore', 'studi', 'tergabung', 'terima', 'thank', 'thanks', 'tinggal', 'tujuan', 'universitas', 'yang', 'you']\n"
          ]
        }
      ],
      "source": [
        "lemmatizer = WordNetLemmatizer()\n",
        "words = [lemmatizer.lemmatize(w.lower()) for w in words if w not in ignore_words]\n",
        "words = sorted(list(set(words)))\n",
        "\n",
        "print (len(words), \"unique lemmatized words\", words)"
      ]
    },
    {
      "cell_type": "markdown",
      "id": "zmZpqovQE1Zb",
      "metadata": {
        "id": "zmZpqovQE1Zb"
      },
      "source": [
        "### **Menyortir Data Kelas Tags**"
      ]
    },
    {
      "cell_type": "code",
      "execution_count": 11,
      "id": "TK_v4Zw5P8rn",
      "metadata": {
        "colab": {
          "base_uri": "https://localhost:8080/"
        },
        "id": "TK_v4Zw5P8rn",
        "outputId": "60fa1e29-892d-46a8-f3dc-881f3743b287"
      },
      "outputs": [
        {
          "name": "stdout",
          "output_type": "stream",
          "text": [
            "40 classes ['goodbye', 'greeting', 'kadekbot', 'manfaat_IISMA', 'manfaat_PMMB', 'manfaat_kampus_mengajar', 'manfaat_magang', 'manfaat_pejuang_muda', 'manfaat_pertukaran_mahasiswa', 'manfaat_studi_independen', 'mitra_IISMA', 'mitra_PMMB', 'mitra_magang', 'mitra_studi_independen', 'pencipta_kadekbot', 'penjelasan_IISMA', 'penjelasan_PMMB', 'penjelasan_kampus_mengajar', 'penjelasan_kampus_merdeka', 'penjelasan_magang', 'penjelasan_pejuang_muda', 'penjelasan_pertukaran_mahasiswa', 'penjelasan_studi_independen', 'periode_dan_pendaftaran_IISMA', 'periode_dan_pendaftaran_PMMB', 'periode_dan_pendaftaran_kampus_mengajar', 'periode_dan_pendaftaran_magang', 'periode_dan_pendaftaran_pejuang_muda', 'periode_dan_pendaftaran_pertukaran_mahasiswa', 'periode_dan_pendaftaran_studi_independen', 'persyaratan_IISMA', 'persyaratan_kampus_mengajar', 'persyaratan_kampus_merdeka', 'persyaratan_magang', 'persyaratan_pejuang_muda', 'persyaratan_pertukaran_mahasiswa', 'persyaratan_studi_independen', 'program_kampus_merdeka', 'terimakasih', 'tujuan_kampus_merdeka']\n"
          ]
        }
      ],
      "source": [
        "# sorting pada data class\n",
        "classes = sorted(list(set(classes)))\n",
        "print (len(classes), \"classes\", classes)"
      ]
    },
    {
      "cell_type": "markdown",
      "id": "u8s3ZKI9FCwo",
      "metadata": {
        "id": "u8s3ZKI9FCwo"
      },
      "source": [
        "### **Mencari Jumlah Keseluruhan Data Teks**"
      ]
    },
    {
      "cell_type": "code",
      "execution_count": 12,
      "id": "Tv5lLFn1QCDP",
      "metadata": {
        "colab": {
          "base_uri": "https://localhost:8080/"
        },
        "id": "Tv5lLFn1QCDP",
        "outputId": "ce6fce3b-3ce3-4cd1-ba24-80ddff419e46"
      },
      "outputs": [
        {
          "name": "stdout",
          "output_type": "stream",
          "text": [
            "438 documents\n"
          ]
        }
      ],
      "source": [
        "# documents = kombinasi antara data pattern dengan data tag dalam intents json\n",
        "print (len(documents), \"documents\")"
      ]
    },
    {
      "cell_type": "markdown",
      "id": "sVdv1gW5N7a6",
      "metadata": {
        "id": "sVdv1gW5N7a6"
      },
      "source": [
        "## **Tokenization (Tokenisasi)**\n",
        "\n",
        "Setelah proses lematisasi dan mencari tahu data classes dan jumlah keseluruhan data patterns dengan intents-nya. Maka, tahapan selanjutnya proses tokenisasi. **Apa itu Tokenisasi?**\n",
        "\n",
        "Tokenisasi adalah suatu proses memberikan urutan karakter dan sebuah unit dokumen terdefinisi. Tokenisasi juga merupakan tugas untuk memecah kalimat menjadi bagian-bagian yang disebut dengan '**Token**' dan menghilangkan bagian tertentu seperti tanda baca.\n",
        "\n",
        "Contohnya: **Aku Pergi Ke Makassar** -> '**Aku**' '**Pergi**' '**Ke**' '**Makassar**'"
      ]
    },
    {
      "cell_type": "code",
      "execution_count": 13,
      "id": "Xr5aehymeQdi",
      "metadata": {
        "colab": {
          "base_uri": "https://localhost:8080/"
        },
        "id": "Xr5aehymeQdi",
        "outputId": "c997002a-ff55-4ba2-abe1-aeee26891dc7"
      },
      "outputs": [
        {
          "data": {
            "text/plain": [
              "[[40],\n",
              " [41],\n",
              " [42],\n",
              " [43],\n",
              " [44],\n",
              " [45],\n",
              " [46],\n",
              " [47],\n",
              " [48],\n",
              " [49],\n",
              " [50],\n",
              " [51],\n",
              " [52],\n",
              " [53],\n",
              " [54],\n",
              " [1, 6, 32],\n",
              " [29, 32],\n",
              " [29, 55],\n",
              " [33, 21, 56, 57, 29, 58],\n",
              " [29, 59, 33],\n",
              " [60],\n",
              " [61],\n",
              " [34],\n",
              " [62],\n",
              " [63, 34],\n",
              " [64, 65],\n",
              " [66, 67],\n",
              " [68],\n",
              " [69, 35],\n",
              " [70],\n",
              " [71, 35],\n",
              " [36, 37],\n",
              " [72],\n",
              " [36, 37, 73],\n",
              " [1, 6, 4, 5],\n",
              " [1, 74, 4, 5],\n",
              " [1, 7, 8, 4, 5],\n",
              " [1, 2, 3, 4, 5],\n",
              " [3, 4, 5, 75],\n",
              " [3, 4, 5, 76],\n",
              " [3, 4, 5, 77],\n",
              " [18, 19],\n",
              " [20],\n",
              " [4, 22],\n",
              " [9],\n",
              " [23, 24, 5],\n",
              " [25, 26],\n",
              " [27],\n",
              " [1, 6, 18, 19],\n",
              " [1, 2, 7, 18, 19],\n",
              " [10, 11, 12, 13, 14, 15, 3, 18, 19],\n",
              " [1, 2, 16, 17, 8, 18, 19],\n",
              " [1, 2, 38, 21, 30, 31, 18, 19],\n",
              " [1, 6, 20, 28],\n",
              " [1, 2, 7, 20, 28],\n",
              " [10, 11, 12, 13, 14, 15, 3, 20, 28],\n",
              " [1, 2, 16, 17, 8, 20, 28],\n",
              " [1, 2, 38, 21, 30, 31, 20, 28],\n",
              " [1, 6, 4, 22],\n",
              " [1, 2, 7, 4, 22],\n",
              " [10, 11, 12, 13, 14, 15, 3, 4, 22],\n",
              " [1, 2, 16, 17, 8, 4, 22],\n",
              " [1, 6, 9],\n",
              " [1, 2, 7, 9],\n",
              " [10, 11, 12, 13, 14, 15, 3, 9],\n",
              " [1, 2, 16, 17, 8, 9],\n",
              " [1, 2, 39, 21, 30, 31, 3, 9],\n",
              " [1, 6, 23, 24, 5],\n",
              " [1, 2, 7, 23, 24, 5],\n",
              " [10, 11, 12, 13, 14, 15, 3, 23, 24, 5],\n",
              " [1, 2, 16, 17, 8, 23, 24, 5],\n",
              " [1, 6, 25, 26],\n",
              " [1, 2, 7, 25, 26],\n",
              " [10, 11, 12, 13, 14, 15, 3, 25, 26],\n",
              " [1, 2, 16, 17, 8, 25, 26],\n",
              " [1, 6, 27],\n",
              " [1, 2, 7, 9],\n",
              " [10, 11, 12, 13, 14, 15, 3, 27],\n",
              " [1, 2, 16, 17, 8, 27],\n",
              " [1, 2, 39, 21, 30, 31, 3, 27]]"
            ]
          },
          "execution_count": 13,
          "metadata": {},
          "output_type": "execute_result"
        }
      ],
      "source": [
        "# Tokenize the data (Tokenisasi Data)\n",
        "tokenizer = Tokenizer(num_words=2000)\n",
        "tokenizer.fit_on_texts(data['patterns'])\n",
        "train = tokenizer.texts_to_sequences(data['patterns'])\n",
        "train"
      ]
    },
    {
      "cell_type": "markdown",
      "id": "LfEpFf0hPOUZ",
      "metadata": {
        "id": "LfEpFf0hPOUZ"
      },
      "source": [
        "## **Padding**\n",
        "\n",
        "Setelah memproses tokenisasi yang dimana memecah kalimat menajdi bagian-bagian yang disebut token yang digunakan untuk mengolah data teks pada AI Chatbot maka tahapan selanjutnya adalah Padding.\n",
        "\n",
        "**Apa itu Padding?**\n",
        "\n",
        "**Padding** adalah Suatu proses untuk mengubah setiap sequence agar memiliki panjang yang sama. Pada padding, setiap sequence dibuat sama panjang dengan menambahkan nilai 0 secara suffiks atau prefiks hingga mencapai panjang maksimum sequence. Selain itu padding juga dapat memotong sequence hingga panjangnya sesuai dengan panjang maksimum sequence.\n",
        "\n",
        "Padding juga adalah proses untuk membuat setiap kalimat pada teks memiliki panjang yang seragam. Sama seperti melakukan resize gambar, agar resolusi setiap gambar sama besar. Untuk menggunakan padding bisa impor library **pad_sequence**. Kemudian buat panggil fungsi pad_sequence() dan masukkan sequence hasil tokenisasi sebagai parameternya.\n",
        "\n",
        "Contohnya: `sequences_samapanjang = pad_sequences(sequences)`\n",
        "\n",
        "Yang nantinya akan dikeluarkan menjadi angka dengan awalan 0 seperti gambar dibawah ini.\n",
        "\n",
        "![Padding.jpeg](data:image/jpeg;base64,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)"
      ]
    },
    {
      "cell_type": "code",
      "execution_count": 14,
      "id": "5BQdPUTNvS1t",
      "metadata": {
        "colab": {
          "base_uri": "https://localhost:8080/"
        },
        "id": "5BQdPUTNvS1t",
        "outputId": "36db6838-4dae-4557-eaf8-207c9b8ac139"
      },
      "outputs": [
        {
          "name": "stdout",
          "output_type": "stream",
          "text": [
            "[[ 0  0  0  0  0  0  0  0  0 40]\n",
            " [ 0  0  0  0  0  0  0  0  0 41]\n",
            " [ 0  0  0  0  0  0  0  0  0 42]\n",
            " [ 0  0  0  0  0  0  0  0  0 43]\n",
            " [ 0  0  0  0  0  0  0  0  0 44]\n",
            " [ 0  0  0  0  0  0  0  0  0 45]\n",
            " [ 0  0  0  0  0  0  0  0  0 46]\n",
            " [ 0  0  0  0  0  0  0  0  0 47]\n",
            " [ 0  0  0  0  0  0  0  0  0 48]\n",
            " [ 0  0  0  0  0  0  0  0  0 49]\n",
            " [ 0  0  0  0  0  0  0  0  0 50]\n",
            " [ 0  0  0  0  0  0  0  0  0 51]\n",
            " [ 0  0  0  0  0  0  0  0  0 52]\n",
            " [ 0  0  0  0  0  0  0  0  0 53]\n",
            " [ 0  0  0  0  0  0  0  0  0 54]\n",
            " [ 0  0  0  0  0  0  0  1  6 32]\n",
            " [ 0  0  0  0  0  0  0  0 29 32]\n",
            " [ 0  0  0  0  0  0  0  0 29 55]\n",
            " [ 0  0  0  0 33 21 56 57 29 58]\n",
            " [ 0  0  0  0  0  0  0 29 59 33]\n",
            " [ 0  0  0  0  0  0  0  0  0 60]\n",
            " [ 0  0  0  0  0  0  0  0  0 61]\n",
            " [ 0  0  0  0  0  0  0  0  0 34]\n",
            " [ 0  0  0  0  0  0  0  0  0 62]\n",
            " [ 0  0  0  0  0  0  0  0 63 34]\n",
            " [ 0  0  0  0  0  0  0  0 64 65]\n",
            " [ 0  0  0  0  0  0  0  0 66 67]\n",
            " [ 0  0  0  0  0  0  0  0  0 68]\n",
            " [ 0  0  0  0  0  0  0  0 69 35]\n",
            " [ 0  0  0  0  0  0  0  0  0 70]\n",
            " [ 0  0  0  0  0  0  0  0 71 35]\n",
            " [ 0  0  0  0  0  0  0  0 36 37]\n",
            " [ 0  0  0  0  0  0  0  0  0 72]\n",
            " [ 0  0  0  0  0  0  0 36 37 73]\n",
            " [ 0  0  0  0  0  0  1  6  4  5]\n",
            " [ 0  0  0  0  0  0  1 74  4  5]\n",
            " [ 0  0  0  0  0  1  7  8  4  5]\n",
            " [ 0  0  0  0  0  1  2  3  4  5]\n",
            " [ 0  0  0  0  0  0  3  4  5 75]\n",
            " [ 0  0  0  0  0  0  3  4  5 76]\n",
            " [ 0  0  0  0  0  0  3  4  5 77]\n",
            " [ 0  0  0  0  0  0  0  0 18 19]\n",
            " [ 0  0  0  0  0  0  0  0  0 20]\n",
            " [ 0  0  0  0  0  0  0  0  4 22]\n",
            " [ 0  0  0  0  0  0  0  0  0  9]\n",
            " [ 0  0  0  0  0  0  0 23 24  5]\n",
            " [ 0  0  0  0  0  0  0  0 25 26]\n",
            " [ 0  0  0  0  0  0  0  0  0 27]\n",
            " [ 0  0  0  0  0  0  1  6 18 19]\n",
            " [ 0  0  0  0  0  1  2  7 18 19]\n",
            " [ 0 10 11 12 13 14 15  3 18 19]\n",
            " [ 0  0  0  1  2 16 17  8 18 19]\n",
            " [ 0  0  1  2 38 21 30 31 18 19]\n",
            " [ 0  0  0  0  0  0  1  6 20 28]\n",
            " [ 0  0  0  0  0  1  2  7 20 28]\n",
            " [ 0 10 11 12 13 14 15  3 20 28]\n",
            " [ 0  0  0  1  2 16 17  8 20 28]\n",
            " [ 0  0  1  2 38 21 30 31 20 28]\n",
            " [ 0  0  0  0  0  0  1  6  4 22]\n",
            " [ 0  0  0  0  0  1  2  7  4 22]\n",
            " [ 0 10 11 12 13 14 15  3  4 22]\n",
            " [ 0  0  0  1  2 16 17  8  4 22]\n",
            " [ 0  0  0  0  0  0  0  1  6  9]\n",
            " [ 0  0  0  0  0  0  1  2  7  9]\n",
            " [ 0  0 10 11 12 13 14 15  3  9]\n",
            " [ 0  0  0  0  1  2 16 17  8  9]\n",
            " [ 0  0  1  2 39 21 30 31  3  9]\n",
            " [ 0  0  0  0  0  1  6 23 24  5]\n",
            " [ 0  0  0  0  1  2  7 23 24  5]\n",
            " [10 11 12 13 14 15  3 23 24  5]\n",
            " [ 0  0  1  2 16 17  8 23 24  5]\n",
            " [ 0  0  0  0  0  0  1  6 25 26]\n",
            " [ 0  0  0  0  0  1  2  7 25 26]\n",
            " [ 0 10 11 12 13 14 15  3 25 26]\n",
            " [ 0  0  0  1  2 16 17  8 25 26]\n",
            " [ 0  0  0  0  0  0  0  1  6 27]\n",
            " [ 0  0  0  0  0  0  1  2  7  9]\n",
            " [ 0  0 10 11 12 13 14 15  3 27]\n",
            " [ 0  0  0  0  1  2 16 17  8 27]\n",
            " [ 0  0  1  2 39 21 30 31  3 27]]\n"
          ]
        }
      ],
      "source": [
        "# Melakukan proses padding pada data\n",
        "x_train = pad_sequences(train)\n",
        "# Menampilkan hasil padding\n",
        "print(x_train)"
      ]
    },
    {
      "cell_type": "markdown",
      "id": "1Khg-ygkb0nD",
      "metadata": {
        "id": "1Khg-ygkb0nD"
      },
      "source": [
        "Hasil setelah padding adalah setiap sequence memiliki panjang yang sama. Padding dapat melakukan ini dengan menambahkan 0 secara default pada awal sequence yang lebih pendek."
      ]
    },
    {
      "cell_type": "markdown",
      "id": "qY0vxxwBPeJC",
      "metadata": {
        "id": "qY0vxxwBPeJC"
      },
      "source": [
        "## **Encoding Text**\n",
        "\n",
        "Setelah tahapan proses Padding pada suatu teks maka proses terakhir dalam pemrosesan teks adalah tahapan Encoding.\n",
        "\n",
        "**Apa itu Encoding?**\n",
        "\n",
        "**Encoding** merupakan suatu konversi atau pengkodean yang dimana data kategorik seperti huruf atau data teks menjadi data numerik atau angka menyesuaikan dengan data label yang digunakan. Pada proses tahapan ini, encoding mengubah data teks pada kolom data tags menjadi data numerik dengan bahasa biner komputer yaitu 0 dan 1.\n",
        "\n",
        "Tujuan dari encoding ini adalah mempermudah saat proses komputasi data teks dan modelling."
      ]
    },
    {
      "cell_type": "code",
      "execution_count": 15,
      "id": "sczq--IpTYWa",
      "metadata": {
        "colab": {
          "base_uri": "https://localhost:8080/"
        },
        "id": "sczq--IpTYWa",
        "outputId": "7f8a3277-332a-4c0d-fc78-97be271d6889"
      },
      "outputs": [
        {
          "name": "stdout",
          "output_type": "stream",
          "text": [
            "[ 1  1  1  1  1  1  1  1  1  1  1  1  1  1  1  2  2 14 14 14  0  0  0  0\n",
            "  0  0  0  0  0 38 38 38 38 38 18 39 32 37 37 37 37 37 37 37 37 37 37 37\n",
            " 22 36 29  9 13 19 33 26  6 12 17 31 25  5 15 30 23  3 10 21 35 28  8 20\n",
            " 34 27  7 16 30 24  4 11]\n"
          ]
        }
      ],
      "source": [
        "# Melakukan konversi data label tags dengan encoding\n",
        "le = LabelEncoder()\n",
        "y_train = le.fit_transform(data['tags'])\n",
        "print(y_train)"
      ]
    },
    {
      "cell_type": "markdown",
      "id": "D9rKggGCgnjT",
      "metadata": {
        "id": "D9rKggGCgnjT"
      },
      "source": [
        "Tokenizer pada Tensorflow memberikan token unik untuk setiap kata yang berbeda. Dan juga padding dilakukan untuk mendapatkan semua data dengan panjang yang sama sehingga dapat mengirimkannya ke lapisan atau layer model LSTM. variabel target juga dikodekan menjadi nilai desimal."
      ]
    },
    {
      "cell_type": "markdown",
      "id": "_hE21zfRhiNS",
      "metadata": {
        "id": "_hE21zfRhiNS"
      },
      "source": [
        "# **Input Length, Output Length and Vocabulary**"
      ]
    },
    {
      "cell_type": "code",
      "execution_count": 16,
      "id": "dbtBZXFvgvCB",
      "metadata": {
        "colab": {
          "base_uri": "https://localhost:8080/"
        },
        "id": "dbtBZXFvgvCB",
        "outputId": "fc2aa3e3-1890-4d0d-8b76-4e657e680ad9"
      },
      "outputs": [
        {
          "name": "stdout",
          "output_type": "stream",
          "text": [
            "10\n"
          ]
        }
      ],
      "source": [
        "# Melihat hasil input pada data teks\n",
        "input_shape = x_train.shape[1]\n",
        "print(input_shape)"
      ]
    },
    {
      "cell_type": "code",
      "execution_count": 17,
      "id": "310y6oNLhuzv",
      "metadata": {
        "colab": {
          "base_uri": "https://localhost:8080/"
        },
        "id": "310y6oNLhuzv",
        "outputId": "185ca977-f65f-41b0-94c9-38f418e9fb69"
      },
      "outputs": [
        {
          "name": "stdout",
          "output_type": "stream",
          "text": [
            "number of unique words :  77\n",
            "output length:  40\n"
          ]
        }
      ],
      "source": [
        "# Melakukan definisi tiap kalimat dan kata pada data teks\n",
        "vocabulary = len(tokenizer.word_index)\n",
        "print(\"number of unique words : \", vocabulary)\n",
        "\n",
        "# Melakukan pemeriksaan pada data output label teks\n",
        "output_length = le.classes_.shape[0]\n",
        "print(\"output length: \", output_length)"
      ]
    },
    {
      "cell_type": "markdown",
      "id": "AInHhmVGict2",
      "metadata": {
        "id": "AInHhmVGict2"
      },
      "source": [
        "**Input length** dan **output length** terlihat sangat jelas hasilnya. Mereka adalah untuk bentuk input dan bentuk output dari data train atau latih yang akan diproses pada algoritma LSTM yang akan dilatih.\n",
        "\n",
        "**Vocabulary Size** adalah untuk lapisan penyematan untuk membuat representasi vektor unik untuk setiap kata."
      ]
    },
    {
      "cell_type": "markdown",
      "id": "1LxIElYjQbB7",
      "metadata": {
        "id": "1LxIElYjQbB7"
      },
      "source": [
        "## **Save Model Words & Classes**\n",
        "\n",
        "Setelah dilakukan pemrosesan teks yang dilakukan lima tahap maka kita bisa simpan model pemrosesan teks tersebut dengan menggunakan format pickle.\n",
        "\n",
        "Hal ini biasanya digunakan untuk membuat hubungan model yang telah dilatih dengan model pemrosesan teks."
      ]
    },
    {
      "cell_type": "code",
      "execution_count": 18,
      "id": "wYV77QFbQVLP",
      "metadata": {
        "id": "wYV77QFbQVLP"
      },
      "outputs": [],
      "source": [
        "# Simpan hasil pemrosesan teks dengan menggunakan pickle\n",
        "pickle.dump(words, open('words.pkl','wb'))\n",
        "pickle.dump(classes, open('classes.pkl','wb'))"
      ]
    },
    {
      "cell_type": "markdown",
      "id": "dY9COWCwexgZ",
      "metadata": {
        "id": "dY9COWCwexgZ"
      },
      "source": [
        "## **Save Label Encoder & Tokenizer**"
      ]
    },
    {
      "cell_type": "code",
      "execution_count": 19,
      "id": "saM3QTSjewR4",
      "metadata": {
        "id": "saM3QTSjewR4"
      },
      "outputs": [],
      "source": [
        "pickle.dump(le, open('le.pkl','wb'))\n",
        "pickle.dump(tokenizer, open('tokenizers.pkl','wb'))"
      ]
    },
    {
      "cell_type": "markdown",
      "id": "BI7OvNariInQ",
      "metadata": {
        "id": "BI7OvNariInQ"
      },
      "source": [
        "# **Long Short Term Memory (LSTM) Model**\n",
        "\n",
        "Setelah menyimpan model untuk hasil pemrosesan teks, tahapan selanjutnya adalah melakukan modelling atau pemodelan untuk Chatbot dengan menggunakan algoritma LSTM (Long Short Term Memory).\n",
        "\n",
        "**Apa itu Algoritma LSTM?**\n",
        "\n",
        "**LSTM (Long Short Term Memory)** merupakan algoritma Deep Learning yang populer dan cocok digunakan untuk membuat prediksi dan klasifikasi yang berhubungan dengan waktu dan data teks.\n",
        "\n",
        "Algoritma ini bisa dikatakan pengembangan atau salah satu jenis dari algoritma RNN (Recurrent Neural Network). Dalam algoritma RNN, output dari langkah terakhir diumpankan kembali sebagai input pada langkah yang sedang aktif. Namun, algoritma RNN memiliki kekurangan yaitu tidak dapat memprediksi kata yang disimpan dalam memori jangka panjang.\n",
        "\n",
        "Nah, algoritma LSTM dirancang untuk mengatasi kelemahan tersebut, namun tetap mempertahankan kelebihan yang ada pada algoritma RNN dimana RNN mampu memberikan prediksi yang lebih akurat dari informasi terbaru.\n",
        "\n",
        "Algoritma LSTM pertama kali dikembangkan oleh Hochreiter dan Schmidhuber.  Algoritma ini mampu menyimpan informasi untuk jangka waktu yang lama. Hal ini kemudian dapat digunakan untuk memproses, memprediksi, dan mengklasifikasikan informasi berdasarkan data deret waktu.\n",
        "\n",
        "Struktur algoritma LSTM terdiri atas neural network dan beberapa blok memori yang berbeda. Blok memori ini disebut sebagai cell.  State dari cell dan hidden state akan diteruskan ke cell berikutnya.\n",
        "\n",
        "Seperti yang ditunjukkan pada gambar di bawah, bangun berbentuk persegi panjang berwarna biru adalah **ilustrasi cell** pada LSTM.\n",
        "\n",
        "![LSTM_deep_learning_algorithms.webp](data:image/webp;base64,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)\n",
        "\n",
        "Informasi yang dikumpulkan oleh algoritma LSTM kemudian akan disimpan oleh cell dan manipulasi memori dilakukan oleh komponen yang disebut dengan gate. Ada tiga jenis gate pada algoritma LSTM, di antaranya  Forget gate, Input gate, dan  Output gate. Sumber : [Trivusi](https://www.trivusi.web.id/2022/07/algoritma-lstm.html)\n",
        "\n",
        "Jaringan syaraf dalam kasus chatbot ini yang terdiri dari lapisan atau *layer* embedding yang merupakan salah satu hal yang paling kuat di bidang pemrosesan bahasa alami atau NLP. output atau keluaran dari lapisan (*layer*) embedding adalah input (masukan) data teks dari lapisan berulang (*recurrent*) dengan layer LSTM gate (Lapisan Gerbang **Long Shot Term Memory)**. Kemudian, output atau keluaran diratakan dan lapisan Dense digunakan dengan fungsi aktivasi **Softmax** yang dimana implementasi chatbot ini memiliki data label lebih dari dua kelas.\n",
        "\n",
        "Bagian utama dalam pemodelan chatbot ini adalah lapisan embedding yang memberikan nilai vektor yang sesuai untuk setiap kata dalam data teks yang telah dimasukkan."
      ]
    },
    {
      "cell_type": "code",
      "execution_count": 20,
      "id": "2XBG3_reh2KY",
      "metadata": {
        "id": "2XBG3_reh2KY"
      },
      "outputs": [],
      "source": [
        "# Creating the model (Membuat Modelling)\n",
        "i = Input(shape=(input_shape,)) # Layer Input\n",
        "x = Embedding(vocabulary+1,10)(i) # Layer Embedding\n",
        "x = LSTM(10, return_sequences=True, recurrent_dropout=0.2)(x) # Layer Long Short Term Memory\n",
        "x = Flatten()(x) # Layer Flatten\n",
        "x = Dense(output_length, activation=\"softmax\")(x) # Layer Dense\n",
        "model  = Model(i,x) # Model yang telah disusun dari layer Input sampai layer Output\n",
        "\n",
        "# Compiling the model (Kompilasi Model)\n",
        "model.compile(loss=\"sparse_categorical_crossentropy\", optimizer='adam', metrics=['accuracy'])"
      ]
    },
    {
      "cell_type": "code",
      "execution_count": 23,
      "id": "SO1blkS7ZzuH",
      "metadata": {
        "colab": {
          "base_uri": "https://localhost:8080/",
          "height": 533
        },
        "id": "SO1blkS7ZzuH",
        "outputId": "72e10cc5-b628-48cf-b6cc-74e3d461ef40"
      },
      "outputs": [
        {
          "name": "stdout",
          "output_type": "stream",
          "text": [
            "You must install pydot (`pip install pydot`) and install graphviz (see instructions at https://graphviz.gitlab.io/download/) for plot_model to work.\n"
          ]
        }
      ],
      "source": [
        "# Visualization Plot Architecture Model (Visualisasi Plot Arsitektur Model)\n",
        "plot_model(model, to_file='model_plot.png', show_shapes=True, show_layer_names=True)"
      ]
    },
    {
      "cell_type": "code",
      "execution_count": 24,
      "id": "4hab_JHoopQI",
      "metadata": {
        "colab": {
          "base_uri": "https://localhost:8080/"
        },
        "id": "4hab_JHoopQI",
        "outputId": "8e1aedaf-0746-4e6b-a45c-a3620d853c8e"
      },
      "outputs": [
        {
          "name": "stdout",
          "output_type": "stream",
          "text": [
            "Model: \"model\"\n",
            "_________________________________________________________________\n",
            " Layer (type)                Output Shape              Param #   \n",
            "=================================================================\n",
            " input_1 (InputLayer)        [(None, 10)]              0         \n",
            "                                                                 \n",
            " embedding (Embedding)       (None, 10, 10)            780       \n",
            "                                                                 \n",
            " lstm (LSTM)                 (None, 10, 10)            840       \n",
            "                                                                 \n",
            " flatten (Flatten)           (None, 100)               0         \n",
            "                                                                 \n",
            " dense (Dense)               (None, 40)                4040      \n",
            "                                                                 \n",
            "=================================================================\n",
            "Total params: 5660 (22.11 KB)\n",
            "Trainable params: 5660 (22.11 KB)\n",
            "Non-trainable params: 0 (0.00 Byte)\n",
            "_________________________________________________________________\n"
          ]
        }
      ],
      "source": [
        "# Menampilkan parameter pada model LSTM\n",
        "model.summary()"
      ]
    },
    {
      "cell_type": "code",
      "execution_count": 25,
      "id": "AHtOlCb8kGgZ",
      "metadata": {
        "colab": {
          "base_uri": "https://localhost:8080/"
        },
        "id": "AHtOlCb8kGgZ",
        "outputId": "ee62a778-3aaf-4be6-d756-42781211ab44"
      },
      "outputs": [
        {
          "name": "stdout",
          "output_type": "stream",
          "text": [
            "Epoch 1/450\n",
            "3/3 [==============================] - 3s 8ms/step - loss: 3.6887 - accuracy: 0.0125\n",
            "Epoch 2/450\n",
            "3/3 [==============================] - 0s 13ms/step - loss: 3.6814 - accuracy: 0.0125\n",
            "Epoch 3/450\n",
            "3/3 [==============================] - 0s 7ms/step - loss: 3.6743 - accuracy: 0.0875\n",
            "Epoch 4/450\n",
            "3/3 [==============================] - 0s 8ms/step - loss: 3.6665 - accuracy: 0.1625\n",
            "Epoch 5/450\n",
            "3/3 [==============================] - 0s 12ms/step - loss: 3.6559 - accuracy: 0.1750\n",
            "Epoch 6/450\n",
            "3/3 [==============================] - 0s 12ms/step - loss: 3.6449 - accuracy: 0.2000\n",
            "Epoch 7/450\n",
            "3/3 [==============================] - 0s 8ms/step - loss: 3.6314 - accuracy: 0.1500\n",
            "Epoch 8/450\n",
            "3/3 [==============================] - 0s 7ms/step - loss: 3.6128 - accuracy: 0.1625\n",
            "Epoch 9/450\n",
            "3/3 [==============================] - 0s 7ms/step - loss: 3.5929 - accuracy: 0.1375\n",
            "Epoch 10/450\n",
            "3/3 [==============================] - 0s 5ms/step - loss: 3.5675 - accuracy: 0.1875\n",
            "Epoch 11/450\n",
            "3/3 [==============================] - 0s 6ms/step - loss: 3.5389 - accuracy: 0.1500\n",
            "Epoch 12/450\n",
            "3/3 [==============================] - 0s 6ms/step - loss: 3.5016 - accuracy: 0.1875\n",
            "Epoch 13/450\n",
            "3/3 [==============================] - 0s 7ms/step - loss: 3.4658 - accuracy: 0.1500\n",
            "Epoch 14/450\n",
            "3/3 [==============================] - 0s 15ms/step - loss: 3.4107 - accuracy: 0.1875\n",
            "Epoch 15/450\n",
            "3/3 [==============================] - 0s 8ms/step - loss: 3.3569 - accuracy: 0.1625\n",
            "Epoch 16/450\n",
            "3/3 [==============================] - 0s 7ms/step - loss: 3.2871 - accuracy: 0.1500\n",
            "Epoch 17/450\n",
            "3/3 [==============================] - 0s 8ms/step - loss: 3.2207 - accuracy: 0.1625\n",
            "Epoch 18/450\n",
            "3/3 [==============================] - 0s 6ms/step - loss: 3.1489 - accuracy: 0.1375\n",
            "Epoch 19/450\n",
            "3/3 [==============================] - 0s 6ms/step - loss: 3.0652 - accuracy: 0.1625\n",
            "Epoch 20/450\n",
            "3/3 [==============================] - 0s 7ms/step - loss: 2.9985 - accuracy: 0.1875\n",
            "Epoch 21/450\n",
            "3/3 [==============================] - 0s 6ms/step - loss: 2.9686 - accuracy: 0.2250\n",
            "Epoch 22/450\n",
            "3/3 [==============================] - 0s 8ms/step - loss: 2.9442 - accuracy: 0.1875\n",
            "Epoch 23/450\n",
            "3/3 [==============================] - 0s 6ms/step - loss: 2.9319 - accuracy: 0.1875\n",
            "Epoch 24/450\n",
            "3/3 [==============================] - 0s 10ms/step - loss: 2.9192 - accuracy: 0.1875\n",
            "Epoch 25/450\n",
            "3/3 [==============================] - 0s 6ms/step - loss: 2.8971 - accuracy: 0.1875\n",
            "Epoch 26/450\n",
            "3/3 [==============================] - 0s 17ms/step - loss: 2.8892 - accuracy: 0.1875\n",
            "Epoch 27/450\n",
            "3/3 [==============================] - 0s 6ms/step - loss: 2.8606 - accuracy: 0.1875\n",
            "Epoch 28/450\n",
            "3/3 [==============================] - 0s 15ms/step - loss: 2.8367 - accuracy: 0.1875\n",
            "Epoch 29/450\n",
            "3/3 [==============================] - 0s 8ms/step - loss: 2.8174 - accuracy: 0.1875\n",
            "Epoch 30/450\n",
            "3/3 [==============================] - 0s 12ms/step - loss: 2.8236 - accuracy: 0.1875\n",
            "Epoch 31/450\n",
            "3/3 [==============================] - 0s 8ms/step - loss: 2.8054 - accuracy: 0.1875\n",
            "Epoch 32/450\n",
            "3/3 [==============================] - 0s 14ms/step - loss: 2.7838 - accuracy: 0.1875\n",
            "Epoch 33/450\n",
            "3/3 [==============================] - 0s 9ms/step - loss: 2.7580 - accuracy: 0.1875\n",
            "Epoch 34/450\n",
            "3/3 [==============================] - 0s 10ms/step - loss: 2.7414 - accuracy: 0.1875\n",
            "Epoch 35/450\n",
            "3/3 [==============================] - 0s 7ms/step - loss: 2.7262 - accuracy: 0.1875\n",
            "Epoch 36/450\n",
            "3/3 [==============================] - 0s 5ms/step - loss: 2.7157 - accuracy: 0.1875\n",
            "Epoch 37/450\n",
            "3/3 [==============================] - 0s 2ms/step - loss: 2.7027 - accuracy: 0.2000\n",
            "Epoch 38/450\n",
            "3/3 [==============================] - 0s 9ms/step - loss: 2.6808 - accuracy: 0.1875\n",
            "Epoch 39/450\n",
            "3/3 [==============================] - 0s 9ms/step - loss: 2.6615 - accuracy: 0.2000\n",
            "Epoch 40/450\n",
            "3/3 [==============================] - 0s 7ms/step - loss: 2.6388 - accuracy: 0.2125\n",
            "Epoch 41/450\n",
            "3/3 [==============================] - 0s 7ms/step - loss: 2.6386 - accuracy: 0.2250\n",
            "Epoch 42/450\n",
            "3/3 [==============================] - 0s 11ms/step - loss: 2.6148 - accuracy: 0.2250\n",
            "Epoch 43/450\n",
            "3/3 [==============================] - 0s 6ms/step - loss: 2.6076 - accuracy: 0.2625\n",
            "Epoch 44/450\n",
            "3/3 [==============================] - 0s 8ms/step - loss: 2.5837 - accuracy: 0.2500\n",
            "Epoch 45/450\n",
            "3/3 [==============================] - 0s 9ms/step - loss: 2.5798 - accuracy: 0.2500\n",
            "Epoch 46/450\n",
            "3/3 [==============================] - 0s 8ms/step - loss: 2.5558 - accuracy: 0.2500\n",
            "Epoch 47/450\n",
            "3/3 [==============================] - 0s 5ms/step - loss: 2.5379 - accuracy: 0.2625\n",
            "Epoch 48/450\n",
            "3/3 [==============================] - 0s 7ms/step - loss: 2.5420 - accuracy: 0.2625\n",
            "Epoch 49/450\n",
            "3/3 [==============================] - 0s 2ms/step - loss: 2.5170 - accuracy: 0.2875\n",
            "Epoch 50/450\n",
            "3/3 [==============================] - 0s 10ms/step - loss: 2.5039 - accuracy: 0.2625\n",
            "Epoch 51/450\n",
            "3/3 [==============================] - 0s 8ms/step - loss: 2.4818 - accuracy: 0.2625\n",
            "Epoch 52/450\n",
            "3/3 [==============================] - 0s 7ms/step - loss: 2.4645 - accuracy: 0.2875\n",
            "Epoch 53/450\n",
            "3/3 [==============================] - 0s 7ms/step - loss: 2.4533 - accuracy: 0.2750\n",
            "Epoch 54/450\n",
            "3/3 [==============================] - 0s 8ms/step - loss: 2.4481 - accuracy: 0.2750\n",
            "Epoch 55/450\n",
            "3/3 [==============================] - 0s 8ms/step - loss: 2.4247 - accuracy: 0.2875\n",
            "Epoch 56/450\n",
            "3/3 [==============================] - 0s 6ms/step - loss: 2.4235 - accuracy: 0.3000\n",
            "Epoch 57/450\n",
            "3/3 [==============================] - 0s 6ms/step - loss: 2.3959 - accuracy: 0.2875\n",
            "Epoch 58/450\n",
            "3/3 [==============================] - 0s 9ms/step - loss: 2.3905 - accuracy: 0.3125\n",
            "Epoch 59/450\n",
            "3/3 [==============================] - 0s 7ms/step - loss: 2.3802 - accuracy: 0.3125\n",
            "Epoch 60/450\n",
            "3/3 [==============================] - 0s 10ms/step - loss: 2.3652 - accuracy: 0.3125\n",
            "Epoch 61/450\n",
            "3/3 [==============================] - 0s 7ms/step - loss: 2.3540 - accuracy: 0.3125\n",
            "Epoch 62/450\n",
            "3/3 [==============================] - 0s 7ms/step - loss: 2.3289 - accuracy: 0.3000\n",
            "Epoch 63/450\n",
            "3/3 [==============================] - 0s 812us/step - loss: 2.3205 - accuracy: 0.3000\n",
            "Epoch 64/450\n",
            "3/3 [==============================] - 0s 9ms/step - loss: 2.3036 - accuracy: 0.3000\n",
            "Epoch 65/450\n",
            "3/3 [==============================] - 0s 8ms/step - loss: 2.2986 - accuracy: 0.3250\n",
            "Epoch 66/450\n",
            "3/3 [==============================] - 0s 8ms/step - loss: 2.2869 - accuracy: 0.3125\n",
            "Epoch 67/450\n",
            "3/3 [==============================] - 0s 6ms/step - loss: 2.2734 - accuracy: 0.3000\n",
            "Epoch 68/450\n",
            "3/3 [==============================] - 0s 9ms/step - loss: 2.2690 - accuracy: 0.3000\n",
            "Epoch 69/450\n",
            "3/3 [==============================] - 0s 8ms/step - loss: 2.2559 - accuracy: 0.3000\n",
            "Epoch 70/450\n",
            "3/3 [==============================] - 0s 7ms/step - loss: 2.2323 - accuracy: 0.3250\n",
            "Epoch 71/450\n",
            "3/3 [==============================] - 0s 7ms/step - loss: 2.2329 - accuracy: 0.3250\n",
            "Epoch 72/450\n",
            "3/3 [==============================] - 0s 10ms/step - loss: 2.2190 - accuracy: 0.3125\n",
            "Epoch 73/450\n",
            "3/3 [==============================] - 0s 7ms/step - loss: 2.2010 - accuracy: 0.3000\n",
            "Epoch 74/450\n",
            "3/3 [==============================] - 0s 21ms/step - loss: 2.1817 - accuracy: 0.3375\n",
            "Epoch 75/450\n",
            "3/3 [==============================] - 0s 8ms/step - loss: 2.1768 - accuracy: 0.3375\n",
            "Epoch 76/450\n",
            "3/3 [==============================] - 0s 8ms/step - loss: 2.1610 - accuracy: 0.3500\n",
            "Epoch 77/450\n",
            "3/3 [==============================] - 0s 10ms/step - loss: 2.1505 - accuracy: 0.3250\n",
            "Epoch 78/450\n",
            "3/3 [==============================] - 0s 9ms/step - loss: 2.1308 - accuracy: 0.3500\n",
            "Epoch 79/450\n",
            "3/3 [==============================] - 0s 9ms/step - loss: 2.1233 - accuracy: 0.3375\n",
            "Epoch 80/450\n",
            "3/3 [==============================] - 0s 12ms/step - loss: 2.1264 - accuracy: 0.3375\n",
            "Epoch 81/450\n",
            "3/3 [==============================] - 0s 8ms/step - loss: 2.1101 - accuracy: 0.3500\n",
            "Epoch 82/450\n",
            "3/3 [==============================] - 0s 9ms/step - loss: 2.1010 - accuracy: 0.3625\n",
            "Epoch 83/450\n",
            "3/3 [==============================] - 0s 8ms/step - loss: 2.0695 - accuracy: 0.3625\n",
            "Epoch 84/450\n",
            "3/3 [==============================] - 0s 7ms/step - loss: 2.0682 - accuracy: 0.3500\n",
            "Epoch 85/450\n",
            "3/3 [==============================] - 0s 6ms/step - loss: 2.0499 - accuracy: 0.3750\n",
            "Epoch 86/450\n",
            "3/3 [==============================] - 0s 8ms/step - loss: 2.0386 - accuracy: 0.3625\n",
            "Epoch 87/450\n",
            "3/3 [==============================] - 0s 7ms/step - loss: 2.0354 - accuracy: 0.3625\n",
            "Epoch 88/450\n",
            "3/3 [==============================] - 0s 7ms/step - loss: 2.0145 - accuracy: 0.3500\n",
            "Epoch 89/450\n",
            "3/3 [==============================] - 0s 7ms/step - loss: 1.9945 - accuracy: 0.3750\n",
            "Epoch 90/450\n",
            "3/3 [==============================] - 0s 11ms/step - loss: 1.9993 - accuracy: 0.3750\n",
            "Epoch 91/450\n",
            "3/3 [==============================] - 0s 7ms/step - loss: 1.9812 - accuracy: 0.3750\n",
            "Epoch 92/450\n",
            "3/3 [==============================] - 0s 4ms/step - loss: 1.9671 - accuracy: 0.4000\n",
            "Epoch 93/450\n",
            "3/3 [==============================] - 0s 14ms/step - loss: 1.9532 - accuracy: 0.3750\n",
            "Epoch 94/450\n",
            "3/3 [==============================] - 0s 8ms/step - loss: 1.9368 - accuracy: 0.4125\n",
            "Epoch 95/450\n",
            "3/3 [==============================] - 0s 8ms/step - loss: 1.9298 - accuracy: 0.3875\n",
            "Epoch 96/450\n",
            "3/3 [==============================] - 0s 9ms/step - loss: 1.9079 - accuracy: 0.3875\n",
            "Epoch 97/450\n",
            "3/3 [==============================] - 0s 3ms/step - loss: 1.8937 - accuracy: 0.4000\n",
            "Epoch 98/450\n",
            "3/3 [==============================] - 0s 35ms/step - loss: 1.8958 - accuracy: 0.3875\n",
            "Epoch 99/450\n",
            "3/3 [==============================] - 0s 6ms/step - loss: 1.8897 - accuracy: 0.3875\n",
            "Epoch 100/450\n",
            "3/3 [==============================] - 0s 6ms/step - loss: 1.8740 - accuracy: 0.3875\n",
            "Epoch 101/450\n",
            "3/3 [==============================] - 0s 21ms/step - loss: 1.8554 - accuracy: 0.4250\n",
            "Epoch 102/450\n",
            "3/3 [==============================] - 0s 7ms/step - loss: 1.8408 - accuracy: 0.4125\n",
            "Epoch 103/450\n",
            "3/3 [==============================] - 0s 4ms/step - loss: 1.8301 - accuracy: 0.4500\n",
            "Epoch 104/450\n",
            "3/3 [==============================] - 0s 7ms/step - loss: 1.8207 - accuracy: 0.4000\n",
            "Epoch 105/450\n",
            "3/3 [==============================] - 0s 8ms/step - loss: 1.8106 - accuracy: 0.4500\n",
            "Epoch 106/450\n",
            "3/3 [==============================] - 0s 4ms/step - loss: 1.7975 - accuracy: 0.4500\n",
            "Epoch 107/450\n",
            "3/3 [==============================] - 0s 6ms/step - loss: 1.7918 - accuracy: 0.4375\n",
            "Epoch 108/450\n",
            "3/3 [==============================] - 0s 12ms/step - loss: 1.7585 - accuracy: 0.4625\n",
            "Epoch 109/450\n",
            "3/3 [==============================] - 0s 9ms/step - loss: 1.7529 - accuracy: 0.4625\n",
            "Epoch 110/450\n",
            "3/3 [==============================] - 0s 14ms/step - loss: 1.7426 - accuracy: 0.4750\n",
            "Epoch 111/450\n",
            "3/3 [==============================] - 0s 6ms/step - loss: 1.7263 - accuracy: 0.4750\n",
            "Epoch 112/450\n",
            "3/3 [==============================] - 0s 8ms/step - loss: 1.7074 - accuracy: 0.4750\n",
            "Epoch 113/450\n",
            "3/3 [==============================] - 0s 10ms/step - loss: 1.7121 - accuracy: 0.4875\n",
            "Epoch 114/450\n",
            "3/3 [==============================] - 0s 10ms/step - loss: 1.6843 - accuracy: 0.5250\n",
            "Epoch 115/450\n",
            "3/3 [==============================] - 0s 5ms/step - loss: 1.6760 - accuracy: 0.5000\n",
            "Epoch 116/450\n",
            "3/3 [==============================] - 0s 7ms/step - loss: 1.6653 - accuracy: 0.5125\n",
            "Epoch 117/450\n",
            "3/3 [==============================] - 0s 9ms/step - loss: 1.6542 - accuracy: 0.5000\n",
            "Epoch 118/450\n",
            "3/3 [==============================] - 0s 15ms/step - loss: 1.6435 - accuracy: 0.5375\n",
            "Epoch 119/450\n",
            "3/3 [==============================] - 0s 9ms/step - loss: 1.6393 - accuracy: 0.5125\n",
            "Epoch 120/450\n",
            "3/3 [==============================] - 0s 11ms/step - loss: 1.6201 - accuracy: 0.5125\n",
            "Epoch 121/450\n",
            "3/3 [==============================] - 0s 8ms/step - loss: 1.6038 - accuracy: 0.5000\n",
            "Epoch 122/450\n",
            "3/3 [==============================] - 0s 8ms/step - loss: 1.5902 - accuracy: 0.5000\n",
            "Epoch 123/450\n",
            "3/3 [==============================] - 0s 7ms/step - loss: 1.5784 - accuracy: 0.4750\n",
            "Epoch 124/450\n",
            "3/3 [==============================] - 0s 9ms/step - loss: 1.5737 - accuracy: 0.5125\n",
            "Epoch 125/450\n",
            "3/3 [==============================] - 0s 6ms/step - loss: 1.5539 - accuracy: 0.4875\n",
            "Epoch 126/450\n",
            "3/3 [==============================] - 0s 7ms/step - loss: 1.5387 - accuracy: 0.4875\n",
            "Epoch 127/450\n",
            "3/3 [==============================] - 0s 10ms/step - loss: 1.5244 - accuracy: 0.5000\n",
            "Epoch 128/450\n",
            "3/3 [==============================] - 0s 5ms/step - loss: 1.5117 - accuracy: 0.5125\n",
            "Epoch 129/450\n",
            "3/3 [==============================] - 0s 7ms/step - loss: 1.5188 - accuracy: 0.5000\n",
            "Epoch 130/450\n",
            "3/3 [==============================] - 0s 7ms/step - loss: 1.5070 - accuracy: 0.5125\n",
            "Epoch 131/450\n",
            "3/3 [==============================] - 0s 11ms/step - loss: 1.4782 - accuracy: 0.5125\n",
            "Epoch 132/450\n",
            "3/3 [==============================] - 0s 8ms/step - loss: 1.4783 - accuracy: 0.5000\n",
            "Epoch 133/450\n",
            "3/3 [==============================] - 0s 2ms/step - loss: 1.4718 - accuracy: 0.5000\n",
            "Epoch 134/450\n",
            "3/3 [==============================] - 0s 7ms/step - loss: 1.4531 - accuracy: 0.5125\n",
            "Epoch 135/450\n",
            "3/3 [==============================] - 0s 8ms/step - loss: 1.4343 - accuracy: 0.5375\n",
            "Epoch 136/450\n",
            "3/3 [==============================] - 0s 4ms/step - loss: 1.4310 - accuracy: 0.5500\n",
            "Epoch 137/450\n",
            "3/3 [==============================] - 0s 8ms/step - loss: 1.4220 - accuracy: 0.5500\n",
            "Epoch 138/450\n",
            "3/3 [==============================] - 0s 9ms/step - loss: 1.4060 - accuracy: 0.5500\n",
            "Epoch 139/450\n",
            "3/3 [==============================] - 0s 6ms/step - loss: 1.3899 - accuracy: 0.5500\n",
            "Epoch 140/450\n",
            "3/3 [==============================] - 0s 22ms/step - loss: 1.3898 - accuracy: 0.5250\n",
            "Epoch 141/450\n",
            "3/3 [==============================] - 0s 7ms/step - loss: 1.3680 - accuracy: 0.5250\n",
            "Epoch 142/450\n",
            "3/3 [==============================] - 0s 6ms/step - loss: 1.3524 - accuracy: 0.5750\n",
            "Epoch 143/450\n",
            "3/3 [==============================] - 0s 7ms/step - loss: 1.3527 - accuracy: 0.5375\n",
            "Epoch 144/450\n",
            "3/3 [==============================] - 0s 7ms/step - loss: 1.3379 - accuracy: 0.5875\n",
            "Epoch 145/450\n",
            "3/3 [==============================] - 0s 7ms/step - loss: 1.3290 - accuracy: 0.5750\n",
            "Epoch 146/450\n",
            "3/3 [==============================] - 0s 7ms/step - loss: 1.3203 - accuracy: 0.5875\n",
            "Epoch 147/450\n",
            "3/3 [==============================] - 0s 10ms/step - loss: 1.3075 - accuracy: 0.6125\n",
            "Epoch 148/450\n",
            "3/3 [==============================] - 0s 11ms/step - loss: 1.2933 - accuracy: 0.5625\n",
            "Epoch 149/450\n",
            "3/3 [==============================] - 0s 11ms/step - loss: 1.2912 - accuracy: 0.5750\n",
            "Epoch 150/450\n",
            "3/3 [==============================] - 0s 5ms/step - loss: 1.2755 - accuracy: 0.5875\n",
            "Epoch 151/450\n",
            "3/3 [==============================] - 0s 10ms/step - loss: 1.2607 - accuracy: 0.6000\n",
            "Epoch 152/450\n",
            "3/3 [==============================] - 0s 8ms/step - loss: 1.2495 - accuracy: 0.6125\n",
            "Epoch 153/450\n",
            "3/3 [==============================] - 0s 8ms/step - loss: 1.2452 - accuracy: 0.6375\n",
            "Epoch 154/450\n",
            "3/3 [==============================] - 0s 10ms/step - loss: 1.2220 - accuracy: 0.6125\n",
            "Epoch 155/450\n",
            "3/3 [==============================] - 0s 6ms/step - loss: 1.2121 - accuracy: 0.6375\n",
            "Epoch 156/450\n",
            "3/3 [==============================] - 0s 8ms/step - loss: 1.2048 - accuracy: 0.6625\n",
            "Epoch 157/450\n",
            "3/3 [==============================] - 0s 10ms/step - loss: 1.1911 - accuracy: 0.7000\n",
            "Epoch 158/450\n",
            "3/3 [==============================] - 0s 7ms/step - loss: 1.1939 - accuracy: 0.6625\n",
            "Epoch 159/450\n",
            "3/3 [==============================] - 0s 21ms/step - loss: 1.1807 - accuracy: 0.6875\n",
            "Epoch 160/450\n",
            "3/3 [==============================] - 0s 7ms/step - loss: 1.1656 - accuracy: 0.7250\n",
            "Epoch 161/450\n",
            "3/3 [==============================] - 0s 17ms/step - loss: 1.1484 - accuracy: 0.6875\n",
            "Epoch 162/450\n",
            "3/3 [==============================] - 0s 3ms/step - loss: 1.1413 - accuracy: 0.6875\n",
            "Epoch 163/450\n",
            "3/3 [==============================] - 0s 11ms/step - loss: 1.1415 - accuracy: 0.6875\n",
            "Epoch 164/450\n",
            "3/3 [==============================] - 0s 6ms/step - loss: 1.1283 - accuracy: 0.7250\n",
            "Epoch 165/450\n",
            "3/3 [==============================] - 0s 8ms/step - loss: 1.1190 - accuracy: 0.7125\n",
            "Epoch 166/450\n",
            "3/3 [==============================] - 0s 8ms/step - loss: 1.1123 - accuracy: 0.7125\n",
            "Epoch 167/450\n",
            "3/3 [==============================] - 0s 9ms/step - loss: 1.1007 - accuracy: 0.6750\n",
            "Epoch 168/450\n",
            "3/3 [==============================] - 0s 5ms/step - loss: 1.0849 - accuracy: 0.7125\n",
            "Epoch 169/450\n",
            "3/3 [==============================] - 0s 8ms/step - loss: 1.0819 - accuracy: 0.6875\n",
            "Epoch 170/450\n",
            "3/3 [==============================] - 0s 9ms/step - loss: 1.0595 - accuracy: 0.7125\n",
            "Epoch 171/450\n",
            "3/3 [==============================] - 0s 8ms/step - loss: 1.0609 - accuracy: 0.6875\n",
            "Epoch 172/450\n",
            "3/3 [==============================] - 0s 8ms/step - loss: 1.0480 - accuracy: 0.7625\n",
            "Epoch 173/450\n",
            "3/3 [==============================] - 0s 737us/step - loss: 1.0379 - accuracy: 0.7375\n",
            "Epoch 174/450\n",
            "3/3 [==============================] - 0s 6ms/step - loss: 1.0194 - accuracy: 0.7375\n",
            "Epoch 175/450\n",
            "3/3 [==============================] - 0s 7ms/step - loss: 1.0182 - accuracy: 0.7625\n",
            "Epoch 176/450\n",
            "3/3 [==============================] - 0s 6ms/step - loss: 0.9998 - accuracy: 0.7625\n",
            "Epoch 177/450\n",
            "3/3 [==============================] - 0s 11ms/step - loss: 1.0014 - accuracy: 0.7500\n",
            "Epoch 178/450\n",
            "3/3 [==============================] - 0s 7ms/step - loss: 0.9948 - accuracy: 0.7625\n",
            "Epoch 179/450\n",
            "3/3 [==============================] - 0s 8ms/step - loss: 0.9810 - accuracy: 0.7625\n",
            "Epoch 180/450\n",
            "3/3 [==============================] - 0s 10ms/step - loss: 0.9726 - accuracy: 0.7625\n",
            "Epoch 181/450\n",
            "3/3 [==============================] - 0s 13ms/step - loss: 0.9468 - accuracy: 0.7625\n",
            "Epoch 182/450\n",
            "3/3 [==============================] - 0s 6ms/step - loss: 0.9407 - accuracy: 0.8000\n",
            "Epoch 183/450\n",
            "3/3 [==============================] - 0s 11ms/step - loss: 0.9423 - accuracy: 0.7500\n",
            "Epoch 184/450\n",
            "3/3 [==============================] - 0s 7ms/step - loss: 0.9289 - accuracy: 0.8375\n",
            "Epoch 185/450\n",
            "3/3 [==============================] - 0s 9ms/step - loss: 0.9127 - accuracy: 0.8000\n",
            "Epoch 186/450\n",
            "3/3 [==============================] - 0s 8ms/step - loss: 0.9172 - accuracy: 0.7750\n",
            "Epoch 187/450\n",
            "3/3 [==============================] - 0s 8ms/step - loss: 0.8954 - accuracy: 0.8125\n",
            "Epoch 188/450\n",
            "3/3 [==============================] - 0s 8ms/step - loss: 0.8859 - accuracy: 0.8000\n",
            "Epoch 189/450\n",
            "3/3 [==============================] - 0s 8ms/step - loss: 0.8761 - accuracy: 0.8125\n",
            "Epoch 190/450\n",
            "3/3 [==============================] - 0s 11ms/step - loss: 0.8690 - accuracy: 0.8625\n",
            "Epoch 191/450\n",
            "3/3 [==============================] - 0s 8ms/step - loss: 0.8539 - accuracy: 0.8375\n",
            "Epoch 192/450\n",
            "3/3 [==============================] - 0s 6ms/step - loss: 0.8519 - accuracy: 0.8125\n",
            "Epoch 193/450\n",
            "3/3 [==============================] - 0s 7ms/step - loss: 0.8463 - accuracy: 0.8250\n",
            "Epoch 194/450\n",
            "3/3 [==============================] - 0s 6ms/step - loss: 0.8399 - accuracy: 0.8125\n",
            "Epoch 195/450\n",
            "3/3 [==============================] - 0s 6ms/step - loss: 0.8209 - accuracy: 0.8250\n",
            "Epoch 196/450\n",
            "3/3 [==============================] - 0s 7ms/step - loss: 0.8190 - accuracy: 0.8625\n",
            "Epoch 197/450\n",
            "3/3 [==============================] - 0s 7ms/step - loss: 0.8124 - accuracy: 0.8750\n",
            "Epoch 198/450\n",
            "3/3 [==============================] - 0s 14ms/step - loss: 0.8061 - accuracy: 0.8625\n",
            "Epoch 199/450\n",
            "3/3 [==============================] - 0s 7ms/step - loss: 0.8041 - accuracy: 0.8875\n",
            "Epoch 200/450\n",
            "3/3 [==============================] - 0s 8ms/step - loss: 0.7880 - accuracy: 0.8875\n",
            "Epoch 201/450\n",
            "3/3 [==============================] - 0s 5ms/step - loss: 0.7724 - accuracy: 0.8500\n",
            "Epoch 202/450\n",
            "3/3 [==============================] - 0s 9ms/step - loss: 0.7720 - accuracy: 0.8875\n",
            "Epoch 203/450\n",
            "3/3 [==============================] - 0s 8ms/step - loss: 0.7604 - accuracy: 0.9250\n",
            "Epoch 204/450\n",
            "3/3 [==============================] - 0s 8ms/step - loss: 0.7549 - accuracy: 0.8875\n",
            "Epoch 205/450\n",
            "3/3 [==============================] - 0s 9ms/step - loss: 0.7505 - accuracy: 0.8750\n",
            "Epoch 206/450\n",
            "3/3 [==============================] - 0s 7ms/step - loss: 0.7446 - accuracy: 0.9000\n",
            "Epoch 207/450\n",
            "3/3 [==============================] - 0s 7ms/step - loss: 0.7392 - accuracy: 0.9125\n",
            "Epoch 208/450\n",
            "3/3 [==============================] - 0s 14ms/step - loss: 0.7256 - accuracy: 0.9125\n",
            "Epoch 209/450\n",
            "3/3 [==============================] - 0s 6ms/step - loss: 0.7149 - accuracy: 0.8875\n",
            "Epoch 210/450\n",
            "3/3 [==============================] - 0s 8ms/step - loss: 0.7113 - accuracy: 0.9000\n",
            "Epoch 211/450\n",
            "3/3 [==============================] - 0s 12ms/step - loss: 0.7012 - accuracy: 0.9000\n",
            "Epoch 212/450\n",
            "3/3 [==============================] - 0s 10ms/step - loss: 0.6887 - accuracy: 0.8500\n",
            "Epoch 213/450\n",
            "3/3 [==============================] - 0s 5ms/step - loss: 0.6848 - accuracy: 0.8875\n",
            "Epoch 214/450\n",
            "3/3 [==============================] - 0s 8ms/step - loss: 0.6794 - accuracy: 0.9125\n",
            "Epoch 215/450\n",
            "3/3 [==============================] - 0s 10ms/step - loss: 0.6708 - accuracy: 0.9375\n",
            "Epoch 216/450\n",
            "3/3 [==============================] - 0s 5ms/step - loss: 0.6711 - accuracy: 0.9250\n",
            "Epoch 217/450\n",
            "3/3 [==============================] - 0s 7ms/step - loss: 0.6555 - accuracy: 0.9375\n",
            "Epoch 218/450\n",
            "3/3 [==============================] - 0s 7ms/step - loss: 0.6645 - accuracy: 0.9750\n",
            "Epoch 219/450\n",
            "3/3 [==============================] - 0s 9ms/step - loss: 0.6435 - accuracy: 0.9750\n",
            "Epoch 220/450\n",
            "3/3 [==============================] - 0s 7ms/step - loss: 0.6383 - accuracy: 0.9625\n",
            "Epoch 221/450\n",
            "3/3 [==============================] - 0s 9ms/step - loss: 0.6405 - accuracy: 0.9500\n",
            "Epoch 222/450\n",
            "3/3 [==============================] - 0s 6ms/step - loss: 0.6295 - accuracy: 0.9500\n",
            "Epoch 223/450\n",
            "3/3 [==============================] - 0s 9ms/step - loss: 0.6225 - accuracy: 0.9375\n",
            "Epoch 224/450\n",
            "3/3 [==============================] - 0s 9ms/step - loss: 0.6161 - accuracy: 0.9500\n",
            "Epoch 225/450\n",
            "3/3 [==============================] - 0s 7ms/step - loss: 0.6109 - accuracy: 0.9500\n",
            "Epoch 226/450\n",
            "3/3 [==============================] - 0s 8ms/step - loss: 0.6038 - accuracy: 0.9625\n",
            "Epoch 227/450\n",
            "3/3 [==============================] - 0s 6ms/step - loss: 0.5901 - accuracy: 0.9625\n",
            "Epoch 228/450\n",
            "3/3 [==============================] - 0s 5ms/step - loss: 0.5937 - accuracy: 0.9500\n",
            "Epoch 229/450\n",
            "3/3 [==============================] - 0s 6ms/step - loss: 0.5813 - accuracy: 0.9750\n",
            "Epoch 230/450\n",
            "3/3 [==============================] - 0s 7ms/step - loss: 0.5830 - accuracy: 0.9625\n",
            "Epoch 231/450\n",
            "3/3 [==============================] - 0s 6ms/step - loss: 0.5697 - accuracy: 0.9875\n",
            "Epoch 232/450\n",
            "3/3 [==============================] - 0s 7ms/step - loss: 0.5724 - accuracy: 0.9750\n",
            "Epoch 233/450\n",
            "3/3 [==============================] - 0s 4ms/step - loss: 0.5535 - accuracy: 0.9750\n",
            "Epoch 234/450\n",
            "3/3 [==============================] - 0s 9ms/step - loss: 0.5640 - accuracy: 0.9625\n",
            "Epoch 235/450\n",
            "3/3 [==============================] - 0s 4ms/step - loss: 0.5460 - accuracy: 0.9750\n",
            "Epoch 236/450\n",
            "3/3 [==============================] - 0s 10ms/step - loss: 0.5427 - accuracy: 0.9750\n",
            "Epoch 237/450\n",
            "3/3 [==============================] - 0s 7ms/step - loss: 0.5427 - accuracy: 0.9875\n",
            "Epoch 238/450\n",
            "3/3 [==============================] - 0s 17ms/step - loss: 0.5255 - accuracy: 0.9875\n",
            "Epoch 239/450\n",
            "3/3 [==============================] - 0s 7ms/step - loss: 0.5322 - accuracy: 0.9500\n",
            "Epoch 240/450\n",
            "3/3 [==============================] - 0s 7ms/step - loss: 0.5271 - accuracy: 0.9875\n",
            "Epoch 241/450\n",
            "3/3 [==============================] - 0s 7ms/step - loss: 0.5134 - accuracy: 0.9750\n",
            "Epoch 242/450\n",
            "3/3 [==============================] - 0s 1ms/step - loss: 0.5161 - accuracy: 0.9875\n",
            "Epoch 243/450\n",
            "3/3 [==============================] - 0s 7ms/step - loss: 0.5037 - accuracy: 0.9875\n",
            "Epoch 244/450\n",
            "3/3 [==============================] - 0s 16ms/step - loss: 0.5098 - accuracy: 0.9875\n",
            "Epoch 245/450\n",
            "3/3 [==============================] - 0s 8ms/step - loss: 0.5070 - accuracy: 0.9750\n",
            "Epoch 246/450\n",
            "3/3 [==============================] - 0s 6ms/step - loss: 0.4952 - accuracy: 0.9875\n",
            "Epoch 247/450\n",
            "3/3 [==============================] - 0s 9ms/step - loss: 0.5008 - accuracy: 0.9875\n",
            "Epoch 248/450\n",
            "3/3 [==============================] - 0s 10ms/step - loss: 0.4882 - accuracy: 0.9750\n",
            "Epoch 249/450\n",
            "3/3 [==============================] - 0s 6ms/step - loss: 0.4865 - accuracy: 0.9750\n",
            "Epoch 250/450\n",
            "3/3 [==============================] - 0s 10ms/step - loss: 0.4763 - accuracy: 0.9750\n",
            "Epoch 251/450\n",
            "3/3 [==============================] - 0s 6ms/step - loss: 0.4776 - accuracy: 0.9875\n",
            "Epoch 252/450\n",
            "3/3 [==============================] - 0s 4ms/step - loss: 0.4681 - accuracy: 0.9875\n",
            "Epoch 253/450\n",
            "3/3 [==============================] - 0s 9ms/step - loss: 0.4555 - accuracy: 0.9875\n",
            "Epoch 254/450\n",
            "3/3 [==============================] - 0s 2ms/step - loss: 0.4494 - accuracy: 0.9750\n",
            "Epoch 255/450\n",
            "3/3 [==============================] - 0s 11ms/step - loss: 0.4510 - accuracy: 0.9750\n",
            "Epoch 256/450\n",
            "3/3 [==============================] - 0s 11ms/step - loss: 0.4479 - accuracy: 0.9750\n",
            "Epoch 257/450\n",
            "3/3 [==============================] - 0s 10ms/step - loss: 0.4462 - accuracy: 0.9875\n",
            "Epoch 258/450\n",
            "3/3 [==============================] - 0s 7ms/step - loss: 0.4431 - accuracy: 0.9875\n",
            "Epoch 259/450\n",
            "3/3 [==============================] - 0s 5ms/step - loss: 0.4351 - accuracy: 0.9875\n",
            "Epoch 260/450\n",
            "3/3 [==============================] - 0s 6ms/step - loss: 0.4377 - accuracy: 0.9875\n",
            "Epoch 261/450\n",
            "3/3 [==============================] - 0s 7ms/step - loss: 0.4309 - accuracy: 0.9875\n",
            "Epoch 262/450\n",
            "3/3 [==============================] - 0s 9ms/step - loss: 0.4291 - accuracy: 0.9750\n",
            "Epoch 263/450\n",
            "3/3 [==============================] - 0s 7ms/step - loss: 0.4245 - accuracy: 1.0000\n",
            "Epoch 264/450\n",
            "3/3 [==============================] - 0s 7ms/step - loss: 0.4200 - accuracy: 0.9875\n",
            "Epoch 265/450\n",
            "3/3 [==============================] - 0s 6ms/step - loss: 0.4077 - accuracy: 0.9875\n",
            "Epoch 266/450\n",
            "3/3 [==============================] - 0s 7ms/step - loss: 0.4175 - accuracy: 0.9875\n",
            "Epoch 267/450\n",
            "3/3 [==============================] - 0s 7ms/step - loss: 0.4048 - accuracy: 1.0000\n",
            "Epoch 268/450\n",
            "3/3 [==============================] - 0s 30ms/step - loss: 0.4050 - accuracy: 0.9875\n",
            "Epoch 269/450\n",
            "3/3 [==============================] - 0s 13ms/step - loss: 0.3963 - accuracy: 0.9875\n",
            "Epoch 270/450\n",
            "3/3 [==============================] - 0s 10ms/step - loss: 0.3920 - accuracy: 0.9875\n",
            "Epoch 271/450\n",
            "3/3 [==============================] - 0s 8ms/step - loss: 0.3910 - accuracy: 0.9875\n",
            "Epoch 272/450\n",
            "3/3 [==============================] - 0s 11ms/step - loss: 0.3813 - accuracy: 0.9875\n",
            "Epoch 273/450\n",
            "3/3 [==============================] - 0s 6ms/step - loss: 0.3858 - accuracy: 0.9875\n",
            "Epoch 274/450\n",
            "3/3 [==============================] - 0s 11ms/step - loss: 0.3813 - accuracy: 0.9875\n",
            "Epoch 275/450\n",
            "3/3 [==============================] - 0s 7ms/step - loss: 0.3807 - accuracy: 0.9875\n",
            "Epoch 276/450\n",
            "3/3 [==============================] - 0s 10ms/step - loss: 0.3758 - accuracy: 0.9875\n",
            "Epoch 277/450\n",
            "3/3 [==============================] - 0s 6ms/step - loss: 0.3700 - accuracy: 0.9875\n",
            "Epoch 278/450\n",
            "3/3 [==============================] - 0s 9ms/step - loss: 0.3674 - accuracy: 0.9875\n",
            "Epoch 279/450\n",
            "3/3 [==============================] - 0s 12ms/step - loss: 0.3717 - accuracy: 0.9875\n",
            "Epoch 280/450\n",
            "3/3 [==============================] - 0s 6ms/step - loss: 0.3623 - accuracy: 0.9875\n",
            "Epoch 281/450\n",
            "3/3 [==============================] - 0s 2ms/step - loss: 0.3597 - accuracy: 0.9875\n",
            "Epoch 282/450\n",
            "3/3 [==============================] - 0s 14ms/step - loss: 0.3490 - accuracy: 0.9875\n",
            "Epoch 283/450\n",
            "3/3 [==============================] - 0s 10ms/step - loss: 0.3554 - accuracy: 0.9750\n",
            "Epoch 284/450\n",
            "3/3 [==============================] - 0s 4ms/step - loss: 0.3403 - accuracy: 0.9875\n",
            "Epoch 285/450\n",
            "3/3 [==============================] - 0s 11ms/step - loss: 0.3509 - accuracy: 0.9750\n",
            "Epoch 286/450\n",
            "3/3 [==============================] - 0s 19ms/step - loss: 0.3432 - accuracy: 0.9875\n",
            "Epoch 287/450\n",
            "3/3 [==============================] - 0s 6ms/step - loss: 0.3445 - accuracy: 1.0000\n",
            "Epoch 288/450\n",
            "3/3 [==============================] - 0s 6ms/step - loss: 0.3397 - accuracy: 0.9750\n",
            "Epoch 289/450\n",
            "3/3 [==============================] - 0s 10ms/step - loss: 0.3372 - accuracy: 0.9750\n",
            "Epoch 290/450\n",
            "3/3 [==============================] - 0s 7ms/step - loss: 0.3376 - accuracy: 0.9750\n",
            "Epoch 291/450\n",
            "3/3 [==============================] - 0s 6ms/step - loss: 0.3252 - accuracy: 0.9875\n",
            "Epoch 292/450\n",
            "3/3 [==============================] - 0s 7ms/step - loss: 0.3280 - accuracy: 1.0000\n",
            "Epoch 293/450\n",
            "3/3 [==============================] - 0s 4ms/step - loss: 0.3317 - accuracy: 0.9875\n",
            "Epoch 294/450\n",
            "3/3 [==============================] - 0s 7ms/step - loss: 0.3279 - accuracy: 0.9875\n",
            "Epoch 295/450\n",
            "3/3 [==============================] - 0s 10ms/step - loss: 0.3154 - accuracy: 0.9875\n",
            "Epoch 296/450\n",
            "3/3 [==============================] - 0s 6ms/step - loss: 0.3248 - accuracy: 0.9875\n",
            "Epoch 297/450\n",
            "3/3 [==============================] - 0s 7ms/step - loss: 0.3135 - accuracy: 0.9875\n",
            "Epoch 298/450\n",
            "3/3 [==============================] - 0s 8ms/step - loss: 0.3113 - accuracy: 0.9875\n",
            "Epoch 299/450\n",
            "3/3 [==============================] - 0s 8ms/step - loss: 0.3171 - accuracy: 0.9875\n",
            "Epoch 300/450\n",
            "3/3 [==============================] - 0s 7ms/step - loss: 0.3057 - accuracy: 0.9875\n",
            "Epoch 301/450\n",
            "3/3 [==============================] - 0s 7ms/step - loss: 0.3058 - accuracy: 0.9875\n",
            "Epoch 302/450\n",
            "3/3 [==============================] - 0s 6ms/step - loss: 0.2998 - accuracy: 0.9875\n",
            "Epoch 303/450\n",
            "3/3 [==============================] - 0s 16ms/step - loss: 0.2973 - accuracy: 0.9875\n",
            "Epoch 304/450\n",
            "3/3 [==============================] - 0s 9ms/step - loss: 0.3008 - accuracy: 0.9875\n",
            "Epoch 305/450\n",
            "3/3 [==============================] - 0s 10ms/step - loss: 0.2929 - accuracy: 0.9875\n",
            "Epoch 306/450\n",
            "3/3 [==============================] - 0s 7ms/step - loss: 0.2867 - accuracy: 0.9875\n",
            "Epoch 307/450\n",
            "3/3 [==============================] - 0s 13ms/step - loss: 0.2893 - accuracy: 0.9875\n",
            "Epoch 308/450\n",
            "3/3 [==============================] - 0s 10ms/step - loss: 0.2868 - accuracy: 0.9875\n",
            "Epoch 309/450\n",
            "3/3 [==============================] - 0s 7ms/step - loss: 0.2877 - accuracy: 0.9875\n",
            "Epoch 310/450\n",
            "3/3 [==============================] - 0s 7ms/step - loss: 0.2818 - accuracy: 0.9875\n",
            "Epoch 311/450\n",
            "3/3 [==============================] - 0s 6ms/step - loss: 0.2850 - accuracy: 0.9875\n",
            "Epoch 312/450\n",
            "3/3 [==============================] - 0s 7ms/step - loss: 0.2794 - accuracy: 0.9875\n",
            "Epoch 313/450\n",
            "3/3 [==============================] - 0s 9ms/step - loss: 0.2759 - accuracy: 0.9875\n",
            "Epoch 314/450\n",
            "3/3 [==============================] - 0s 5ms/step - loss: 0.2687 - accuracy: 1.0000\n",
            "Epoch 315/450\n",
            "3/3 [==============================] - 0s 9ms/step - loss: 0.2701 - accuracy: 0.9875\n",
            "Epoch 316/450\n",
            "3/3 [==============================] - 0s 10ms/step - loss: 0.2693 - accuracy: 1.0000\n",
            "Epoch 317/450\n",
            "3/3 [==============================] - 0s 7ms/step - loss: 0.2663 - accuracy: 1.0000\n",
            "Epoch 318/450\n",
            "3/3 [==============================] - 0s 8ms/step - loss: 0.2653 - accuracy: 0.9875\n",
            "Epoch 319/450\n",
            "3/3 [==============================] - 0s 9ms/step - loss: 0.2584 - accuracy: 0.9875\n",
            "Epoch 320/450\n",
            "3/3 [==============================] - 0s 12ms/step - loss: 0.2592 - accuracy: 0.9875\n",
            "Epoch 321/450\n",
            "3/3 [==============================] - 0s 8ms/step - loss: 0.2570 - accuracy: 0.9875\n",
            "Epoch 322/450\n",
            "3/3 [==============================] - 0s 6ms/step - loss: 0.2574 - accuracy: 0.9875\n",
            "Epoch 323/450\n",
            "3/3 [==============================] - 0s 7ms/step - loss: 0.2591 - accuracy: 1.0000\n",
            "Epoch 324/450\n",
            "3/3 [==============================] - 0s 12ms/step - loss: 0.2538 - accuracy: 0.9875\n",
            "Epoch 325/450\n",
            "3/3 [==============================] - 0s 8ms/step - loss: 0.2548 - accuracy: 0.9875\n",
            "Epoch 326/450\n",
            "3/3 [==============================] - 0s 8ms/step - loss: 0.2585 - accuracy: 0.9875\n",
            "Epoch 327/450\n",
            "3/3 [==============================] - 0s 8ms/step - loss: 0.2454 - accuracy: 0.9875\n",
            "Epoch 328/450\n",
            "3/3 [==============================] - 0s 7ms/step - loss: 0.2456 - accuracy: 0.9875\n",
            "Epoch 329/450\n",
            "3/3 [==============================] - 0s 6ms/step - loss: 0.2394 - accuracy: 0.9875\n",
            "Epoch 330/450\n",
            "3/3 [==============================] - 0s 15ms/step - loss: 0.2485 - accuracy: 0.9875\n",
            "Epoch 331/450\n",
            "3/3 [==============================] - 0s 7ms/step - loss: 0.2404 - accuracy: 1.0000\n",
            "Epoch 332/450\n",
            "3/3 [==============================] - 0s 7ms/step - loss: 0.2356 - accuracy: 1.0000\n",
            "Epoch 333/450\n",
            "3/3 [==============================] - 0s 8ms/step - loss: 0.2405 - accuracy: 0.9875\n",
            "Epoch 334/450\n",
            "3/3 [==============================] - 0s 7ms/step - loss: 0.2393 - accuracy: 0.9875\n",
            "Epoch 335/450\n",
            "3/3 [==============================] - 0s 7ms/step - loss: 0.2287 - accuracy: 1.0000\n",
            "Epoch 336/450\n",
            "3/3 [==============================] - 0s 8ms/step - loss: 0.2296 - accuracy: 0.9875\n",
            "Epoch 337/450\n",
            "3/3 [==============================] - 0s 7ms/step - loss: 0.2288 - accuracy: 1.0000\n",
            "Epoch 338/450\n",
            "3/3 [==============================] - 0s 7ms/step - loss: 0.2250 - accuracy: 0.9875\n",
            "Epoch 339/450\n",
            "3/3 [==============================] - 0s 7ms/step - loss: 0.2282 - accuracy: 0.9875\n",
            "Epoch 340/450\n",
            "3/3 [==============================] - 0s 4ms/step - loss: 0.2179 - accuracy: 0.9875\n",
            "Epoch 341/450\n",
            "3/3 [==============================] - 0s 7ms/step - loss: 0.2188 - accuracy: 1.0000\n",
            "Epoch 342/450\n",
            "3/3 [==============================] - 0s 5ms/step - loss: 0.2264 - accuracy: 1.0000\n",
            "Epoch 343/450\n",
            "3/3 [==============================] - 0s 5ms/step - loss: 0.2187 - accuracy: 0.9875\n",
            "Epoch 344/450\n",
            "3/3 [==============================] - 0s 7ms/step - loss: 0.2170 - accuracy: 1.0000\n",
            "Epoch 345/450\n",
            "3/3 [==============================] - 0s 7ms/step - loss: 0.2151 - accuracy: 1.0000\n",
            "Epoch 346/450\n",
            "3/3 [==============================] - 0s 7ms/step - loss: 0.2135 - accuracy: 1.0000\n",
            "Epoch 347/450\n",
            "3/3 [==============================] - 0s 9ms/step - loss: 0.2044 - accuracy: 1.0000\n",
            "Epoch 348/450\n",
            "3/3 [==============================] - 0s 8ms/step - loss: 0.2073 - accuracy: 1.0000\n",
            "Epoch 349/450\n",
            "3/3 [==============================] - 0s 15ms/step - loss: 0.2093 - accuracy: 0.9875\n",
            "Epoch 350/450\n",
            "3/3 [==============================] - 0s 7ms/step - loss: 0.2065 - accuracy: 1.0000\n",
            "Epoch 351/450\n",
            "3/3 [==============================] - 0s 7ms/step - loss: 0.2078 - accuracy: 0.9875\n",
            "Epoch 352/450\n",
            "3/3 [==============================] - 0s 7ms/step - loss: 0.2047 - accuracy: 1.0000\n",
            "Epoch 353/450\n",
            "3/3 [==============================] - 0s 9ms/step - loss: 0.2092 - accuracy: 1.0000\n",
            "Epoch 354/450\n",
            "3/3 [==============================] - 0s 8ms/step - loss: 0.2054 - accuracy: 0.9875\n",
            "Epoch 355/450\n",
            "3/3 [==============================] - 0s 7ms/step - loss: 0.2065 - accuracy: 0.9875\n",
            "Epoch 356/450\n",
            "3/3 [==============================] - 0s 8ms/step - loss: 0.1957 - accuracy: 0.9875\n",
            "Epoch 357/450\n",
            "3/3 [==============================] - 0s 6ms/step - loss: 0.1958 - accuracy: 0.9875\n",
            "Epoch 358/450\n",
            "3/3 [==============================] - 0s 8ms/step - loss: 0.1947 - accuracy: 0.9875\n",
            "Epoch 359/450\n",
            "3/3 [==============================] - 0s 7ms/step - loss: 0.1960 - accuracy: 0.9875\n",
            "Epoch 360/450\n",
            "3/3 [==============================] - 0s 9ms/step - loss: 0.1904 - accuracy: 1.0000\n",
            "Epoch 361/450\n",
            "3/3 [==============================] - 0s 8ms/step - loss: 0.1909 - accuracy: 1.0000\n",
            "Epoch 362/450\n",
            "3/3 [==============================] - 0s 9ms/step - loss: 0.1923 - accuracy: 0.9875\n",
            "Epoch 363/450\n",
            "3/3 [==============================] - 0s 6ms/step - loss: 0.1871 - accuracy: 0.9875\n",
            "Epoch 364/450\n",
            "3/3 [==============================] - 0s 8ms/step - loss: 0.1867 - accuracy: 0.9875\n",
            "Epoch 365/450\n",
            "3/3 [==============================] - 0s 9ms/step - loss: 0.1856 - accuracy: 0.9875\n",
            "Epoch 366/450\n",
            "3/3 [==============================] - 0s 5ms/step - loss: 0.1823 - accuracy: 0.9875\n",
            "Epoch 367/450\n",
            "3/3 [==============================] - 0s 18ms/step - loss: 0.1880 - accuracy: 0.9875\n",
            "Epoch 368/450\n",
            "3/3 [==============================] - 0s 13ms/step - loss: 0.1838 - accuracy: 0.9875\n",
            "Epoch 369/450\n",
            "3/3 [==============================] - 0s 8ms/step - loss: 0.1814 - accuracy: 1.0000\n",
            "Epoch 370/450\n",
            "3/3 [==============================] - 0s 9ms/step - loss: 0.1796 - accuracy: 0.9875\n",
            "Epoch 371/450\n",
            "3/3 [==============================] - 0s 7ms/step - loss: 0.1827 - accuracy: 0.9875\n",
            "Epoch 372/450\n",
            "3/3 [==============================] - 0s 5ms/step - loss: 0.1770 - accuracy: 1.0000\n",
            "Epoch 373/450\n",
            "3/3 [==============================] - 0s 6ms/step - loss: 0.1823 - accuracy: 0.9875\n",
            "Epoch 374/450\n",
            "3/3 [==============================] - 0s 5ms/step - loss: 0.1762 - accuracy: 1.0000\n",
            "Epoch 375/450\n",
            "3/3 [==============================] - 0s 7ms/step - loss: 0.1722 - accuracy: 1.0000\n",
            "Epoch 376/450\n",
            "3/3 [==============================] - 0s 6ms/step - loss: 0.1721 - accuracy: 1.0000\n",
            "Epoch 377/450\n",
            "3/3 [==============================] - 0s 6ms/step - loss: 0.1692 - accuracy: 0.9875\n",
            "Epoch 378/450\n",
            "3/3 [==============================] - 0s 3ms/step - loss: 0.1728 - accuracy: 1.0000\n",
            "Epoch 379/450\n",
            "3/3 [==============================] - 0s 8ms/step - loss: 0.1694 - accuracy: 1.0000\n",
            "Epoch 380/450\n",
            "3/3 [==============================] - 0s 8ms/step - loss: 0.1669 - accuracy: 1.0000\n",
            "Epoch 381/450\n",
            "3/3 [==============================] - 0s 8ms/step - loss: 0.1690 - accuracy: 1.0000\n",
            "Epoch 382/450\n",
            "3/3 [==============================] - 0s 7ms/step - loss: 0.1692 - accuracy: 1.0000\n",
            "Epoch 383/450\n",
            "3/3 [==============================] - 0s 6ms/step - loss: 0.1621 - accuracy: 1.0000\n",
            "Epoch 384/450\n",
            "3/3 [==============================] - 0s 8ms/step - loss: 0.1627 - accuracy: 1.0000\n",
            "Epoch 385/450\n",
            "3/3 [==============================] - 0s 9ms/step - loss: 0.1632 - accuracy: 1.0000\n",
            "Epoch 386/450\n",
            "3/3 [==============================] - 0s 8ms/step - loss: 0.1640 - accuracy: 0.9875\n",
            "Epoch 387/450\n",
            "3/3 [==============================] - 0s 5ms/step - loss: 0.1568 - accuracy: 1.0000\n",
            "Epoch 388/450\n",
            "3/3 [==============================] - 0s 7ms/step - loss: 0.1571 - accuracy: 1.0000\n",
            "Epoch 389/450\n",
            "3/3 [==============================] - 0s 8ms/step - loss: 0.1646 - accuracy: 1.0000\n",
            "Epoch 390/450\n",
            "3/3 [==============================] - 0s 9ms/step - loss: 0.1574 - accuracy: 1.0000\n",
            "Epoch 391/450\n",
            "3/3 [==============================] - 0s 7ms/step - loss: 0.1557 - accuracy: 0.9875\n",
            "Epoch 392/450\n",
            "3/3 [==============================] - 0s 8ms/step - loss: 0.1549 - accuracy: 1.0000\n",
            "Epoch 393/450\n",
            "3/3 [==============================] - 0s 7ms/step - loss: 0.1546 - accuracy: 1.0000\n",
            "Epoch 394/450\n",
            "3/3 [==============================] - 0s 9ms/step - loss: 0.1520 - accuracy: 1.0000\n",
            "Epoch 395/450\n",
            "3/3 [==============================] - 0s 7ms/step - loss: 0.1509 - accuracy: 1.0000\n",
            "Epoch 396/450\n",
            "3/3 [==============================] - 0s 8ms/step - loss: 0.1533 - accuracy: 1.0000\n",
            "Epoch 397/450\n",
            "3/3 [==============================] - 0s 12ms/step - loss: 0.1512 - accuracy: 1.0000\n",
            "Epoch 398/450\n",
            "3/3 [==============================] - 0s 8ms/step - loss: 0.1483 - accuracy: 1.0000\n",
            "Epoch 399/450\n",
            "3/3 [==============================] - 0s 20ms/step - loss: 0.1469 - accuracy: 1.0000\n",
            "Epoch 400/450\n",
            "3/3 [==============================] - 0s 6ms/step - loss: 0.1524 - accuracy: 0.9875\n",
            "Epoch 401/450\n",
            "3/3 [==============================] - 0s 6ms/step - loss: 0.1440 - accuracy: 1.0000\n",
            "Epoch 402/450\n",
            "3/3 [==============================] - 0s 27ms/step - loss: 0.1494 - accuracy: 1.0000\n",
            "Epoch 403/450\n",
            "3/3 [==============================] - 0s 7ms/step - loss: 0.1472 - accuracy: 1.0000\n",
            "Epoch 404/450\n",
            "3/3 [==============================] - 0s 7ms/step - loss: 0.1428 - accuracy: 1.0000\n",
            "Epoch 405/450\n",
            "3/3 [==============================] - 0s 6ms/step - loss: 0.1443 - accuracy: 1.0000\n",
            "Epoch 406/450\n",
            "3/3 [==============================] - 0s 6ms/step - loss: 0.1415 - accuracy: 1.0000\n",
            "Epoch 407/450\n",
            "3/3 [==============================] - 0s 7ms/step - loss: 0.1427 - accuracy: 1.0000\n",
            "Epoch 408/450\n",
            "3/3 [==============================] - 0s 8ms/step - loss: 0.1412 - accuracy: 1.0000\n",
            "Epoch 409/450\n",
            "3/3 [==============================] - 0s 9ms/step - loss: 0.1434 - accuracy: 1.0000\n",
            "Epoch 410/450\n",
            "3/3 [==============================] - 0s 7ms/step - loss: 0.1399 - accuracy: 1.0000\n",
            "Epoch 411/450\n",
            "3/3 [==============================] - 0s 7ms/step - loss: 0.1371 - accuracy: 1.0000\n",
            "Epoch 412/450\n",
            "3/3 [==============================] - 0s 7ms/step - loss: 0.1394 - accuracy: 1.0000\n",
            "Epoch 413/450\n",
            "3/3 [==============================] - 0s 7ms/step - loss: 0.1363 - accuracy: 1.0000\n",
            "Epoch 414/450\n",
            "3/3 [==============================] - 0s 0s/step - loss: 0.1405 - accuracy: 0.9875\n",
            "Epoch 415/450\n",
            "3/3 [==============================] - 0s 6ms/step - loss: 0.1367 - accuracy: 1.0000\n",
            "Epoch 416/450\n",
            "3/3 [==============================] - 0s 8ms/step - loss: 0.1359 - accuracy: 1.0000\n",
            "Epoch 417/450\n",
            "3/3 [==============================] - 0s 6ms/step - loss: 0.1351 - accuracy: 1.0000\n",
            "Epoch 418/450\n",
            "3/3 [==============================] - 0s 8ms/step - loss: 0.1328 - accuracy: 1.0000\n",
            "Epoch 419/450\n",
            "3/3 [==============================] - 0s 7ms/step - loss: 0.1312 - accuracy: 1.0000\n",
            "Epoch 420/450\n",
            "3/3 [==============================] - 0s 8ms/step - loss: 0.1293 - accuracy: 1.0000\n",
            "Epoch 421/450\n",
            "3/3 [==============================] - 0s 23ms/step - loss: 0.1299 - accuracy: 1.0000\n",
            "Epoch 422/450\n",
            "3/3 [==============================] - 0s 12ms/step - loss: 0.1276 - accuracy: 1.0000\n",
            "Epoch 423/450\n",
            "3/3 [==============================] - 0s 8ms/step - loss: 0.1296 - accuracy: 0.9875\n",
            "Epoch 424/450\n",
            "3/3 [==============================] - 0s 5ms/step - loss: 0.1266 - accuracy: 1.0000\n",
            "Epoch 425/450\n",
            "3/3 [==============================] - 0s 7ms/step - loss: 0.1293 - accuracy: 1.0000\n",
            "Epoch 426/450\n",
            "3/3 [==============================] - 0s 6ms/step - loss: 0.1285 - accuracy: 0.9875\n",
            "Epoch 427/450\n",
            "3/3 [==============================] - 0s 10ms/step - loss: 0.1261 - accuracy: 0.9875\n",
            "Epoch 428/450\n",
            "3/3 [==============================] - 0s 2ms/step - loss: 0.1248 - accuracy: 0.9875\n",
            "Epoch 429/450\n",
            "3/3 [==============================] - 0s 6ms/step - loss: 0.1250 - accuracy: 1.0000\n",
            "Epoch 430/450\n",
            "3/3 [==============================] - 0s 5ms/step - loss: 0.1242 - accuracy: 1.0000\n",
            "Epoch 431/450\n",
            "3/3 [==============================] - 0s 8ms/step - loss: 0.1220 - accuracy: 1.0000\n",
            "Epoch 432/450\n",
            "3/3 [==============================] - 0s 6ms/step - loss: 0.1203 - accuracy: 1.0000\n",
            "Epoch 433/450\n",
            "3/3 [==============================] - 0s 10ms/step - loss: 0.1212 - accuracy: 1.0000\n",
            "Epoch 434/450\n",
            "3/3 [==============================] - 0s 16ms/step - loss: 0.1210 - accuracy: 1.0000\n",
            "Epoch 435/450\n",
            "3/3 [==============================] - 0s 7ms/step - loss: 0.1182 - accuracy: 1.0000\n",
            "Epoch 436/450\n",
            "3/3 [==============================] - 0s 8ms/step - loss: 0.1184 - accuracy: 1.0000\n",
            "Epoch 437/450\n",
            "3/3 [==============================] - 0s 9ms/step - loss: 0.1210 - accuracy: 0.9875\n",
            "Epoch 438/450\n",
            "3/3 [==============================] - 0s 7ms/step - loss: 0.1171 - accuracy: 1.0000\n",
            "Epoch 439/450\n",
            "3/3 [==============================] - 0s 290us/step - loss: 0.1166 - accuracy: 0.9875\n",
            "Epoch 440/450\n",
            "3/3 [==============================] - 0s 13ms/step - loss: 0.1187 - accuracy: 0.9875\n",
            "Epoch 441/450\n",
            "3/3 [==============================] - 0s 4ms/step - loss: 0.1161 - accuracy: 0.9875\n",
            "Epoch 442/450\n",
            "3/3 [==============================] - 0s 7ms/step - loss: 0.1183 - accuracy: 1.0000\n",
            "Epoch 443/450\n",
            "3/3 [==============================] - 0s 10ms/step - loss: 0.1174 - accuracy: 1.0000\n",
            "Epoch 444/450\n",
            "3/3 [==============================] - 0s 8ms/step - loss: 0.1131 - accuracy: 1.0000\n",
            "Epoch 445/450\n",
            "3/3 [==============================] - 0s 10ms/step - loss: 0.1116 - accuracy: 1.0000\n",
            "Epoch 446/450\n",
            "3/3 [==============================] - 0s 7ms/step - loss: 0.1149 - accuracy: 1.0000\n",
            "Epoch 447/450\n",
            "3/3 [==============================] - 0s 11ms/step - loss: 0.1089 - accuracy: 1.0000\n",
            "Epoch 448/450\n",
            "3/3 [==============================] - 0s 7ms/step - loss: 0.1098 - accuracy: 1.0000\n",
            "Epoch 449/450\n",
            "3/3 [==============================] - 0s 9ms/step - loss: 0.1117 - accuracy: 1.0000\n",
            "Epoch 450/450\n",
            "3/3 [==============================] - 0s 7ms/step - loss: 0.1085 - accuracy: 1.0000\n"
          ]
        }
      ],
      "source": [
        "# Training the model (Melatih model data sampai 450 kali)\n",
        "train = model.fit(x_train, y_train, epochs=450)"
      ]
    },
    {
      "cell_type": "markdown",
      "id": "BfQP5TaPkGzB",
      "metadata": {
        "id": "BfQP5TaPkGzB"
      },
      "source": [
        "# **Evaluation Model Analysis**\n",
        "\n",
        "Setelah menjalankan pelatihan model dengan algoritma LSTM serta telah mengetahui hasil akurasi pada step terakhir. Maka, tahapan selanjutnya adalah menganalisa model dengan visualisasi plot akurasi dan loss untuk melihat hasil akurasi dari algoritma pelatihan model LSTM tersebut."
      ]
    },
    {
      "cell_type": "code",
      "execution_count": 26,
      "id": "FEz3P5djksfa",
      "metadata": {
        "colab": {
          "base_uri": "https://localhost:8080/",
          "height": 358
        },
        "id": "FEz3P5djksfa",
        "outputId": "7b669f96-f95b-4d61-e4c2-dfa37b01bc35"
      },
      "outputs": [
        {
          "data": {
            "image/png": "[encoded data removed]",
            "text/plain": [
              "<Figure size 1400x500 with 2 Axes>"
            ]
          },
          "metadata": {},
          "output_type": "display_data"
        }
      ],
      "source": [
        "# Plotting model Accuracy and Loss (Visualisasi Plot Hasil Akurasi dan Loss)\n",
        "# Plot Akurasi\n",
        "plt.figure(figsize=(14, 5))\n",
        "plt.subplot(1, 2, 1)\n",
        "plt.plot(train.history['accuracy'], label='Training Set Accuracy')\n",
        "plt.legend(loc='lower right')\n",
        "plt.title('Accuracy')\n",
        "# Plot Loss\n",
        "plt.subplot(1, 2, 2)\n",
        "plt.plot(train.history['loss'], label='Training Set Loss')\n",
        "plt.legend(loc='upper right')\n",
        "plt.title('Loss')\n",
        "plt.show()"
      ]
    },
    {
      "cell_type": "markdown",
      "id": "odsh6gL8CAfE",
      "metadata": {
        "id": "odsh6gL8CAfE"
      },
      "source": [
        "Terlihat bahwa model pelatihan chatbot dengan algoritma LSTM menghasilkan model yang baik dan tidak terjadi overfitting atau underfitting. Sehingga, model ini layak dilakukan pengujian dan evaluasi model chatbot yang diperoleh."
      ]
    },
    {
      "cell_type": "markdown",
      "id": "WcOYpQfuln4T",
      "metadata": {
        "id": "WcOYpQfuln4T"
      },
      "source": [
        "# **Testing Chatbot**\n",
        "\n",
        "Setelah mengetahui hasil dari akurasi dan loss pada model yang telah ditetapkan dengan LSTM. Maka, tahapan selanjutnya adalah menguji atau testing pada chatbot yang telah dilatih sebelumnya dan melihat apakah sesuai atau tidak pada saat kita masukan teks kalimat pertanyaannya.\n",
        "\n",
        "Pada pengujian ini menggunakan metode input atau masukan sesuai dengan kalimat pertanyaan yang dimasukkan."
      ]
    },
    {
      "cell_type": "code",
      "execution_count": 28,
      "id": "fao4rG4rlh1D",
      "metadata": {
        "colab": {
          "base_uri": "https://localhost:8080/",
          "height": 1000
        },
        "id": "fao4rG4rlh1D",
        "outputId": "1377336c-d420-4a48-8e90-250061057642"
      },
      "outputs": [
        {
          "name": "stdout",
          "output_type": "stream",
          "text": [
            "1/1 [==============================] - 0s 24ms/step\n",
            "🤖 KadekBot :  Kampus Merdeka merupakan kebijakan Menteri Pendidikan dan Kebudayaan Nadiem Makarim yang membebaskan mahasiswa untuk mengikuti kegiatan di luar program studinya selama 1 semester atau setara 20 sks dan paling lama 2 semester atau setara 40 sks.\n"
          ]
        },
        {
          "data": {
            "text/html": [
              "\n",
              "                <audio  controls=\"controls\" >\n",
              "                    <source src=\"data:audio/wav;base64,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\" type=\"audio/wav\" />\n",
              "                    Your browser does not support the audio element.\n",
              "                </audio>\n",
              "              "
            ],
            "text/plain": [
              "<IPython.lib.display.Audio object>"
            ]
          },
          "metadata": {},
          "output_type": "display_data"
        },
        {
          "name": "stdout",
          "output_type": "stream",
          "text": [
            "============================================================\n",
            "\n",
            "1/1 [==============================] - 0s 22ms/step\n",
            "🤖 KadekBot :  Halo! Saya Kadekbot, salam kenal ya! Mau tau tentang kampus merdeka, kan?\n"
          ]
        },
        {
          "data": {
            "text/html": [
              "\n",
              "                <audio  controls=\"controls\" >\n",
              "                    <source src=\"data:audio/wav;base64,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\" type=\"audio/wav\" />\n",
              "                    Your browser does not support the audio element.\n",
              "                </audio>\n",
              "              "
            ],
            "text/plain": [
              "<IPython.lib.display.Audio object>"
            ]
          },
          "metadata": {},
          "output_type": "display_data"
        },
        {
          "name": "stdout",
          "output_type": "stream",
          "text": [
            "============================================================\n",
            "\n",
            "1/1 [==============================] - 0s 22ms/step\n",
            "🤖 KadekBot :  Hai! Kadekbot di sini. Mau tau informasi tentang apa nih?\n"
          ]
        },
        {
          "data": {
            "text/html": [
              "\n",
              "                <audio  controls=\"controls\" >\n",
              "                    <source src=\"data:audio/wav;base64,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\" type=\"audio/wav\" />\n",
              "                    Your browser does not support the audio element.\n",
              "                </audio>\n",
              "              "
            ],
            "text/plain": [
              "<IPython.lib.display.Audio object>"
            ]
          },
          "metadata": {},
          "output_type": "display_data"
        },
        {
          "name": "stdout",
          "output_type": "stream",
          "text": [
            "============================================================\n",
            "\n",
            "1/1 [==============================] - 0s 21ms/step\n",
            "🤖 KadekBot :  Dahh, semoga harimu menyenangkan yaa!\n"
          ]
        },
        {
          "data": {
            "text/html": [
              "\n",
              "                <audio  controls=\"controls\" >\n",
              "                    <source src=\"data:audio/wav;base64,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\" type=\"audio/wav\" />\n",
              "                    Your browser does not support the audio element.\n",
              "                </audio>\n",
              "              "
            ],
            "text/plain": [
              "<IPython.lib.display.Audio object>"
            ]
          },
          "metadata": {},
          "output_type": "display_data"
        },
        {
          "name": "stdout",
          "output_type": "stream",
          "text": [
            "============================================================\n",
            "\n"
          ]
        }
      ],
      "source": [
        "# Membuat Input Chat\n",
        "while True:\n",
        "  texts_p = []\n",
        "  prediction_input = input('👨‍🦰 Kamu : ')\n",
        "\n",
        "  # Menghapus punktuasi atau tanda baca dan konversi ke huruf kecil\n",
        "  prediction_input = [letters.lower() for letters in prediction_input if letters not in string.punctuation]\n",
        "  prediction_input = ''.join(prediction_input)\n",
        "  texts_p.append(prediction_input)\n",
        "\n",
        "  # Melakukan Tokenisasi dan Padding pada data teks\n",
        "  prediction_input = tokenizer.texts_to_sequences(texts_p)\n",
        "  # Konversi data teks menjadi array\n",
        "  prediction_input = np.array(prediction_input).reshape(-1)\n",
        "  prediction_input = pad_sequences([prediction_input],input_shape)\n",
        "\n",
        "  # Mendapatkan hasil prediksi keluaran pada model\n",
        "  output = model.predict(prediction_input)\n",
        "  output = output.argmax()\n",
        "\n",
        "  # Menemukan respon sesuai data tag dan memainkan suara bot\n",
        "  response_tag = le.inverse_transform([output])[0]\n",
        "  # Bot akan melakukan random jawaban percakapan dari hasil pertanyaan\n",
        "  print(\"🤖 KadekBot : \", random.choice(responses[response_tag]))\n",
        "  # Tambahkan suara bot dengan Google Text to Speech\n",
        "  tts = gTTS(random.choice(responses[response_tag]), lang='id')\n",
        "  # Simpan model voice bot ke dalam Google Drive dengan format .wav\n",
        "  tts.save('KadekBot.wav')\n",
        "  # Atur waktu jeda sampai 8 detik\n",
        "  time.sleep(0.08)\n",
        "  # Ambil file model yang telah disimpan sebelumnya\n",
        "  ipd.display(ipd.Audio('KadekBot.wav', autoplay=False))\n",
        "  print(\"=\"*60 + \"\\n\")\n",
        "  # Tambahkan respon 'goodbye' agar bot bisa berhenti melakukan percakapan\n",
        "  if response_tag == \"goodbye\":\n",
        "    break"
      ]
    },
    {
      "cell_type": "markdown",
      "id": "PpFwQ9gWmWtk",
      "metadata": {
        "id": "PpFwQ9gWmWtk"
      },
      "source": [
        "# **Save The Model (Simpan Model)**\n",
        "\n",
        "Setelah pengujian Chatbot telah disesuaikan dengan kalimat dan jawabannya. Maka, model chatbot bisa disimpan dengan format .h5 atau .pkl (pickle) untuk penggunaan aplikasi AI Chatbot dengan website atau sistem Android. Penyimpanan file model bisa langsung secara transient file lokal komputer atau bisa taruh dalam cloud storage di Google Drive."
      ]
    },
    {
      "cell_type": "code",
      "execution_count": 29,
      "id": "MxdDHujDmaC0",
      "metadata": {
        "colab": {
          "base_uri": "https://localhost:8080/"
        },
        "id": "MxdDHujDmaC0",
        "outputId": "1ea42bc5-3f58-4143-f4f3-bd1938d89926"
      },
      "outputs": [
        {
          "name": "stdout",
          "output_type": "stream",
          "text": [
            "Model Created Successfully!\n"
          ]
        },
        {
          "name": "stderr",
          "output_type": "stream",
          "text": [
            "c:\\Users\\PC\\AppData\\Local\\Programs\\Python\\Python310\\lib\\site-packages\\keras\\src\\engine\\training.py:3000: UserWarning: You are saving your model as an HDF5 file via `model.save()`. This file format is considered legacy. We recommend using instead the native Keras format, e.g. `model.save('my_model.keras')`.\n",
            "  saving_api.save_model(\n"
          ]
        }
      ],
      "source": [
        "# Simpan model dalam bentuk format file .h5 atau .pkl (pickle)\n",
        "model.save('chat_model.h5')\n",
        "\n",
        "print('Model Created Successfully!')"
      ]
    }
  ],
  "metadata": {
    "colab": {
      "include_colab_link": true,
      "name": "DL_Chatbot.ipynb",
      "provenance": [],
      "toc_visible": true
    },
    "gpuClass": "standard",
    "kernelspec": {
      "display_name": "Python 3 (ipykernel)",
      "language": "python",
      "name": "python3"
    },
    "language_info": {
      "codemirror_mode": {
        "name": "ipython",
        "version": 3
      },
      "file_extension": ".py",
      "mimetype": "text/x-python",
      "name": "python",
      "nbconvert_exporter": "python",
      "pygments_lexer": "ipython3",
      "version": "3.10.0"
    },
    "latex_envs": {
      "LaTeX_envs_menu_present": true,
      "autoclose": false,
      "autocomplete": true,
      "bibliofile": "biblio.bib",
      "cite_by": "apalike",
      "current_citInitial": 1,
      "eqLabelWithNumbers": true,
      "eqNumInitial": 1,
      "hotkeys": {
        "equation": "Ctrl-E",
        "itemize": "Ctrl-I"
      },
      "labels_anchors": false,
      "latex_user_defs": false,
      "report_style_numbering": false,
      "user_envs_cfg": false
    },
    "varInspector": {
      "cols": {
        "lenName": 16,
        "lenType": 16,
        "lenVar": 40
      },
      "kernels_config": {
        "python": {
          "delete_cmd_postfix": "",
          "delete_cmd_prefix": "del ",
          "library": "var_list.py",
          "varRefreshCmd": "print(var_dic_list())"
        },
        "r": {
          "delete_cmd_postfix": ") ",
          "delete_cmd_prefix": "rm(",
          "library": "var_list.r",
          "varRefreshCmd": "cat(var_dic_list()) "
        }
      },
      "types_to_exclude": [
        "module",
        "function",
        "builtin_function_or_method",
        "instance",
        "_Feature"
      ],
      "window_display": false
    }
  },
  "nbformat": 4,
  "nbformat_minor": 5
}
